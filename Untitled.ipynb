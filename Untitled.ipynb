{
 "cells": [
  {
   "cell_type": "code",
   "execution_count": 31,
   "id": "d0d7fac3",
   "metadata": {},
   "outputs": [
    {
     "name": "stdout",
     "output_type": "stream",
     "text": [
      "Saved with DNF + literal counts -> data/all_norms_16variants_L_with_dnf.csv\n"
     ]
    }
   ],
   "source": [
    "import pandas as pd\n",
    "from sympy import symbols\n",
    "from sympy.logic.boolalg import And, Or, Not, simplify_logic, BooleanTrue, BooleanFalse\n",
    "\n",
    "A, R, E = symbols('A R E')\n",
    "\n",
    "\n",
    "def dnf_expr_from_8bit(vector_str: str):\n",
    "    \"\"\"\n",
    "    Return a simplified SymPy DNF *expression* for an 8-bit vector.\n",
    "    Bit order: DB_mean, DB_nice, DG_mean, DG_nice, CB_mean, CB_nice, CG_mean, CG_nice\n",
    "    Index mapping: i = 4*A + 2*R + E  with A=0/1(Defect/Cooperate), R=0/1(Bad/Good), E=0/1(Mean/Nice)\n",
    "    \"\"\"\n",
    "    s = ''.join(ch for ch in str(vector_str).strip() if ch in '01')\n",
    "    if len(s) != 8:\n",
    "        return BooleanFalse  # or raise\n",
    "\n",
    "    bits = [int(b) for b in s]\n",
    "    terms = []\n",
    "    for i, b in enumerate(bits):\n",
    "        if b == 1:\n",
    "            a = (i >> 2) & 1\n",
    "            r = (i >> 1) & 1\n",
    "            e =  i       & 1\n",
    "            terms.append(And(A if a else Not(A),\n",
    "                             R if r else Not(R),\n",
    "                             E if e else Not(E)))\n",
    "    if not terms:\n",
    "        return BooleanFalse\n",
    "    return simplify_logic(Or(*terms), form='dnf', force=True)\n",
    "\n",
    "def count_literals_expr(expr) -> int:\n",
    "    \"\"\"\n",
    "    Count literal occurrences in a SymPy boolean expression in DNF.\n",
    "    A literal is a Symbol or its negation (~Symbol).\n",
    "    \"\"\"\n",
    "    if expr is BooleanFalse:\n",
    "        return 0\n",
    "    if expr is BooleanTrue:   # shouldn't happen with DNF of 3 vars, but safe\n",
    "        return 1\n",
    "\n",
    "    count = 0\n",
    "\n",
    "    def recurse(node):\n",
    "        nonlocal count\n",
    "        # literal = Symbol or Not(Symbol)\n",
    "        if node.is_Symbol:\n",
    "            count += 1\n",
    "        elif isinstance(node, Not) and node.args and node.args[0].is_Symbol:\n",
    "            count += 1\n",
    "        else:\n",
    "            for arg in getattr(node, 'args', ()):\n",
    "                recurse(arg)\n",
    "\n",
    "    recurse(expr)\n",
    "    return count\n",
    "\n",
    "# ---------- config ----------\n",
    "INPUT_CSV  = \"data/all_norms_16variants_L.csv\"          # adjust path if needed\n",
    "OUTPUT_CSV = \"data/all_norms_16variants_L_with_dnf.csv\" # output path\n",
    "# ----------------------------\n",
    "\n",
    "# ---- Load, compute, save ----\n",
    "df = pd.read_csv(INPUT_CSV, dtype={\"4bit_orig\": str, \"8bit_vector\": str})\n",
    "df[\"8bit_vector\"] = df[\"8bit_vector\"].astype(str).str.replace(r\"[^01]\", \"\", regex=True).str.zfill(8)\n",
    "df[\"4bit_orig\"]   = df[\"4bit_orig\"].astype(str).str.replace(r\"[^01]\", \"\", regex=True).str.zfill(4)\n",
    "df = df[df[\"8bit_vector\"].str.len() == 8]\n",
    "\n",
    "# Compute DNF expressions\n",
    "dnf_exprs = df[\"8bit_vector\"].apply(dnf_expr_from_8bit)\n",
    "\n",
    "# Add columns\n",
    "df[\"DNF\"] = dnf_exprs.astype(str)                 # human-readable DNF\n",
    "df[\"DNF_literals\"] = dnf_exprs.apply(count_literals_expr)\n",
    "\n",
    "df.to_csv(OUTPUT_CSV, index=False)\n",
    "print(f\"Saved with DNF + literal counts -> {OUTPUT_CSV}\")"
   ]
  },
  {
   "cell_type": "code",
   "execution_count": null,
   "id": "2856a5f8",
   "metadata": {},
   "outputs": [],
   "source": []
  }
 ],
 "metadata": {
  "kernelspec": {
   "display_name": "Python 3 (ipykernel)",
   "language": "python",
   "name": "python3"
  },
  "language_info": {
   "codemirror_mode": {
    "name": "ipython",
    "version": 3
   },
   "file_extension": ".py",
   "mimetype": "text/x-python",
   "name": "python",
   "nbconvert_exporter": "python",
   "pygments_lexer": "ipython3",
   "version": "3.9.13"
  }
 },
 "nbformat": 4,
 "nbformat_minor": 5
}
