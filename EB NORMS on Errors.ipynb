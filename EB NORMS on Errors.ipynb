{
 "cells": [
  {
   "cell_type": "code",
   "execution_count": 45,
   "id": "bb86c545",
   "metadata": {},
   "outputs": [],
   "source": [
    "#!pip install altair pandas numpy\n",
    "import altair as alt\n",
    "import pandas as pd\n",
    "import numpy as np\n",
    "# norms\n",
    "# mean sj: (1,1,0,0,0,0,1,1)\n",
    "# nice sj: (1,1,0,1,0,1,1,1)\n",
    "\n",
    "ebnorms_b = [\"(1,1,0,0,0,0,1,1)\", \"(1,1,0,1,0,1,1,1)\", \"(1,1,1,0,1,0,1,1)\", \"(0,0,0,0,1,1,1,1)\", \"(0,1,0,1,1,1,1,1)\", \"(0,1,1,1,0,1,1,1)\",\n",
    "          \"(1,1,0,0,1,1,1,1)\", \"(1,1,0,1,1,1,1,1)\", \"(0,0,0,0,0,0,1,1)\", \"(0,1,0,1,0,1,1,1)\", \"(0,0,0,1,0,1,1,1)\"]\n",
    "\n",
    "ebnorms_n = [\"SJ normal\", \"SJ nice\", \"SJ Mean\", \"IS normal\", \"IS nice\", \"IS weird\",\n",
    "             \"SS normal\", \"SS nice\", \"SH normal\", \"SH normal\", \"IS Empirical\"]\n",
    "\n",
    "norms_simple_b = [\"(1,0,0,1)\", \"(1,0,1,1)\", \"(0,0,0,1)\", \"(0,0,1,1)\"]\n",
    "\n",
    "norms_simple_n = [\"SJ\", \"SS\", \"SH\", \"IS\"]\n",
    "\n",
    "columns = [\"EBNorm\", \"Norm\", \"z\", \"g\", \"mu\", \"chi\", \"eps\", \"alpha\", \"gamma\", \"pdx\", \"acr\", \"B\", \"G\", \"AllD\", \"pDisc\", \"Disc\", \"AllC\", \"mean\", \"nice\"]\n",
    "\n",
    "def load_and_process() -> pd.DataFrame: \n",
    "    data: pd.DataFrame = pd.read_csv(\"outputs/results.txt\", sep=\"\\t\", header=None, names=columns, index_col=False)\n",
    "    data.eps = data.eps / data.z\n",
    "    data.chi = data.chi / data.z\n",
    "    data.alpha = data.alpha / data.z\n",
    "    data.dropna()\n",
    "    data.EBNorm = data.EBNorm.replace(ebnorms_b, ebnorms_n)\n",
    "    data.Norm = data.Norm.replace(norms_simple_b, norms_simple_n)\n",
    "    #data = data.tail(50000)\n",
    "    return data\n",
    "\n",
    "def filter(frame: pd.DataFrame, feature: str, condition) -> pd.DataFrame:\n",
    "    return frame[frame[feature]==condition]\n",
    "    \n",
    "data = load_and_process()\n"
   ]
  },
  {
   "cell_type": "code",
   "execution_count": 61,
   "id": "b8aabaca",
   "metadata": {},
   "outputs": [
    {
     "data": {
      "text/plain": [
       "0.00002    165665\n",
       "0.02000      4933\n",
       "0.00200      4412\n",
       "0.20000      4400\n",
       "0.00020      4397\n",
       "0.01800      1055\n",
       "0.01840      1055\n",
       "0.01820      1054\n",
       "0.01860      1051\n",
       "0.01880      1049\n",
       "0.01900      1049\n",
       "0.01920       759\n",
       "0.01960       528\n",
       "0.01940       527\n",
       "0.01980       526\n",
       "Name: eps, dtype: int64"
      ]
     },
     "execution_count": 61,
     "metadata": {},
     "output_type": "execute_result"
    }
   ],
   "source": [
    "data.eps.value_counts()"
   ]
  },
  {
   "cell_type": "code",
   "execution_count": 36,
   "id": "2513bafa",
   "metadata": {},
   "outputs": [],
   "source": [
    "chosen_norm: str = \"IS Empirical\"\n",
    "filtered = data[data.EBNorm == chosen_norm]\n",
    "filtered = filtered[filtered.Norm == \"IS\"]\n",
    "filtered = filter(filtered, \"z\", 50)\n",
    "filtered = filter(filtered, \"eps\", 0.00002)\n",
    "filtered = filter(filtered, \"chi\", 0.00002)\n",
    "#filtered = filter(filtered, \"alpha\", 0.00002)\n",
    "\n",
    "#new_cols = [\"gamma\", \"eps\", \"acr\", \"g_reps\", \"nice_eps\", \"AllD\", \"pDisc\", \"Disc\", \"AllC\"]\n",
    "#new_cols = [\"gamma\", \"chi\", \"acr\", \"g_reps\", \"nice_eps\", \"AllD\", \"pDisc\", \"Disc\", \"AllC\"]\n",
    "new_cols = [\"gamma\", \"alpha\", \"acr\", \"g_reps\", \"nice_eps\", \"AllD\", \"pDisc\", \"Disc\", \"AllC\"]\n",
    "new_df = pd.DataFrame(columns=new_cols)\n",
    "\n",
    "gammas = [round(a, 2) for a in np.arange(0, 1.01, 0.1)]\n",
    "epsilons = [0.00002, 0.0002, 0.002, 0.02, 0.2]\n",
    "chis = [0.00002, 0.0002, 0.002, 0.02, 0.2]\n",
    "alphas = [0.00002, 0.0002, 0.002, 0.02, 0.2]\n",
    "\n",
    "for gamma in gammas:\n",
    "    #for epsilon in epsilons:\n",
    "    #for chi in chis:\n",
    "    for alpha in alphas:\n",
    "        #super_filtered = filtered[(filtered.gamma == gamma) & (filtered.eps == epsilon)]\n",
    "        #super_filtered = filtered[(filtered.gamma == gamma) & (filtered.chi == chi)]\n",
    "        super_filtered = filtered[(filtered.gamma == gamma) & (filtered.alpha == alpha)]\n",
    "        \n",
    "        mean_acr: float = super_filtered.acr.mean()\n",
    "        mean_greps: float = super_filtered.G.mean()\n",
    "        mean_niceeps: float = super_filtered.nice.mean()\n",
    "    \n",
    "        mean_AllC: float = super_filtered.AllC.mean()\n",
    "        mean_Disc: float = super_filtered.Disc.mean()\n",
    "        mean_AllD: float = super_filtered.AllD.mean()\n",
    "        mean_pDisc: float = super_filtered.pDisc.mean()\n",
    "        #new_df.loc[len(new_df)] = [gamma, epsilon, mean_acr, mean_greps, mean_niceeps, mean_AllD, mean_pDisc, mean_Disc, mean_AllC]\n",
    "        #new_df.loc[len(new_df)] = [gamma, chi, mean_acr, mean_greps, mean_niceeps, mean_AllD, mean_pDisc, mean_Disc, mean_AllC]\n",
    "        new_df.loc[len(new_df)] = [gamma, alpha, mean_acr, mean_greps, mean_niceeps, mean_AllD, mean_pDisc, mean_Disc, mean_AllC]\n",
    "\n",
    "feature: str = \"acr\" + \":Q\"\n",
    "            \n",
    "heatmap = alt.Chart(new_df).mark_rect().encode(\n",
    "    #x='chi:O',\n",
    "    #x='eps:O',\n",
    "    x='alpha:O',\n",
    "    y=alt.Y('gamma:O', sort=alt.EncodingSortField('gamma', order='descending')),\n",
    "    color=alt.Color(feature, scale=alt.Scale(domain=[0,90]))\n",
    ").properties(\n",
    "    height=400,\n",
    "    width=400,\n",
    "    title = chosen_norm\n",
    ")\n",
    "\n",
    "text = heatmap.mark_text().encode(\n",
    "    text=alt.Text(feature, format=\".2f\"),\n",
    "    color=alt.value('black')\n",
    ")\n",
    "\n",
    "#heatmap+text"
   ]
  },
  {
   "cell_type": "markdown",
   "id": "c35a1ccd",
   "metadata": {},
   "source": [
    "## DIFFERENCE\n",
    "### gamma in [0, 1] +0.1\n"
   ]
  },
  {
   "cell_type": "code",
   "execution_count": 37,
   "id": "79ab4b6f",
   "metadata": {},
   "outputs": [
    {
     "name": "stderr",
     "output_type": "stream",
     "text": [
      "C:\\Users\\henri\\AppData\\Local\\Temp\\ipykernel_18140\\3917264150.py:22: DtypeWarning:\n",
      "\n",
      "Columns (9) have mixed types. Specify dtype option on import or set low_memory=False.\n",
      "\n"
     ]
    },
    {
     "ename": "ValueError",
     "evalue": "cannot set a row with mismatched columns",
     "output_type": "error",
     "traceback": [
      "\u001b[1;31m---------------------------------------------------------------------------\u001b[0m",
      "\u001b[1;31mValueError\u001b[0m                                Traceback (most recent call last)",
      "\u001b[1;32m~\\AppData\\Local\\Temp\\ipykernel_18140\\3333948055.py\u001b[0m in \u001b[0;36m<module>\u001b[1;34m\u001b[0m\n\u001b[0;32m     25\u001b[0m         \u001b[0mmean_acr_normal\u001b[0m \u001b[1;33m=\u001b[0m \u001b[0msuper_filtered\u001b[0m\u001b[1;33m[\u001b[0m\u001b[0msuper_filtered\u001b[0m\u001b[1;33m.\u001b[0m\u001b[0mEBNorm\u001b[0m \u001b[1;33m==\u001b[0m \u001b[1;34m\"IS normal\"\u001b[0m\u001b[1;33m]\u001b[0m\u001b[1;33m.\u001b[0m\u001b[0macr\u001b[0m\u001b[1;33m.\u001b[0m\u001b[0mmean\u001b[0m\u001b[1;33m(\u001b[0m\u001b[1;33m)\u001b[0m\u001b[1;33m\u001b[0m\u001b[1;33m\u001b[0m\u001b[0m\n\u001b[0;32m     26\u001b[0m \u001b[1;33m\u001b[0m\u001b[0m\n\u001b[1;32m---> 27\u001b[1;33m         \u001b[0mnew_df\u001b[0m\u001b[1;33m.\u001b[0m\u001b[0mloc\u001b[0m\u001b[1;33m[\u001b[0m\u001b[0mlen\u001b[0m\u001b[1;33m(\u001b[0m\u001b[0mnew_df\u001b[0m\u001b[1;33m)\u001b[0m\u001b[1;33m]\u001b[0m \u001b[1;33m=\u001b[0m \u001b[1;33m[\u001b[0m\u001b[0mgamma\u001b[0m\u001b[1;33m,\u001b[0m \u001b[0mparameter_value\u001b[0m\u001b[1;33m,\u001b[0m \u001b[0mmean_acr_nice\u001b[0m \u001b[1;33m-\u001b[0m \u001b[0mmean_acr_normal\u001b[0m\u001b[1;33m,\u001b[0m \u001b[0msuper_filtered\u001b[0m\u001b[1;33m.\u001b[0m\u001b[0mshape\u001b[0m\u001b[1;33m[\u001b[0m\u001b[1;36m1\u001b[0m\u001b[1;33m]\u001b[0m\u001b[1;33m]\u001b[0m\u001b[1;33m\u001b[0m\u001b[1;33m\u001b[0m\u001b[0m\n\u001b[0m\u001b[0;32m     28\u001b[0m \u001b[1;33m\u001b[0m\u001b[0m\n\u001b[0;32m     29\u001b[0m \u001b[1;31m# Define feature for Altair chart\u001b[0m\u001b[1;33m\u001b[0m\u001b[1;33m\u001b[0m\u001b[0m\n",
      "\u001b[1;32m~\\anaconda3\\lib\\site-packages\\pandas\\core\\indexing.py\u001b[0m in \u001b[0;36m__setitem__\u001b[1;34m(self, key, value)\u001b[0m\n\u001b[0;32m    714\u001b[0m \u001b[1;33m\u001b[0m\u001b[0m\n\u001b[0;32m    715\u001b[0m         \u001b[0miloc\u001b[0m \u001b[1;33m=\u001b[0m \u001b[0mself\u001b[0m \u001b[1;32mif\u001b[0m \u001b[0mself\u001b[0m\u001b[1;33m.\u001b[0m\u001b[0mname\u001b[0m \u001b[1;33m==\u001b[0m \u001b[1;34m\"iloc\"\u001b[0m \u001b[1;32melse\u001b[0m \u001b[0mself\u001b[0m\u001b[1;33m.\u001b[0m\u001b[0mobj\u001b[0m\u001b[1;33m.\u001b[0m\u001b[0miloc\u001b[0m\u001b[1;33m\u001b[0m\u001b[1;33m\u001b[0m\u001b[0m\n\u001b[1;32m--> 716\u001b[1;33m         \u001b[0miloc\u001b[0m\u001b[1;33m.\u001b[0m\u001b[0m_setitem_with_indexer\u001b[0m\u001b[1;33m(\u001b[0m\u001b[0mindexer\u001b[0m\u001b[1;33m,\u001b[0m \u001b[0mvalue\u001b[0m\u001b[1;33m,\u001b[0m \u001b[0mself\u001b[0m\u001b[1;33m.\u001b[0m\u001b[0mname\u001b[0m\u001b[1;33m)\u001b[0m\u001b[1;33m\u001b[0m\u001b[1;33m\u001b[0m\u001b[0m\n\u001b[0m\u001b[0;32m    717\u001b[0m \u001b[1;33m\u001b[0m\u001b[0m\n\u001b[0;32m    718\u001b[0m     \u001b[1;32mdef\u001b[0m \u001b[0m_validate_key\u001b[0m\u001b[1;33m(\u001b[0m\u001b[0mself\u001b[0m\u001b[1;33m,\u001b[0m \u001b[0mkey\u001b[0m\u001b[1;33m,\u001b[0m \u001b[0maxis\u001b[0m\u001b[1;33m:\u001b[0m \u001b[0mint\u001b[0m\u001b[1;33m)\u001b[0m\u001b[1;33m:\u001b[0m\u001b[1;33m\u001b[0m\u001b[1;33m\u001b[0m\u001b[0m\n",
      "\u001b[1;32m~\\anaconda3\\lib\\site-packages\\pandas\\core\\indexing.py\u001b[0m in \u001b[0;36m_setitem_with_indexer\u001b[1;34m(self, indexer, value, name)\u001b[0m\n\u001b[0;32m   1683\u001b[0m \u001b[1;33m\u001b[0m\u001b[0m\n\u001b[0;32m   1684\u001b[0m             \u001b[1;32mif\u001b[0m \u001b[0mmissing\u001b[0m\u001b[1;33m:\u001b[0m\u001b[1;33m\u001b[0m\u001b[1;33m\u001b[0m\u001b[0m\n\u001b[1;32m-> 1685\u001b[1;33m                 \u001b[0mself\u001b[0m\u001b[1;33m.\u001b[0m\u001b[0m_setitem_with_indexer_missing\u001b[0m\u001b[1;33m(\u001b[0m\u001b[0mindexer\u001b[0m\u001b[1;33m,\u001b[0m \u001b[0mvalue\u001b[0m\u001b[1;33m)\u001b[0m\u001b[1;33m\u001b[0m\u001b[1;33m\u001b[0m\u001b[0m\n\u001b[0m\u001b[0;32m   1686\u001b[0m                 \u001b[1;32mreturn\u001b[0m\u001b[1;33m\u001b[0m\u001b[1;33m\u001b[0m\u001b[0m\n\u001b[0;32m   1687\u001b[0m \u001b[1;33m\u001b[0m\u001b[0m\n",
      "\u001b[1;32m~\\anaconda3\\lib\\site-packages\\pandas\\core\\indexing.py\u001b[0m in \u001b[0;36m_setitem_with_indexer_missing\u001b[1;34m(self, indexer, value)\u001b[0m\n\u001b[0;32m   2001\u001b[0m                     \u001b[1;31m# must have conforming columns\u001b[0m\u001b[1;33m\u001b[0m\u001b[1;33m\u001b[0m\u001b[0m\n\u001b[0;32m   2002\u001b[0m                     \u001b[1;32mif\u001b[0m \u001b[0mlen\u001b[0m\u001b[1;33m(\u001b[0m\u001b[0mvalue\u001b[0m\u001b[1;33m)\u001b[0m \u001b[1;33m!=\u001b[0m \u001b[0mlen\u001b[0m\u001b[1;33m(\u001b[0m\u001b[0mself\u001b[0m\u001b[1;33m.\u001b[0m\u001b[0mobj\u001b[0m\u001b[1;33m.\u001b[0m\u001b[0mcolumns\u001b[0m\u001b[1;33m)\u001b[0m\u001b[1;33m:\u001b[0m\u001b[1;33m\u001b[0m\u001b[1;33m\u001b[0m\u001b[0m\n\u001b[1;32m-> 2003\u001b[1;33m                         \u001b[1;32mraise\u001b[0m \u001b[0mValueError\u001b[0m\u001b[1;33m(\u001b[0m\u001b[1;34m\"cannot set a row with mismatched columns\"\u001b[0m\u001b[1;33m)\u001b[0m\u001b[1;33m\u001b[0m\u001b[1;33m\u001b[0m\u001b[0m\n\u001b[0m\u001b[0;32m   2004\u001b[0m \u001b[1;33m\u001b[0m\u001b[0m\n\u001b[0;32m   2005\u001b[0m                 \u001b[0mvalue\u001b[0m \u001b[1;33m=\u001b[0m \u001b[0mSeries\u001b[0m\u001b[1;33m(\u001b[0m\u001b[0mvalue\u001b[0m\u001b[1;33m,\u001b[0m \u001b[0mindex\u001b[0m\u001b[1;33m=\u001b[0m\u001b[0mself\u001b[0m\u001b[1;33m.\u001b[0m\u001b[0mobj\u001b[0m\u001b[1;33m.\u001b[0m\u001b[0mcolumns\u001b[0m\u001b[1;33m,\u001b[0m \u001b[0mname\u001b[0m\u001b[1;33m=\u001b[0m\u001b[0mindexer\u001b[0m\u001b[1;33m)\u001b[0m\u001b[1;33m\u001b[0m\u001b[1;33m\u001b[0m\u001b[0m\n",
      "\u001b[1;31mValueError\u001b[0m: cannot set a row with mismatched columns"
     ]
    }
   ],
   "source": [
    "data = load_and_process()\n",
    "\n",
    "chosen_parameter = \"eps\"\n",
    "\n",
    "# Initial filtering\n",
    "filtered = filter(data, \"z\", 50)\n",
    "filtered = filter(filtered, \"eps\", 0.00002) if chosen_parameter != \"eps\" else filtered\n",
    "filtered = filter(filtered, \"chi\", 0.00002) if chosen_parameter != \"chi\" else filtered\n",
    "filtered = filter(filtered, \"alpha\", 0.00002) if chosen_parameter != \"alpha\" else filtered\n",
    "\n",
    "# Define columns based on the chosen parameter\n",
    "new_cols = [\"gamma\", chosen_parameter, \"acr\"]\n",
    "new_df = pd.DataFrame(columns=new_cols)\n",
    "\n",
    "gammas = [round(a, 2) for a in np.arange(0, 1.01, 0.1)]\n",
    "\n",
    "# Define values based on the chosen parameter\n",
    "parameter_values = [0.00002, 0.0002, 0.002, 0.02, 0.2]\n",
    "\n",
    "for gamma in gammas:\n",
    "    for parameter_value in parameter_values:\n",
    "        super_filtered = filtered[(filtered.gamma == gamma) & (filtered[chosen_parameter] == parameter_value)]\n",
    "        \n",
    "        mean_acr_nice = super_filtered[super_filtered.EBNorm == \"IS Empirical\"].acr.mean()\n",
    "        mean_acr_normal = super_filtered[super_filtered.EBNorm == \"IS normal\"].acr.mean()\n",
    "        \n",
    "        new_df.loc[len(new_df)] = [gamma, parameter_value, mean_acr_nice - mean_acr_normal, super_filtered.shape[1]]\n",
    "\n",
    "# Define feature for Altair chart\n",
    "feature = \"acr:Q\"\n",
    "\n",
    "# Create Altair chart\n",
    "heatmap = alt.Chart(new_df).mark_rect().encode(\n",
    "    x=f\"{chosen_parameter}:O\",\n",
    "    y=alt.Y('gamma:O', sort=alt.EncodingSortField('gamma', order='descending')),\n",
    "    color=alt.Color(feature, scale=alt.Scale(domain=[-63, 63], scheme='blueorange'), sort=\"descending\")\n",
    ").properties(\n",
    "    height=400,\n",
    "    width=400,\n",
    "    title=\"ACR Difference between EB-IS and IS\"\n",
    ")\n",
    "\n",
    "# Add text annotations to the chart\n",
    "text = heatmap.mark_text().encode(\n",
    "    text=alt.Text(feature, format=\".2f\"),\n",
    "    color=alt.value('black')\n",
    ")\n",
    "\n",
    "# Display the chart with text annotations\n",
    "heatmap + text"
   ]
  },
  {
   "cell_type": "markdown",
   "id": "e225c3a5",
   "metadata": {},
   "source": [
    "## Difference\n",
    "### gamma in [0.9, 1] +0.01"
   ]
  },
  {
   "cell_type": "code",
   "execution_count": 38,
   "id": "a277c1f0",
   "metadata": {},
   "outputs": [],
   "source": [
    "def heatmap(chosen_parameter, absolute=False):\n",
    "    data = load_and_process()\n",
    "\n",
    "    # Initial filtering\n",
    "    filtered = filter(data, \"z\", 50)\n",
    "    filtered = filter(filtered, \"eps\", 0.00002) if chosen_parameter != \"eps\" else filtered\n",
    "    filtered = filter(filtered, \"chi\", 0.00002) if chosen_parameter != \"chi\" else filtered\n",
    "    filtered = filter(filtered, \"alpha\", 0.00002) if chosen_parameter != \"alpha\" else filtered\n",
    "    \n",
    "    print(\"filtered size = \", filtered.shape)\n",
    "\n",
    "    # Define columns based on the chosen parameter\n",
    "    new_cols = [\"gamma\", chosen_parameter, \"acr\", \"acr_diff\", \"samples\", \"standard_deviation\"]\n",
    "    new_df = pd.DataFrame(columns=new_cols)\n",
    "\n",
    "    gammas = [round(a, 2) for a in np.arange(0, 1.01, 0.1)]\n",
    "    #gammas = filtered.gamma.unique()\n",
    "\n",
    "    # Define values based on the chosen parameter\n",
    "    parameter_values = [0.00002, 0.0002, 0.002, 0.02, 0.2]\n",
    "\n",
    "    for gamma in gammas:\n",
    "        for parameter_value in parameter_values:\n",
    "            super_filtered = filtered[(filtered.gamma == gamma) & (filtered[chosen_parameter] == parameter_value)]\n",
    "            mean_acr_nice = super_filtered[super_filtered.EBNorm == \"IS Empirical\"].acr.mean()\n",
    "            mean_acr_normal = super_filtered[super_filtered.EBNorm == \"IS normal\"].acr.mean()\n",
    "            \n",
    "            std_acr_nice = super_filtered[super_filtered.EBNorm == \"IS Empirical\"].acr.std()\n",
    "\n",
    "            new_df.loc[len(new_df)] = [gamma, parameter_value, mean_acr_nice, mean_acr_nice - mean_acr_normal, super_filtered.shape[0], std_acr_nice]\n",
    "\n",
    "    # Define feature for Altair chart\n",
    "    feature = \"acr:Q\" if absolute else \"acr_diff:Q\"\n",
    "    domain = [0, 100] if absolute else [-20, 80] \n",
    "\n",
    "    # Create Altair chart\n",
    "    heatmap = alt.Chart(new_df).mark_rect().encode(\n",
    "        x=f\"{chosen_parameter}:O\",\n",
    "        y=alt.Y('gamma:O', sort=alt.EncodingSortField('gamma', order='descending')),\n",
    "        color=alt.Color(feature, scale=alt.Scale(domain=domain, scheme='blueorange'), sort=\"descending\")\n",
    "    ).properties(\n",
    "        height=400,\n",
    "        width=400,\n",
    "        title=\"ACR Difference between EB-IS and IS\"\n",
    "    )\n",
    "\n",
    "    # Add text annotations to the chart\n",
    "    text = heatmap.mark_text().encode(\n",
    "        text=alt.Text(feature, format=\".2f\"),\n",
    "        color=alt.value('black')\n",
    "    )\n",
    "\n",
    "    # Display the chart with text annotations\n",
    "    #heatmap + text\n",
    "    return new_df, (heatmap + text)"
   ]
  },
  {
   "cell_type": "code",
   "execution_count": 47,
   "id": "025d7d0b",
   "metadata": {},
   "outputs": [
    {
     "name": "stdout",
     "output_type": "stream",
     "text": [
      "filtered size =  (61538, 19)\n",
      "filtered size =  (135966, 19)\n",
      "filtered size =  (58634, 19)\n"
     ]
    }
   ],
   "source": [
    "chi_df, c = heatmap(\"chi\")\n",
    "alpha_df, c = heatmap(\"alpha\")\n",
    "eps_df, c = heatmap(\"eps\")"
   ]
  },
  {
   "cell_type": "code",
   "execution_count": 48,
   "id": "e1ed2a17",
   "metadata": {},
   "outputs": [
    {
     "data": {
      "text/html": [
       "<div>\n",
       "<style scoped>\n",
       "    .dataframe tbody tr th:only-of-type {\n",
       "        vertical-align: middle;\n",
       "    }\n",
       "\n",
       "    .dataframe tbody tr th {\n",
       "        vertical-align: top;\n",
       "    }\n",
       "\n",
       "    .dataframe thead th {\n",
       "        text-align: right;\n",
       "    }\n",
       "</style>\n",
       "<table border=\"1\" class=\"dataframe\">\n",
       "  <thead>\n",
       "    <tr style=\"text-align: right;\">\n",
       "      <th></th>\n",
       "      <th>gamma</th>\n",
       "      <th>alpha</th>\n",
       "      <th>acr</th>\n",
       "      <th>acr_diff</th>\n",
       "      <th>samples</th>\n",
       "      <th>standard_deviation</th>\n",
       "    </tr>\n",
       "  </thead>\n",
       "  <tbody>\n",
       "    <tr>\n",
       "      <th>0</th>\n",
       "      <td>0.0</td>\n",
       "      <td>0.00002</td>\n",
       "      <td>17.923854</td>\n",
       "      <td>0.060565</td>\n",
       "      <td>904.0</td>\n",
       "      <td>15.004806</td>\n",
       "    </tr>\n",
       "    <tr>\n",
       "      <th>1</th>\n",
       "      <td>0.0</td>\n",
       "      <td>0.00020</td>\n",
       "      <td>19.629362</td>\n",
       "      <td>-0.000021</td>\n",
       "      <td>299.0</td>\n",
       "      <td>15.387152</td>\n",
       "    </tr>\n",
       "    <tr>\n",
       "      <th>2</th>\n",
       "      <td>0.0</td>\n",
       "      <td>0.00200</td>\n",
       "      <td>18.097475</td>\n",
       "      <td>2.286795</td>\n",
       "      <td>299.0</td>\n",
       "      <td>14.381806</td>\n",
       "    </tr>\n",
       "    <tr>\n",
       "      <th>3</th>\n",
       "      <td>0.0</td>\n",
       "      <td>0.02000</td>\n",
       "      <td>11.437927</td>\n",
       "      <td>-0.332629</td>\n",
       "      <td>400.0</td>\n",
       "      <td>8.560451</td>\n",
       "    </tr>\n",
       "    <tr>\n",
       "      <th>4</th>\n",
       "      <td>0.0</td>\n",
       "      <td>0.20000</td>\n",
       "      <td>5.015794</td>\n",
       "      <td>0.716055</td>\n",
       "      <td>298.0</td>\n",
       "      <td>6.000460</td>\n",
       "    </tr>\n",
       "    <tr>\n",
       "      <th>5</th>\n",
       "      <td>0.1</td>\n",
       "      <td>0.00002</td>\n",
       "      <td>29.990949</td>\n",
       "      <td>10.374778</td>\n",
       "      <td>903.0</td>\n",
       "      <td>27.940624</td>\n",
       "    </tr>\n",
       "    <tr>\n",
       "      <th>6</th>\n",
       "      <td>0.1</td>\n",
       "      <td>0.00020</td>\n",
       "      <td>32.949540</td>\n",
       "      <td>13.446818</td>\n",
       "      <td>299.0</td>\n",
       "      <td>29.627791</td>\n",
       "    </tr>\n",
       "    <tr>\n",
       "      <th>7</th>\n",
       "      <td>0.1</td>\n",
       "      <td>0.00200</td>\n",
       "      <td>26.510328</td>\n",
       "      <td>8.351669</td>\n",
       "      <td>299.0</td>\n",
       "      <td>26.130788</td>\n",
       "    </tr>\n",
       "    <tr>\n",
       "      <th>8</th>\n",
       "      <td>0.1</td>\n",
       "      <td>0.02000</td>\n",
       "      <td>15.702494</td>\n",
       "      <td>3.321504</td>\n",
       "      <td>399.0</td>\n",
       "      <td>11.319834</td>\n",
       "    </tr>\n",
       "    <tr>\n",
       "      <th>9</th>\n",
       "      <td>0.1</td>\n",
       "      <td>0.20000</td>\n",
       "      <td>4.606155</td>\n",
       "      <td>-0.254731</td>\n",
       "      <td>300.0</td>\n",
       "      <td>6.006490</td>\n",
       "    </tr>\n",
       "    <tr>\n",
       "      <th>10</th>\n",
       "      <td>0.2</td>\n",
       "      <td>0.00002</td>\n",
       "      <td>36.280165</td>\n",
       "      <td>17.613052</td>\n",
       "      <td>902.0</td>\n",
       "      <td>30.540368</td>\n",
       "    </tr>\n",
       "    <tr>\n",
       "      <th>11</th>\n",
       "      <td>0.2</td>\n",
       "      <td>0.00020</td>\n",
       "      <td>30.225419</td>\n",
       "      <td>11.309637</td>\n",
       "      <td>300.0</td>\n",
       "      <td>28.386206</td>\n",
       "    </tr>\n",
       "    <tr>\n",
       "      <th>12</th>\n",
       "      <td>0.2</td>\n",
       "      <td>0.00200</td>\n",
       "      <td>33.227399</td>\n",
       "      <td>14.121376</td>\n",
       "      <td>299.0</td>\n",
       "      <td>29.717653</td>\n",
       "    </tr>\n",
       "    <tr>\n",
       "      <th>13</th>\n",
       "      <td>0.2</td>\n",
       "      <td>0.02000</td>\n",
       "      <td>18.295308</td>\n",
       "      <td>7.434179</td>\n",
       "      <td>400.0</td>\n",
       "      <td>15.588469</td>\n",
       "    </tr>\n",
       "    <tr>\n",
       "      <th>14</th>\n",
       "      <td>0.2</td>\n",
       "      <td>0.20000</td>\n",
       "      <td>5.852063</td>\n",
       "      <td>1.368103</td>\n",
       "      <td>300.0</td>\n",
       "      <td>8.179562</td>\n",
       "    </tr>\n",
       "    <tr>\n",
       "      <th>15</th>\n",
       "      <td>0.3</td>\n",
       "      <td>0.00002</td>\n",
       "      <td>33.528706</td>\n",
       "      <td>15.450859</td>\n",
       "      <td>902.0</td>\n",
       "      <td>29.937279</td>\n",
       "    </tr>\n",
       "    <tr>\n",
       "      <th>16</th>\n",
       "      <td>0.3</td>\n",
       "      <td>0.00020</td>\n",
       "      <td>38.982880</td>\n",
       "      <td>18.369103</td>\n",
       "      <td>300.0</td>\n",
       "      <td>33.879416</td>\n",
       "    </tr>\n",
       "    <tr>\n",
       "      <th>17</th>\n",
       "      <td>0.3</td>\n",
       "      <td>0.00200</td>\n",
       "      <td>36.714419</td>\n",
       "      <td>20.049452</td>\n",
       "      <td>300.0</td>\n",
       "      <td>32.984377</td>\n",
       "    </tr>\n",
       "    <tr>\n",
       "      <th>18</th>\n",
       "      <td>0.3</td>\n",
       "      <td>0.02000</td>\n",
       "      <td>26.935088</td>\n",
       "      <td>14.203603</td>\n",
       "      <td>399.0</td>\n",
       "      <td>22.017066</td>\n",
       "    </tr>\n",
       "    <tr>\n",
       "      <th>19</th>\n",
       "      <td>0.3</td>\n",
       "      <td>0.20000</td>\n",
       "      <td>7.366339</td>\n",
       "      <td>2.993569</td>\n",
       "      <td>297.0</td>\n",
       "      <td>10.114533</td>\n",
       "    </tr>\n",
       "    <tr>\n",
       "      <th>20</th>\n",
       "      <td>0.4</td>\n",
       "      <td>0.00002</td>\n",
       "      <td>38.407637</td>\n",
       "      <td>19.397458</td>\n",
       "      <td>901.0</td>\n",
       "      <td>32.448445</td>\n",
       "    </tr>\n",
       "    <tr>\n",
       "      <th>21</th>\n",
       "      <td>0.4</td>\n",
       "      <td>0.00020</td>\n",
       "      <td>39.579880</td>\n",
       "      <td>22.693382</td>\n",
       "      <td>298.0</td>\n",
       "      <td>34.819857</td>\n",
       "    </tr>\n",
       "    <tr>\n",
       "      <th>22</th>\n",
       "      <td>0.4</td>\n",
       "      <td>0.00200</td>\n",
       "      <td>45.698558</td>\n",
       "      <td>27.237655</td>\n",
       "      <td>300.0</td>\n",
       "      <td>34.816228</td>\n",
       "    </tr>\n",
       "    <tr>\n",
       "      <th>23</th>\n",
       "      <td>0.4</td>\n",
       "      <td>0.02000</td>\n",
       "      <td>40.155589</td>\n",
       "      <td>27.592631</td>\n",
       "      <td>399.0</td>\n",
       "      <td>27.862768</td>\n",
       "    </tr>\n",
       "    <tr>\n",
       "      <th>24</th>\n",
       "      <td>0.4</td>\n",
       "      <td>0.20000</td>\n",
       "      <td>7.501794</td>\n",
       "      <td>2.624254</td>\n",
       "      <td>299.0</td>\n",
       "      <td>11.164528</td>\n",
       "    </tr>\n",
       "    <tr>\n",
       "      <th>25</th>\n",
       "      <td>0.5</td>\n",
       "      <td>0.00002</td>\n",
       "      <td>41.626447</td>\n",
       "      <td>24.073051</td>\n",
       "      <td>902.0</td>\n",
       "      <td>33.968688</td>\n",
       "    </tr>\n",
       "    <tr>\n",
       "      <th>26</th>\n",
       "      <td>0.5</td>\n",
       "      <td>0.00020</td>\n",
       "      <td>41.755118</td>\n",
       "      <td>23.407227</td>\n",
       "      <td>299.0</td>\n",
       "      <td>34.898073</td>\n",
       "    </tr>\n",
       "    <tr>\n",
       "      <th>27</th>\n",
       "      <td>0.5</td>\n",
       "      <td>0.00200</td>\n",
       "      <td>44.258813</td>\n",
       "      <td>27.064398</td>\n",
       "      <td>299.0</td>\n",
       "      <td>34.414364</td>\n",
       "    </tr>\n",
       "    <tr>\n",
       "      <th>28</th>\n",
       "      <td>0.5</td>\n",
       "      <td>0.02000</td>\n",
       "      <td>48.404827</td>\n",
       "      <td>36.461585</td>\n",
       "      <td>399.0</td>\n",
       "      <td>31.237463</td>\n",
       "    </tr>\n",
       "    <tr>\n",
       "      <th>29</th>\n",
       "      <td>0.5</td>\n",
       "      <td>0.20000</td>\n",
       "      <td>10.529108</td>\n",
       "      <td>5.131193</td>\n",
       "      <td>300.0</td>\n",
       "      <td>15.981892</td>\n",
       "    </tr>\n",
       "    <tr>\n",
       "      <th>30</th>\n",
       "      <td>0.6</td>\n",
       "      <td>0.00002</td>\n",
       "      <td>46.036118</td>\n",
       "      <td>27.647969</td>\n",
       "      <td>902.0</td>\n",
       "      <td>34.191483</td>\n",
       "    </tr>\n",
       "    <tr>\n",
       "      <th>31</th>\n",
       "      <td>0.6</td>\n",
       "      <td>0.00020</td>\n",
       "      <td>44.130522</td>\n",
       "      <td>24.437446</td>\n",
       "      <td>300.0</td>\n",
       "      <td>34.092520</td>\n",
       "    </tr>\n",
       "    <tr>\n",
       "      <th>32</th>\n",
       "      <td>0.6</td>\n",
       "      <td>0.00200</td>\n",
       "      <td>53.919274</td>\n",
       "      <td>36.349750</td>\n",
       "      <td>300.0</td>\n",
       "      <td>33.800469</td>\n",
       "    </tr>\n",
       "    <tr>\n",
       "      <th>33</th>\n",
       "      <td>0.6</td>\n",
       "      <td>0.02000</td>\n",
       "      <td>57.795245</td>\n",
       "      <td>46.723475</td>\n",
       "      <td>398.0</td>\n",
       "      <td>33.272628</td>\n",
       "    </tr>\n",
       "    <tr>\n",
       "      <th>34</th>\n",
       "      <td>0.6</td>\n",
       "      <td>0.20000</td>\n",
       "      <td>11.924128</td>\n",
       "      <td>7.597030</td>\n",
       "      <td>299.0</td>\n",
       "      <td>18.482385</td>\n",
       "    </tr>\n",
       "    <tr>\n",
       "      <th>35</th>\n",
       "      <td>0.7</td>\n",
       "      <td>0.00002</td>\n",
       "      <td>46.907675</td>\n",
       "      <td>28.023278</td>\n",
       "      <td>902.0</td>\n",
       "      <td>34.191648</td>\n",
       "    </tr>\n",
       "    <tr>\n",
       "      <th>36</th>\n",
       "      <td>0.7</td>\n",
       "      <td>0.00020</td>\n",
       "      <td>53.219338</td>\n",
       "      <td>34.292101</td>\n",
       "      <td>297.0</td>\n",
       "      <td>33.056950</td>\n",
       "    </tr>\n",
       "    <tr>\n",
       "      <th>37</th>\n",
       "      <td>0.7</td>\n",
       "      <td>0.00200</td>\n",
       "      <td>59.061041</td>\n",
       "      <td>41.448502</td>\n",
       "      <td>298.0</td>\n",
       "      <td>33.132088</td>\n",
       "    </tr>\n",
       "    <tr>\n",
       "      <th>38</th>\n",
       "      <td>0.7</td>\n",
       "      <td>0.02000</td>\n",
       "      <td>66.049908</td>\n",
       "      <td>53.761649</td>\n",
       "      <td>400.0</td>\n",
       "      <td>28.812954</td>\n",
       "    </tr>\n",
       "    <tr>\n",
       "      <th>39</th>\n",
       "      <td>0.7</td>\n",
       "      <td>0.20000</td>\n",
       "      <td>16.451331</td>\n",
       "      <td>11.718600</td>\n",
       "      <td>300.0</td>\n",
       "      <td>24.581400</td>\n",
       "    </tr>\n",
       "    <tr>\n",
       "      <th>40</th>\n",
       "      <td>0.8</td>\n",
       "      <td>0.00002</td>\n",
       "      <td>51.334396</td>\n",
       "      <td>32.847667</td>\n",
       "      <td>903.0</td>\n",
       "      <td>32.932205</td>\n",
       "    </tr>\n",
       "    <tr>\n",
       "      <th>41</th>\n",
       "      <td>0.8</td>\n",
       "      <td>0.00020</td>\n",
       "      <td>56.819507</td>\n",
       "      <td>38.576298</td>\n",
       "      <td>297.0</td>\n",
       "      <td>34.563240</td>\n",
       "    </tr>\n",
       "    <tr>\n",
       "      <th>42</th>\n",
       "      <td>0.8</td>\n",
       "      <td>0.00200</td>\n",
       "      <td>64.164379</td>\n",
       "      <td>44.923904</td>\n",
       "      <td>300.0</td>\n",
       "      <td>29.408231</td>\n",
       "    </tr>\n",
       "    <tr>\n",
       "      <th>43</th>\n",
       "      <td>0.8</td>\n",
       "      <td>0.02000</td>\n",
       "      <td>69.181910</td>\n",
       "      <td>57.900481</td>\n",
       "      <td>400.0</td>\n",
       "      <td>27.835253</td>\n",
       "    </tr>\n",
       "    <tr>\n",
       "      <th>44</th>\n",
       "      <td>0.8</td>\n",
       "      <td>0.20000</td>\n",
       "      <td>20.281079</td>\n",
       "      <td>15.818773</td>\n",
       "      <td>300.0</td>\n",
       "      <td>28.357228</td>\n",
       "    </tr>\n",
       "    <tr>\n",
       "      <th>45</th>\n",
       "      <td>0.9</td>\n",
       "      <td>0.00002</td>\n",
       "      <td>57.478507</td>\n",
       "      <td>38.931164</td>\n",
       "      <td>2895.0</td>\n",
       "      <td>31.249967</td>\n",
       "    </tr>\n",
       "    <tr>\n",
       "      <th>46</th>\n",
       "      <td>0.9</td>\n",
       "      <td>0.00020</td>\n",
       "      <td>66.417510</td>\n",
       "      <td>47.475857</td>\n",
       "      <td>2092.0</td>\n",
       "      <td>27.667368</td>\n",
       "    </tr>\n",
       "    <tr>\n",
       "      <th>47</th>\n",
       "      <td>0.9</td>\n",
       "      <td>0.00200</td>\n",
       "      <td>72.077193</td>\n",
       "      <td>54.539431</td>\n",
       "      <td>2093.0</td>\n",
       "      <td>26.088694</td>\n",
       "    </tr>\n",
       "    <tr>\n",
       "      <th>48</th>\n",
       "      <td>0.9</td>\n",
       "      <td>0.02000</td>\n",
       "      <td>70.932893</td>\n",
       "      <td>59.152282</td>\n",
       "      <td>2191.0</td>\n",
       "      <td>28.194435</td>\n",
       "    </tr>\n",
       "    <tr>\n",
       "      <th>49</th>\n",
       "      <td>0.9</td>\n",
       "      <td>0.20000</td>\n",
       "      <td>19.159719</td>\n",
       "      <td>14.374480</td>\n",
       "      <td>2094.0</td>\n",
       "      <td>26.911703</td>\n",
       "    </tr>\n",
       "    <tr>\n",
       "      <th>50</th>\n",
       "      <td>1.0</td>\n",
       "      <td>0.00002</td>\n",
       "      <td>3.320327</td>\n",
       "      <td>-15.266650</td>\n",
       "      <td>2893.0</td>\n",
       "      <td>4.271812</td>\n",
       "    </tr>\n",
       "    <tr>\n",
       "      <th>51</th>\n",
       "      <td>1.0</td>\n",
       "      <td>0.00020</td>\n",
       "      <td>3.192668</td>\n",
       "      <td>-15.082064</td>\n",
       "      <td>2091.0</td>\n",
       "      <td>4.290864</td>\n",
       "    </tr>\n",
       "    <tr>\n",
       "      <th>52</th>\n",
       "      <td>1.0</td>\n",
       "      <td>0.00200</td>\n",
       "      <td>6.539592</td>\n",
       "      <td>-11.061516</td>\n",
       "      <td>2095.0</td>\n",
       "      <td>8.620425</td>\n",
       "    </tr>\n",
       "    <tr>\n",
       "      <th>53</th>\n",
       "      <td>1.0</td>\n",
       "      <td>0.02000</td>\n",
       "      <td>30.167237</td>\n",
       "      <td>17.870083</td>\n",
       "      <td>2190.0</td>\n",
       "      <td>30.956131</td>\n",
       "    </tr>\n",
       "    <tr>\n",
       "      <th>54</th>\n",
       "      <td>1.0</td>\n",
       "      <td>0.20000</td>\n",
       "      <td>14.692454</td>\n",
       "      <td>10.005599</td>\n",
       "      <td>2095.0</td>\n",
       "      <td>22.209626</td>\n",
       "    </tr>\n",
       "  </tbody>\n",
       "</table>\n",
       "</div>"
      ],
      "text/plain": [
       "    gamma    alpha        acr   acr_diff  samples  standard_deviation\n",
       "0     0.0  0.00002  17.923854   0.060565    904.0           15.004806\n",
       "1     0.0  0.00020  19.629362  -0.000021    299.0           15.387152\n",
       "2     0.0  0.00200  18.097475   2.286795    299.0           14.381806\n",
       "3     0.0  0.02000  11.437927  -0.332629    400.0            8.560451\n",
       "4     0.0  0.20000   5.015794   0.716055    298.0            6.000460\n",
       "5     0.1  0.00002  29.990949  10.374778    903.0           27.940624\n",
       "6     0.1  0.00020  32.949540  13.446818    299.0           29.627791\n",
       "7     0.1  0.00200  26.510328   8.351669    299.0           26.130788\n",
       "8     0.1  0.02000  15.702494   3.321504    399.0           11.319834\n",
       "9     0.1  0.20000   4.606155  -0.254731    300.0            6.006490\n",
       "10    0.2  0.00002  36.280165  17.613052    902.0           30.540368\n",
       "11    0.2  0.00020  30.225419  11.309637    300.0           28.386206\n",
       "12    0.2  0.00200  33.227399  14.121376    299.0           29.717653\n",
       "13    0.2  0.02000  18.295308   7.434179    400.0           15.588469\n",
       "14    0.2  0.20000   5.852063   1.368103    300.0            8.179562\n",
       "15    0.3  0.00002  33.528706  15.450859    902.0           29.937279\n",
       "16    0.3  0.00020  38.982880  18.369103    300.0           33.879416\n",
       "17    0.3  0.00200  36.714419  20.049452    300.0           32.984377\n",
       "18    0.3  0.02000  26.935088  14.203603    399.0           22.017066\n",
       "19    0.3  0.20000   7.366339   2.993569    297.0           10.114533\n",
       "20    0.4  0.00002  38.407637  19.397458    901.0           32.448445\n",
       "21    0.4  0.00020  39.579880  22.693382    298.0           34.819857\n",
       "22    0.4  0.00200  45.698558  27.237655    300.0           34.816228\n",
       "23    0.4  0.02000  40.155589  27.592631    399.0           27.862768\n",
       "24    0.4  0.20000   7.501794   2.624254    299.0           11.164528\n",
       "25    0.5  0.00002  41.626447  24.073051    902.0           33.968688\n",
       "26    0.5  0.00020  41.755118  23.407227    299.0           34.898073\n",
       "27    0.5  0.00200  44.258813  27.064398    299.0           34.414364\n",
       "28    0.5  0.02000  48.404827  36.461585    399.0           31.237463\n",
       "29    0.5  0.20000  10.529108   5.131193    300.0           15.981892\n",
       "30    0.6  0.00002  46.036118  27.647969    902.0           34.191483\n",
       "31    0.6  0.00020  44.130522  24.437446    300.0           34.092520\n",
       "32    0.6  0.00200  53.919274  36.349750    300.0           33.800469\n",
       "33    0.6  0.02000  57.795245  46.723475    398.0           33.272628\n",
       "34    0.6  0.20000  11.924128   7.597030    299.0           18.482385\n",
       "35    0.7  0.00002  46.907675  28.023278    902.0           34.191648\n",
       "36    0.7  0.00020  53.219338  34.292101    297.0           33.056950\n",
       "37    0.7  0.00200  59.061041  41.448502    298.0           33.132088\n",
       "38    0.7  0.02000  66.049908  53.761649    400.0           28.812954\n",
       "39    0.7  0.20000  16.451331  11.718600    300.0           24.581400\n",
       "40    0.8  0.00002  51.334396  32.847667    903.0           32.932205\n",
       "41    0.8  0.00020  56.819507  38.576298    297.0           34.563240\n",
       "42    0.8  0.00200  64.164379  44.923904    300.0           29.408231\n",
       "43    0.8  0.02000  69.181910  57.900481    400.0           27.835253\n",
       "44    0.8  0.20000  20.281079  15.818773    300.0           28.357228\n",
       "45    0.9  0.00002  57.478507  38.931164   2895.0           31.249967\n",
       "46    0.9  0.00020  66.417510  47.475857   2092.0           27.667368\n",
       "47    0.9  0.00200  72.077193  54.539431   2093.0           26.088694\n",
       "48    0.9  0.02000  70.932893  59.152282   2191.0           28.194435\n",
       "49    0.9  0.20000  19.159719  14.374480   2094.0           26.911703\n",
       "50    1.0  0.00002   3.320327 -15.266650   2893.0            4.271812\n",
       "51    1.0  0.00020   3.192668 -15.082064   2091.0            4.290864\n",
       "52    1.0  0.00200   6.539592 -11.061516   2095.0            8.620425\n",
       "53    1.0  0.02000  30.167237  17.870083   2190.0           30.956131\n",
       "54    1.0  0.20000  14.692454  10.005599   2095.0           22.209626"
      ]
     },
     "execution_count": 48,
     "metadata": {},
     "output_type": "execute_result"
    }
   ],
   "source": [
    "alpha_df"
   ]
  },
  {
   "cell_type": "code",
   "execution_count": 55,
   "id": "379399b7",
   "metadata": {},
   "outputs": [
    {
     "data": {
      "application/vnd.plotly.v1+json": {
       "config": {
        "plotlyServerURL": "https://plot.ly"
       },
       "data": [
        {
         "colorscale": [
          [
           0,
           "rgb(103,0,31)"
          ],
          [
           0.1,
           "rgb(178,24,43)"
          ],
          [
           0.2,
           "rgb(214,96,77)"
          ],
          [
           0.3,
           "rgb(244,165,130)"
          ],
          [
           0.4,
           "rgb(253,219,199)"
          ],
          [
           0.5,
           "rgb(247,247,247)"
          ],
          [
           0.6,
           "rgb(209,229,240)"
          ],
          [
           0.7,
           "rgb(146,197,222)"
          ],
          [
           0.8,
           "rgb(67,147,195)"
          ],
          [
           0.9,
           "rgb(33,102,172)"
          ],
          [
           1,
           "rgb(5,48,97)"
          ]
         ],
         "contours": {
          "showlabels": true
         },
         "ncontours": 15,
         "type": "contour",
         "x": [
          2e-05,
          0.0002,
          0.002,
          0.02,
          0.2
         ],
         "y": [
          0,
          0.1,
          0.2,
          0.3,
          0.4,
          0.5,
          0.6,
          0.7,
          0.8,
          0.9,
          1
         ],
         "z": [
          [
           0.06056478548329025,
           -1.1178352211606857,
           2.65465895566018,
           -0.19350717354337377,
           -0.9036258539160507
          ],
          [
           10.374778053899107,
           8.133440624047665,
           9.28428394220694,
           2.5433543937332885,
           0.6988389337040948
          ],
          [
           17.613051601963125,
           16.17377470643693,
           17.713369545687183,
           7.4098543353427555,
           0.9019332618638298
          ],
          [
           15.450858793330962,
           14.087409590675144,
           23.553445150249335,
           12.250953271485685,
           2.9622613886155627
          ],
          [
           19.397458006608232,
           25.6588976865919,
           21.68042434257111,
           21.545122383483523,
           4.596283151158083
          ],
          [
           24.073051063625666,
           27.67959437681033,
           30.093700339403664,
           29.176143365986075,
           11.977708114532135
          ],
          [
           27.647968854752115,
           28.48160184465333,
           33.598253707173406,
           38.193964202595524,
           23.944229705875596
          ],
          [
           28.023278063328785,
           28.832675850294272,
           33.25917923258249,
           45.77031090902411,
           31.164120224940344
          ],
          [
           32.84766745343639,
           35.20278699569997,
           34.24562877660934,
           55.86174651862528,
           36.52492098462175
          ],
          [
           38.93116397624008,
           44.41362667263542,
           46.18460811240534,
           60.720470363567024,
           25.253878905816848
          ],
          [
           -15.266650000857041,
           -14.871349689054727,
           -14.202494642797905,
           -7.785512866611442,
           -3.329729243014582
          ]
         ],
         "zmax": 65,
         "zmin": -65
        }
       ],
       "layout": {
        "font": {
         "size": 18
        },
        "height": 800,
        "template": {
         "data": {
          "bar": [
           {
            "error_x": {
             "color": "#2a3f5f"
            },
            "error_y": {
             "color": "#2a3f5f"
            },
            "marker": {
             "line": {
              "color": "#E5ECF6",
              "width": 0.5
             },
             "pattern": {
              "fillmode": "overlay",
              "size": 10,
              "solidity": 0.2
             }
            },
            "type": "bar"
           }
          ],
          "barpolar": [
           {
            "marker": {
             "line": {
              "color": "#E5ECF6",
              "width": 0.5
             },
             "pattern": {
              "fillmode": "overlay",
              "size": 10,
              "solidity": 0.2
             }
            },
            "type": "barpolar"
           }
          ],
          "carpet": [
           {
            "aaxis": {
             "endlinecolor": "#2a3f5f",
             "gridcolor": "white",
             "linecolor": "white",
             "minorgridcolor": "white",
             "startlinecolor": "#2a3f5f"
            },
            "baxis": {
             "endlinecolor": "#2a3f5f",
             "gridcolor": "white",
             "linecolor": "white",
             "minorgridcolor": "white",
             "startlinecolor": "#2a3f5f"
            },
            "type": "carpet"
           }
          ],
          "choropleth": [
           {
            "colorbar": {
             "outlinewidth": 0,
             "ticks": ""
            },
            "type": "choropleth"
           }
          ],
          "contour": [
           {
            "colorbar": {
             "outlinewidth": 0,
             "ticks": ""
            },
            "colorscale": [
             [
              0,
              "#0d0887"
             ],
             [
              0.1111111111111111,
              "#46039f"
             ],
             [
              0.2222222222222222,
              "#7201a8"
             ],
             [
              0.3333333333333333,
              "#9c179e"
             ],
             [
              0.4444444444444444,
              "#bd3786"
             ],
             [
              0.5555555555555556,
              "#d8576b"
             ],
             [
              0.6666666666666666,
              "#ed7953"
             ],
             [
              0.7777777777777778,
              "#fb9f3a"
             ],
             [
              0.8888888888888888,
              "#fdca26"
             ],
             [
              1,
              "#f0f921"
             ]
            ],
            "type": "contour"
           }
          ],
          "contourcarpet": [
           {
            "colorbar": {
             "outlinewidth": 0,
             "ticks": ""
            },
            "type": "contourcarpet"
           }
          ],
          "heatmap": [
           {
            "colorbar": {
             "outlinewidth": 0,
             "ticks": ""
            },
            "colorscale": [
             [
              0,
              "#0d0887"
             ],
             [
              0.1111111111111111,
              "#46039f"
             ],
             [
              0.2222222222222222,
              "#7201a8"
             ],
             [
              0.3333333333333333,
              "#9c179e"
             ],
             [
              0.4444444444444444,
              "#bd3786"
             ],
             [
              0.5555555555555556,
              "#d8576b"
             ],
             [
              0.6666666666666666,
              "#ed7953"
             ],
             [
              0.7777777777777778,
              "#fb9f3a"
             ],
             [
              0.8888888888888888,
              "#fdca26"
             ],
             [
              1,
              "#f0f921"
             ]
            ],
            "type": "heatmap"
           }
          ],
          "heatmapgl": [
           {
            "colorbar": {
             "outlinewidth": 0,
             "ticks": ""
            },
            "colorscale": [
             [
              0,
              "#0d0887"
             ],
             [
              0.1111111111111111,
              "#46039f"
             ],
             [
              0.2222222222222222,
              "#7201a8"
             ],
             [
              0.3333333333333333,
              "#9c179e"
             ],
             [
              0.4444444444444444,
              "#bd3786"
             ],
             [
              0.5555555555555556,
              "#d8576b"
             ],
             [
              0.6666666666666666,
              "#ed7953"
             ],
             [
              0.7777777777777778,
              "#fb9f3a"
             ],
             [
              0.8888888888888888,
              "#fdca26"
             ],
             [
              1,
              "#f0f921"
             ]
            ],
            "type": "heatmapgl"
           }
          ],
          "histogram": [
           {
            "marker": {
             "pattern": {
              "fillmode": "overlay",
              "size": 10,
              "solidity": 0.2
             }
            },
            "type": "histogram"
           }
          ],
          "histogram2d": [
           {
            "colorbar": {
             "outlinewidth": 0,
             "ticks": ""
            },
            "colorscale": [
             [
              0,
              "#0d0887"
             ],
             [
              0.1111111111111111,
              "#46039f"
             ],
             [
              0.2222222222222222,
              "#7201a8"
             ],
             [
              0.3333333333333333,
              "#9c179e"
             ],
             [
              0.4444444444444444,
              "#bd3786"
             ],
             [
              0.5555555555555556,
              "#d8576b"
             ],
             [
              0.6666666666666666,
              "#ed7953"
             ],
             [
              0.7777777777777778,
              "#fb9f3a"
             ],
             [
              0.8888888888888888,
              "#fdca26"
             ],
             [
              1,
              "#f0f921"
             ]
            ],
            "type": "histogram2d"
           }
          ],
          "histogram2dcontour": [
           {
            "colorbar": {
             "outlinewidth": 0,
             "ticks": ""
            },
            "colorscale": [
             [
              0,
              "#0d0887"
             ],
             [
              0.1111111111111111,
              "#46039f"
             ],
             [
              0.2222222222222222,
              "#7201a8"
             ],
             [
              0.3333333333333333,
              "#9c179e"
             ],
             [
              0.4444444444444444,
              "#bd3786"
             ],
             [
              0.5555555555555556,
              "#d8576b"
             ],
             [
              0.6666666666666666,
              "#ed7953"
             ],
             [
              0.7777777777777778,
              "#fb9f3a"
             ],
             [
              0.8888888888888888,
              "#fdca26"
             ],
             [
              1,
              "#f0f921"
             ]
            ],
            "type": "histogram2dcontour"
           }
          ],
          "mesh3d": [
           {
            "colorbar": {
             "outlinewidth": 0,
             "ticks": ""
            },
            "type": "mesh3d"
           }
          ],
          "parcoords": [
           {
            "line": {
             "colorbar": {
              "outlinewidth": 0,
              "ticks": ""
             }
            },
            "type": "parcoords"
           }
          ],
          "pie": [
           {
            "automargin": true,
            "type": "pie"
           }
          ],
          "scatter": [
           {
            "fillpattern": {
             "fillmode": "overlay",
             "size": 10,
             "solidity": 0.2
            },
            "type": "scatter"
           }
          ],
          "scatter3d": [
           {
            "line": {
             "colorbar": {
              "outlinewidth": 0,
              "ticks": ""
             }
            },
            "marker": {
             "colorbar": {
              "outlinewidth": 0,
              "ticks": ""
             }
            },
            "type": "scatter3d"
           }
          ],
          "scattercarpet": [
           {
            "marker": {
             "colorbar": {
              "outlinewidth": 0,
              "ticks": ""
             }
            },
            "type": "scattercarpet"
           }
          ],
          "scattergeo": [
           {
            "marker": {
             "colorbar": {
              "outlinewidth": 0,
              "ticks": ""
             }
            },
            "type": "scattergeo"
           }
          ],
          "scattergl": [
           {
            "marker": {
             "colorbar": {
              "outlinewidth": 0,
              "ticks": ""
             }
            },
            "type": "scattergl"
           }
          ],
          "scattermapbox": [
           {
            "marker": {
             "colorbar": {
              "outlinewidth": 0,
              "ticks": ""
             }
            },
            "type": "scattermapbox"
           }
          ],
          "scatterpolar": [
           {
            "marker": {
             "colorbar": {
              "outlinewidth": 0,
              "ticks": ""
             }
            },
            "type": "scatterpolar"
           }
          ],
          "scatterpolargl": [
           {
            "marker": {
             "colorbar": {
              "outlinewidth": 0,
              "ticks": ""
             }
            },
            "type": "scatterpolargl"
           }
          ],
          "scatterternary": [
           {
            "marker": {
             "colorbar": {
              "outlinewidth": 0,
              "ticks": ""
             }
            },
            "type": "scatterternary"
           }
          ],
          "surface": [
           {
            "colorbar": {
             "outlinewidth": 0,
             "ticks": ""
            },
            "colorscale": [
             [
              0,
              "#0d0887"
             ],
             [
              0.1111111111111111,
              "#46039f"
             ],
             [
              0.2222222222222222,
              "#7201a8"
             ],
             [
              0.3333333333333333,
              "#9c179e"
             ],
             [
              0.4444444444444444,
              "#bd3786"
             ],
             [
              0.5555555555555556,
              "#d8576b"
             ],
             [
              0.6666666666666666,
              "#ed7953"
             ],
             [
              0.7777777777777778,
              "#fb9f3a"
             ],
             [
              0.8888888888888888,
              "#fdca26"
             ],
             [
              1,
              "#f0f921"
             ]
            ],
            "type": "surface"
           }
          ],
          "table": [
           {
            "cells": {
             "fill": {
              "color": "#EBF0F8"
             },
             "line": {
              "color": "white"
             }
            },
            "header": {
             "fill": {
              "color": "#C8D4E3"
             },
             "line": {
              "color": "white"
             }
            },
            "type": "table"
           }
          ]
         },
         "layout": {
          "annotationdefaults": {
           "arrowcolor": "#2a3f5f",
           "arrowhead": 0,
           "arrowwidth": 1
          },
          "autotypenumbers": "strict",
          "coloraxis": {
           "colorbar": {
            "outlinewidth": 0,
            "ticks": ""
           }
          },
          "colorscale": {
           "diverging": [
            [
             0,
             "#8e0152"
            ],
            [
             0.1,
             "#c51b7d"
            ],
            [
             0.2,
             "#de77ae"
            ],
            [
             0.3,
             "#f1b6da"
            ],
            [
             0.4,
             "#fde0ef"
            ],
            [
             0.5,
             "#f7f7f7"
            ],
            [
             0.6,
             "#e6f5d0"
            ],
            [
             0.7,
             "#b8e186"
            ],
            [
             0.8,
             "#7fbc41"
            ],
            [
             0.9,
             "#4d9221"
            ],
            [
             1,
             "#276419"
            ]
           ],
           "sequential": [
            [
             0,
             "#0d0887"
            ],
            [
             0.1111111111111111,
             "#46039f"
            ],
            [
             0.2222222222222222,
             "#7201a8"
            ],
            [
             0.3333333333333333,
             "#9c179e"
            ],
            [
             0.4444444444444444,
             "#bd3786"
            ],
            [
             0.5555555555555556,
             "#d8576b"
            ],
            [
             0.6666666666666666,
             "#ed7953"
            ],
            [
             0.7777777777777778,
             "#fb9f3a"
            ],
            [
             0.8888888888888888,
             "#fdca26"
            ],
            [
             1,
             "#f0f921"
            ]
           ],
           "sequentialminus": [
            [
             0,
             "#0d0887"
            ],
            [
             0.1111111111111111,
             "#46039f"
            ],
            [
             0.2222222222222222,
             "#7201a8"
            ],
            [
             0.3333333333333333,
             "#9c179e"
            ],
            [
             0.4444444444444444,
             "#bd3786"
            ],
            [
             0.5555555555555556,
             "#d8576b"
            ],
            [
             0.6666666666666666,
             "#ed7953"
            ],
            [
             0.7777777777777778,
             "#fb9f3a"
            ],
            [
             0.8888888888888888,
             "#fdca26"
            ],
            [
             1,
             "#f0f921"
            ]
           ]
          },
          "colorway": [
           "#636efa",
           "#EF553B",
           "#00cc96",
           "#ab63fa",
           "#FFA15A",
           "#19d3f3",
           "#FF6692",
           "#B6E880",
           "#FF97FF",
           "#FECB52"
          ],
          "font": {
           "color": "#2a3f5f"
          },
          "geo": {
           "bgcolor": "white",
           "lakecolor": "white",
           "landcolor": "#E5ECF6",
           "showlakes": true,
           "showland": true,
           "subunitcolor": "white"
          },
          "hoverlabel": {
           "align": "left"
          },
          "hovermode": "closest",
          "mapbox": {
           "style": "light"
          },
          "paper_bgcolor": "white",
          "plot_bgcolor": "#E5ECF6",
          "polar": {
           "angularaxis": {
            "gridcolor": "white",
            "linecolor": "white",
            "ticks": ""
           },
           "bgcolor": "#E5ECF6",
           "radialaxis": {
            "gridcolor": "white",
            "linecolor": "white",
            "ticks": ""
           }
          },
          "scene": {
           "xaxis": {
            "backgroundcolor": "#E5ECF6",
            "gridcolor": "white",
            "gridwidth": 2,
            "linecolor": "white",
            "showbackground": true,
            "ticks": "",
            "zerolinecolor": "white"
           },
           "yaxis": {
            "backgroundcolor": "#E5ECF6",
            "gridcolor": "white",
            "gridwidth": 2,
            "linecolor": "white",
            "showbackground": true,
            "ticks": "",
            "zerolinecolor": "white"
           },
           "zaxis": {
            "backgroundcolor": "#E5ECF6",
            "gridcolor": "white",
            "gridwidth": 2,
            "linecolor": "white",
            "showbackground": true,
            "ticks": "",
            "zerolinecolor": "white"
           }
          },
          "shapedefaults": {
           "line": {
            "color": "#2a3f5f"
           }
          },
          "ternary": {
           "aaxis": {
            "gridcolor": "white",
            "linecolor": "white",
            "ticks": ""
           },
           "baxis": {
            "gridcolor": "white",
            "linecolor": "white",
            "ticks": ""
           },
           "bgcolor": "#E5ECF6",
           "caxis": {
            "gridcolor": "white",
            "linecolor": "white",
            "ticks": ""
           }
          },
          "title": {
           "x": 0.05
          },
          "xaxis": {
           "automargin": true,
           "gridcolor": "white",
           "linecolor": "white",
           "ticks": "",
           "title": {
            "standoff": 15
           },
           "zerolinecolor": "white",
           "zerolinewidth": 2
          },
          "yaxis": {
           "automargin": true,
           "gridcolor": "white",
           "linecolor": "white",
           "ticks": "",
           "title": {
            "standoff": 15
           },
           "zerolinecolor": "white",
           "zerolinewidth": 2
          }
         }
        },
        "title": {
         "text": "acr_diff gamma x chi"
        },
        "width": 800,
        "xaxis": {
         "title": {
          "text": "chi"
         },
         "type": "log"
        },
        "yaxis": {
         "title": {
          "text": "Gamma"
         }
        }
       }
      },
      "text/html": [
       "<div>                            <div id=\"2e0eccd0-2b49-4171-a865-22bba1c5b848\" class=\"plotly-graph-div\" style=\"height:800px; width:800px;\"></div>            <script type=\"text/javascript\">                require([\"plotly\"], function(Plotly) {                    window.PLOTLYENV=window.PLOTLYENV || {};                                    if (document.getElementById(\"2e0eccd0-2b49-4171-a865-22bba1c5b848\")) {                    Plotly.newPlot(                        \"2e0eccd0-2b49-4171-a865-22bba1c5b848\",                        [{\"colorscale\":[[0.0,\"rgb(103,0,31)\"],[0.1,\"rgb(178,24,43)\"],[0.2,\"rgb(214,96,77)\"],[0.3,\"rgb(244,165,130)\"],[0.4,\"rgb(253,219,199)\"],[0.5,\"rgb(247,247,247)\"],[0.6,\"rgb(209,229,240)\"],[0.7,\"rgb(146,197,222)\"],[0.8,\"rgb(67,147,195)\"],[0.9,\"rgb(33,102,172)\"],[1.0,\"rgb(5,48,97)\"]],\"contours\":{\"showlabels\":true},\"x\":[2e-05,0.0002,0.002,0.02,0.2],\"y\":[0.0,0.1,0.2,0.3,0.4,0.5,0.6,0.7,0.8,0.9,1.0],\"z\":[[0.06056478548329025,-1.1178352211606857,2.65465895566018,-0.19350717354337377,-0.9036258539160507],[10.374778053899107,8.133440624047665,9.28428394220694,2.5433543937332885,0.6988389337040948],[17.613051601963125,16.17377470643693,17.713369545687183,7.4098543353427555,0.9019332618638298],[15.450858793330962,14.087409590675144,23.553445150249335,12.250953271485685,2.9622613886155627],[19.397458006608232,25.6588976865919,21.68042434257111,21.545122383483523,4.596283151158083],[24.073051063625666,27.67959437681033,30.093700339403664,29.176143365986075,11.977708114532135],[27.647968854752115,28.48160184465333,33.598253707173406,38.193964202595524,23.944229705875596],[28.023278063328785,28.832675850294272,33.25917923258249,45.77031090902411,31.164120224940344],[32.84766745343639,35.20278699569997,34.24562877660934,55.86174651862528,36.52492098462175],[38.93116397624008,44.41362667263542,46.18460811240534,60.720470363567024,25.253878905816848],[-15.266650000857041,-14.871349689054727,-14.202494642797905,-7.785512866611442,-3.329729243014582]],\"zmax\":65,\"zmin\":-65,\"type\":\"contour\",\"ncontours\":15}],                        {\"template\":{\"data\":{\"histogram2dcontour\":[{\"type\":\"histogram2dcontour\",\"colorbar\":{\"outlinewidth\":0,\"ticks\":\"\"},\"colorscale\":[[0.0,\"#0d0887\"],[0.1111111111111111,\"#46039f\"],[0.2222222222222222,\"#7201a8\"],[0.3333333333333333,\"#9c179e\"],[0.4444444444444444,\"#bd3786\"],[0.5555555555555556,\"#d8576b\"],[0.6666666666666666,\"#ed7953\"],[0.7777777777777778,\"#fb9f3a\"],[0.8888888888888888,\"#fdca26\"],[1.0,\"#f0f921\"]]}],\"choropleth\":[{\"type\":\"choropleth\",\"colorbar\":{\"outlinewidth\":0,\"ticks\":\"\"}}],\"histogram2d\":[{\"type\":\"histogram2d\",\"colorbar\":{\"outlinewidth\":0,\"ticks\":\"\"},\"colorscale\":[[0.0,\"#0d0887\"],[0.1111111111111111,\"#46039f\"],[0.2222222222222222,\"#7201a8\"],[0.3333333333333333,\"#9c179e\"],[0.4444444444444444,\"#bd3786\"],[0.5555555555555556,\"#d8576b\"],[0.6666666666666666,\"#ed7953\"],[0.7777777777777778,\"#fb9f3a\"],[0.8888888888888888,\"#fdca26\"],[1.0,\"#f0f921\"]]}],\"heatmap\":[{\"type\":\"heatmap\",\"colorbar\":{\"outlinewidth\":0,\"ticks\":\"\"},\"colorscale\":[[0.0,\"#0d0887\"],[0.1111111111111111,\"#46039f\"],[0.2222222222222222,\"#7201a8\"],[0.3333333333333333,\"#9c179e\"],[0.4444444444444444,\"#bd3786\"],[0.5555555555555556,\"#d8576b\"],[0.6666666666666666,\"#ed7953\"],[0.7777777777777778,\"#fb9f3a\"],[0.8888888888888888,\"#fdca26\"],[1.0,\"#f0f921\"]]}],\"heatmapgl\":[{\"type\":\"heatmapgl\",\"colorbar\":{\"outlinewidth\":0,\"ticks\":\"\"},\"colorscale\":[[0.0,\"#0d0887\"],[0.1111111111111111,\"#46039f\"],[0.2222222222222222,\"#7201a8\"],[0.3333333333333333,\"#9c179e\"],[0.4444444444444444,\"#bd3786\"],[0.5555555555555556,\"#d8576b\"],[0.6666666666666666,\"#ed7953\"],[0.7777777777777778,\"#fb9f3a\"],[0.8888888888888888,\"#fdca26\"],[1.0,\"#f0f921\"]]}],\"contourcarpet\":[{\"type\":\"contourcarpet\",\"colorbar\":{\"outlinewidth\":0,\"ticks\":\"\"}}],\"contour\":[{\"type\":\"contour\",\"colorbar\":{\"outlinewidth\":0,\"ticks\":\"\"},\"colorscale\":[[0.0,\"#0d0887\"],[0.1111111111111111,\"#46039f\"],[0.2222222222222222,\"#7201a8\"],[0.3333333333333333,\"#9c179e\"],[0.4444444444444444,\"#bd3786\"],[0.5555555555555556,\"#d8576b\"],[0.6666666666666666,\"#ed7953\"],[0.7777777777777778,\"#fb9f3a\"],[0.8888888888888888,\"#fdca26\"],[1.0,\"#f0f921\"]]}],\"surface\":[{\"type\":\"surface\",\"colorbar\":{\"outlinewidth\":0,\"ticks\":\"\"},\"colorscale\":[[0.0,\"#0d0887\"],[0.1111111111111111,\"#46039f\"],[0.2222222222222222,\"#7201a8\"],[0.3333333333333333,\"#9c179e\"],[0.4444444444444444,\"#bd3786\"],[0.5555555555555556,\"#d8576b\"],[0.6666666666666666,\"#ed7953\"],[0.7777777777777778,\"#fb9f3a\"],[0.8888888888888888,\"#fdca26\"],[1.0,\"#f0f921\"]]}],\"mesh3d\":[{\"type\":\"mesh3d\",\"colorbar\":{\"outlinewidth\":0,\"ticks\":\"\"}}],\"scatter\":[{\"fillpattern\":{\"fillmode\":\"overlay\",\"size\":10,\"solidity\":0.2},\"type\":\"scatter\"}],\"parcoords\":[{\"type\":\"parcoords\",\"line\":{\"colorbar\":{\"outlinewidth\":0,\"ticks\":\"\"}}}],\"scatterpolargl\":[{\"type\":\"scatterpolargl\",\"marker\":{\"colorbar\":{\"outlinewidth\":0,\"ticks\":\"\"}}}],\"bar\":[{\"error_x\":{\"color\":\"#2a3f5f\"},\"error_y\":{\"color\":\"#2a3f5f\"},\"marker\":{\"line\":{\"color\":\"#E5ECF6\",\"width\":0.5},\"pattern\":{\"fillmode\":\"overlay\",\"size\":10,\"solidity\":0.2}},\"type\":\"bar\"}],\"scattergeo\":[{\"type\":\"scattergeo\",\"marker\":{\"colorbar\":{\"outlinewidth\":0,\"ticks\":\"\"}}}],\"scatterpolar\":[{\"type\":\"scatterpolar\",\"marker\":{\"colorbar\":{\"outlinewidth\":0,\"ticks\":\"\"}}}],\"histogram\":[{\"marker\":{\"pattern\":{\"fillmode\":\"overlay\",\"size\":10,\"solidity\":0.2}},\"type\":\"histogram\"}],\"scattergl\":[{\"type\":\"scattergl\",\"marker\":{\"colorbar\":{\"outlinewidth\":0,\"ticks\":\"\"}}}],\"scatter3d\":[{\"type\":\"scatter3d\",\"line\":{\"colorbar\":{\"outlinewidth\":0,\"ticks\":\"\"}},\"marker\":{\"colorbar\":{\"outlinewidth\":0,\"ticks\":\"\"}}}],\"scattermapbox\":[{\"type\":\"scattermapbox\",\"marker\":{\"colorbar\":{\"outlinewidth\":0,\"ticks\":\"\"}}}],\"scatterternary\":[{\"type\":\"scatterternary\",\"marker\":{\"colorbar\":{\"outlinewidth\":0,\"ticks\":\"\"}}}],\"scattercarpet\":[{\"type\":\"scattercarpet\",\"marker\":{\"colorbar\":{\"outlinewidth\":0,\"ticks\":\"\"}}}],\"carpet\":[{\"aaxis\":{\"endlinecolor\":\"#2a3f5f\",\"gridcolor\":\"white\",\"linecolor\":\"white\",\"minorgridcolor\":\"white\",\"startlinecolor\":\"#2a3f5f\"},\"baxis\":{\"endlinecolor\":\"#2a3f5f\",\"gridcolor\":\"white\",\"linecolor\":\"white\",\"minorgridcolor\":\"white\",\"startlinecolor\":\"#2a3f5f\"},\"type\":\"carpet\"}],\"table\":[{\"cells\":{\"fill\":{\"color\":\"#EBF0F8\"},\"line\":{\"color\":\"white\"}},\"header\":{\"fill\":{\"color\":\"#C8D4E3\"},\"line\":{\"color\":\"white\"}},\"type\":\"table\"}],\"barpolar\":[{\"marker\":{\"line\":{\"color\":\"#E5ECF6\",\"width\":0.5},\"pattern\":{\"fillmode\":\"overlay\",\"size\":10,\"solidity\":0.2}},\"type\":\"barpolar\"}],\"pie\":[{\"automargin\":true,\"type\":\"pie\"}]},\"layout\":{\"autotypenumbers\":\"strict\",\"colorway\":[\"#636efa\",\"#EF553B\",\"#00cc96\",\"#ab63fa\",\"#FFA15A\",\"#19d3f3\",\"#FF6692\",\"#B6E880\",\"#FF97FF\",\"#FECB52\"],\"font\":{\"color\":\"#2a3f5f\"},\"hovermode\":\"closest\",\"hoverlabel\":{\"align\":\"left\"},\"paper_bgcolor\":\"white\",\"plot_bgcolor\":\"#E5ECF6\",\"polar\":{\"bgcolor\":\"#E5ECF6\",\"angularaxis\":{\"gridcolor\":\"white\",\"linecolor\":\"white\",\"ticks\":\"\"},\"radialaxis\":{\"gridcolor\":\"white\",\"linecolor\":\"white\",\"ticks\":\"\"}},\"ternary\":{\"bgcolor\":\"#E5ECF6\",\"aaxis\":{\"gridcolor\":\"white\",\"linecolor\":\"white\",\"ticks\":\"\"},\"baxis\":{\"gridcolor\":\"white\",\"linecolor\":\"white\",\"ticks\":\"\"},\"caxis\":{\"gridcolor\":\"white\",\"linecolor\":\"white\",\"ticks\":\"\"}},\"coloraxis\":{\"colorbar\":{\"outlinewidth\":0,\"ticks\":\"\"}},\"colorscale\":{\"sequential\":[[0.0,\"#0d0887\"],[0.1111111111111111,\"#46039f\"],[0.2222222222222222,\"#7201a8\"],[0.3333333333333333,\"#9c179e\"],[0.4444444444444444,\"#bd3786\"],[0.5555555555555556,\"#d8576b\"],[0.6666666666666666,\"#ed7953\"],[0.7777777777777778,\"#fb9f3a\"],[0.8888888888888888,\"#fdca26\"],[1.0,\"#f0f921\"]],\"sequentialminus\":[[0.0,\"#0d0887\"],[0.1111111111111111,\"#46039f\"],[0.2222222222222222,\"#7201a8\"],[0.3333333333333333,\"#9c179e\"],[0.4444444444444444,\"#bd3786\"],[0.5555555555555556,\"#d8576b\"],[0.6666666666666666,\"#ed7953\"],[0.7777777777777778,\"#fb9f3a\"],[0.8888888888888888,\"#fdca26\"],[1.0,\"#f0f921\"]],\"diverging\":[[0,\"#8e0152\"],[0.1,\"#c51b7d\"],[0.2,\"#de77ae\"],[0.3,\"#f1b6da\"],[0.4,\"#fde0ef\"],[0.5,\"#f7f7f7\"],[0.6,\"#e6f5d0\"],[0.7,\"#b8e186\"],[0.8,\"#7fbc41\"],[0.9,\"#4d9221\"],[1,\"#276419\"]]},\"xaxis\":{\"gridcolor\":\"white\",\"linecolor\":\"white\",\"ticks\":\"\",\"title\":{\"standoff\":15},\"zerolinecolor\":\"white\",\"automargin\":true,\"zerolinewidth\":2},\"yaxis\":{\"gridcolor\":\"white\",\"linecolor\":\"white\",\"ticks\":\"\",\"title\":{\"standoff\":15},\"zerolinecolor\":\"white\",\"automargin\":true,\"zerolinewidth\":2},\"scene\":{\"xaxis\":{\"backgroundcolor\":\"#E5ECF6\",\"gridcolor\":\"white\",\"linecolor\":\"white\",\"showbackground\":true,\"ticks\":\"\",\"zerolinecolor\":\"white\",\"gridwidth\":2},\"yaxis\":{\"backgroundcolor\":\"#E5ECF6\",\"gridcolor\":\"white\",\"linecolor\":\"white\",\"showbackground\":true,\"ticks\":\"\",\"zerolinecolor\":\"white\",\"gridwidth\":2},\"zaxis\":{\"backgroundcolor\":\"#E5ECF6\",\"gridcolor\":\"white\",\"linecolor\":\"white\",\"showbackground\":true,\"ticks\":\"\",\"zerolinecolor\":\"white\",\"gridwidth\":2}},\"shapedefaults\":{\"line\":{\"color\":\"#2a3f5f\"}},\"annotationdefaults\":{\"arrowcolor\":\"#2a3f5f\",\"arrowhead\":0,\"arrowwidth\":1},\"geo\":{\"bgcolor\":\"white\",\"landcolor\":\"#E5ECF6\",\"subunitcolor\":\"white\",\"showland\":true,\"showlakes\":true,\"lakecolor\":\"white\"},\"title\":{\"x\":0.05},\"mapbox\":{\"style\":\"light\"}}},\"xaxis\":{\"type\":\"log\",\"title\":{\"text\":\"chi\"}},\"title\":{\"text\":\"acr_diff gamma x chi\"},\"font\":{\"size\":18},\"width\":800,\"height\":800,\"yaxis\":{\"title\":{\"text\":\"Gamma\"}}},                        {\"responsive\": true}                    ).then(function(){\n",
       "                            \n",
       "var gd = document.getElementById('2e0eccd0-2b49-4171-a865-22bba1c5b848');\n",
       "var x = new MutationObserver(function (mutations, observer) {{\n",
       "        var display = window.getComputedStyle(gd).display;\n",
       "        if (!display || display === 'none') {{\n",
       "            console.log([gd, 'removed!']);\n",
       "            Plotly.purge(gd);\n",
       "            observer.disconnect();\n",
       "        }}\n",
       "}});\n",
       "\n",
       "// Listen for the removal of the full notebook cells\n",
       "var notebookContainer = gd.closest('#notebook-container');\n",
       "if (notebookContainer) {{\n",
       "    x.observe(notebookContainer, {childList: true});\n",
       "}}\n",
       "\n",
       "// Listen for the clearing of the current output cell\n",
       "var outputEl = gd.closest('.output');\n",
       "if (outputEl) {{\n",
       "    x.observe(outputEl, {childList: true});\n",
       "}}\n",
       "\n",
       "                        })                };                });            </script>        </div>"
      ]
     },
     "metadata": {},
     "output_type": "display_data"
    }
   ],
   "source": [
    "import plotly.graph_objects as go\n",
    "import pandas as pd\n",
    "\n",
    "# Your dataset\n",
    "df = pd.DataFrame(chi_df)\n",
    "\n",
    "z_feature = 'acr_diff'\n",
    "\n",
    "# Reshape data for contour plot\n",
    "z_values = df.pivot_table(index='gamma', columns=df.columns[1], values=z_feature).values\n",
    "x_values = sorted(df[df.columns[1]].unique())\n",
    "y_values = sorted(df['gamma'].unique())\n",
    "\n",
    "# Create contour plot\n",
    "fig = go.Figure(\n",
    "    data=go.Contour(\n",
    "        z=z_values,\n",
    "        x=x_values,\n",
    "        y=y_values,\n",
    "        zmin=-65,\n",
    "        zmax=65,\n",
    "        colorscale='RdBu',\n",
    "        #contours_coloring='lines',\n",
    "        contours={\n",
    "            \"showlabels\":True\n",
    "        }\n",
    "    )\n",
    ")\n",
    "fig.update_xaxes(type='log')\n",
    "fig.update_traces(ncontours=15, selector=dict(type='contour'))\n",
    "title = z_feature + \" gamma x \" + df.columns[1]\n",
    "fig.update_layout(title=title)\n",
    "fig.update_layout(\n",
    "    title=title,\n",
    "    width=800,  # Set the width of the plot\n",
    "    height=800,  # Set the height of the plot\n",
    "    xaxis_title=df.columns[1],  # Add x-axis label\n",
    "    yaxis_title='Gamma',  # Add y-axis label\n",
    "    font=dict(size=18)\n",
    ")\n",
    "\n",
    "\n",
    "# Show the plot\n",
    "fig.show()"
   ]
  },
  {
   "cell_type": "code",
   "execution_count": 66,
   "id": "b6acddd3",
   "metadata": {},
   "outputs": [
    {
     "data": {
      "text/html": [
       "<div>\n",
       "<style scoped>\n",
       "    .dataframe tbody tr th:only-of-type {\n",
       "        vertical-align: middle;\n",
       "    }\n",
       "\n",
       "    .dataframe tbody tr th {\n",
       "        vertical-align: top;\n",
       "    }\n",
       "\n",
       "    .dataframe thead th {\n",
       "        text-align: right;\n",
       "    }\n",
       "</style>\n",
       "<table border=\"1\" class=\"dataframe\">\n",
       "  <thead>\n",
       "    <tr style=\"text-align: right;\">\n",
       "      <th></th>\n",
       "      <th>EBNorm</th>\n",
       "      <th>Norm</th>\n",
       "      <th>z</th>\n",
       "      <th>g</th>\n",
       "      <th>mu</th>\n",
       "      <th>chi</th>\n",
       "      <th>eps</th>\n",
       "      <th>alpha</th>\n",
       "      <th>gamma</th>\n",
       "      <th>pdx</th>\n",
       "      <th>acr</th>\n",
       "      <th>B</th>\n",
       "      <th>G</th>\n",
       "      <th>AllD</th>\n",
       "      <th>pDisc</th>\n",
       "      <th>Disc</th>\n",
       "      <th>AllC</th>\n",
       "      <th>mean</th>\n",
       "      <th>nice</th>\n",
       "    </tr>\n",
       "  </thead>\n",
       "  <tbody>\n",
       "  </tbody>\n",
       "</table>\n",
       "</div>"
      ],
      "text/plain": [
       "Empty DataFrame\n",
       "Columns: [EBNorm, Norm, z, g, mu, chi, eps, alpha, gamma, pdx, acr, B, G, AllD, pDisc, Disc, AllC, mean, nice]\n",
       "Index: []"
      ]
     },
     "execution_count": 66,
     "metadata": {},
     "output_type": "execute_result"
    }
   ],
   "source": [
    "data = load_and_process()\n",
    "\n",
    "value = 0.0002\n",
    "filtered = filter(data, \"chi\", value)\n",
    "filtered = filter(filtered, \"alpha\", value)\n",
    "filtered = filter(filtered, \"eps\", value)\n",
    "filtered"
   ]
  },
  {
   "cell_type": "code",
   "execution_count": 67,
   "id": "135b2f9a",
   "metadata": {},
   "outputs": [
    {
     "data": {
      "text/html": [
       "<div>\n",
       "<style scoped>\n",
       "    .dataframe tbody tr th:only-of-type {\n",
       "        vertical-align: middle;\n",
       "    }\n",
       "\n",
       "    .dataframe tbody tr th {\n",
       "        vertical-align: top;\n",
       "    }\n",
       "\n",
       "    .dataframe thead th {\n",
       "        text-align: right;\n",
       "    }\n",
       "</style>\n",
       "<table border=\"1\" class=\"dataframe\">\n",
       "  <thead>\n",
       "    <tr style=\"text-align: right;\">\n",
       "      <th></th>\n",
       "      <th>EBNorm</th>\n",
       "      <th>Norm</th>\n",
       "      <th>z</th>\n",
       "      <th>g</th>\n",
       "      <th>mu</th>\n",
       "      <th>chi</th>\n",
       "      <th>eps</th>\n",
       "      <th>alpha</th>\n",
       "      <th>gamma</th>\n",
       "      <th>pdx</th>\n",
       "      <th>acr</th>\n",
       "      <th>B</th>\n",
       "      <th>G</th>\n",
       "      <th>AllD</th>\n",
       "      <th>pDisc</th>\n",
       "      <th>Disc</th>\n",
       "      <th>AllC</th>\n",
       "      <th>mean</th>\n",
       "      <th>nice</th>\n",
       "    </tr>\n",
       "  </thead>\n",
       "  <tbody>\n",
       "  </tbody>\n",
       "</table>\n",
       "</div>"
      ],
      "text/plain": [
       "Empty DataFrame\n",
       "Columns: [EBNorm, Norm, z, g, mu, chi, eps, alpha, gamma, pdx, acr, B, G, AllD, pDisc, Disc, AllC, mean, nice]\n",
       "Index: []"
      ]
     },
     "execution_count": 67,
     "metadata": {},
     "output_type": "execute_result"
    }
   ],
   "source": [
    "data = load_and_process()\n",
    "data[data.gamma==0.35]"
   ]
  },
  {
   "cell_type": "code",
   "execution_count": 50,
   "id": "50e4e124",
   "metadata": {},
   "outputs": [],
   "source": [
    "def param_heatmap(chosen_parameter: str, feature: str, norm: str):\n",
    "    data = load_and_process()\n",
    "\n",
    "    # Initial filtering\n",
    "    filtered = filter(data, \"z\", 50)\n",
    "    filtered = filter(filtered, \"eps\", 0.00002) if chosen_parameter != \"eps\" else filtered\n",
    "    filtered = filter(filtered, \"chi\", 0.00002) if chosen_parameter != \"chi\" else filtered\n",
    "    filtered = filter(filtered, \"alpha\", 0.00002) if chosen_parameter != \"alpha\" else filtered\n",
    "    \n",
    "    filtered = filter(filtered, \"EBNorm\", norm)\n",
    "\n",
    "    # Define columns based on the chosen parameter\n",
    "    new_cols = [\"gamma\", chosen_parameter, \"value\"]\n",
    "    new_df = pd.DataFrame(columns=new_cols)\n",
    "\n",
    "    #gammas = [round(a, 2) for a in np.arange(0.9, 1.01, 0.01)]\n",
    "    gammas = filtered.gamma.unique()\n",
    "\n",
    "    # Define values based on the chosen parameter\n",
    "    parameter_values = [0.00002, 0.0002, 0.002, 0.02, 0.2]\n",
    "\n",
    "    for gamma in gammas:\n",
    "        for parameter_value in parameter_values:\n",
    "            super_filtered = filtered[(filtered.gamma == gamma) & (filtered[chosen_parameter] == parameter_value)]\n",
    "\n",
    "            feature_mean: float = super_filtered[feature].mean()\n",
    "\n",
    "            new_df.loc[len(new_df)] = [gamma, parameter_value, feature_mean]\n",
    "\n",
    "    # Define feature for Altair chart\n",
    "    view_feature = \"value:Q\"\n",
    "\n",
    "    # Create Altair chart\n",
    "    heatmap = alt.Chart(new_df).mark_rect().encode(\n",
    "        x=f\"{chosen_parameter}:O\",\n",
    "        y=alt.Y('gamma:O', sort=alt.EncodingSortField('gamma', order='descending')),\n",
    "        color=alt.Color(view_feature, scale=alt.Scale(domain=[0, 1], scheme='blueorange'), sort=\"ascending\")\n",
    "    ).properties(\n",
    "        height=400,\n",
    "        width=400,\n",
    "        title=chosen_parameter + \" x \" + feature + \" x \" + norm\n",
    "    )\n",
    "\n",
    "    # Add text annotations to the chart\n",
    "    text = heatmap.mark_text().encode(\n",
    "        text=alt.Text(view_feature, format=\".2f\"),\n",
    "        color=alt.value('black')\n",
    "    )\n",
    "\n",
    "    # Display the chart with text annotations\n",
    "    #heatmap + text\n",
    "    return new_df, (heatmap + text)"
   ]
  },
  {
   "cell_type": "code",
   "execution_count": 43,
   "id": "09d4764c",
   "metadata": {
    "scrolled": true
   },
   "outputs": [
    {
     "name": "stderr",
     "output_type": "stream",
     "text": [
      "C:\\Users\\henri\\AppData\\Local\\Temp\\ipykernel_18140\\3917264150.py:22: DtypeWarning:\n",
      "\n",
      "Columns (9) have mixed types. Specify dtype option on import or set low_memory=False.\n",
      "\n"
     ]
    },
    {
     "data": {
      "text/html": [
       "\n",
       "<div id=\"altair-viz-efafd956b56c4905b779705815a428cd\"></div>\n",
       "<script type=\"text/javascript\">\n",
       "  var VEGA_DEBUG = (typeof VEGA_DEBUG == \"undefined\") ? {} : VEGA_DEBUG;\n",
       "  (function(spec, embedOpt){\n",
       "    let outputDiv = document.currentScript.previousElementSibling;\n",
       "    if (outputDiv.id !== \"altair-viz-efafd956b56c4905b779705815a428cd\") {\n",
       "      outputDiv = document.getElementById(\"altair-viz-efafd956b56c4905b779705815a428cd\");\n",
       "    }\n",
       "    const paths = {\n",
       "      \"vega\": \"https://cdn.jsdelivr.net/npm//vega@5?noext\",\n",
       "      \"vega-lib\": \"https://cdn.jsdelivr.net/npm//vega-lib?noext\",\n",
       "      \"vega-lite\": \"https://cdn.jsdelivr.net/npm//vega-lite@4.17.0?noext\",\n",
       "      \"vega-embed\": \"https://cdn.jsdelivr.net/npm//vega-embed@6?noext\",\n",
       "    };\n",
       "\n",
       "    function maybeLoadScript(lib, version) {\n",
       "      var key = `${lib.replace(\"-\", \"\")}_version`;\n",
       "      return (VEGA_DEBUG[key] == version) ?\n",
       "        Promise.resolve(paths[lib]) :\n",
       "        new Promise(function(resolve, reject) {\n",
       "          var s = document.createElement('script');\n",
       "          document.getElementsByTagName(\"head\")[0].appendChild(s);\n",
       "          s.async = true;\n",
       "          s.onload = () => {\n",
       "            VEGA_DEBUG[key] = version;\n",
       "            return resolve(paths[lib]);\n",
       "          };\n",
       "          s.onerror = () => reject(`Error loading script: ${paths[lib]}`);\n",
       "          s.src = paths[lib];\n",
       "        });\n",
       "    }\n",
       "\n",
       "    function showError(err) {\n",
       "      outputDiv.innerHTML = `<div class=\"error\" style=\"color:red;\">${err}</div>`;\n",
       "      throw err;\n",
       "    }\n",
       "\n",
       "    function displayChart(vegaEmbed) {\n",
       "      vegaEmbed(outputDiv, spec, embedOpt)\n",
       "        .catch(err => showError(`Javascript Error: ${err.message}<br>This usually means there's a typo in your chart specification. See the javascript console for the full traceback.`));\n",
       "    }\n",
       "\n",
       "    if(typeof define === \"function\" && define.amd) {\n",
       "      requirejs.config({paths});\n",
       "      require([\"vega-embed\"], displayChart, err => showError(`Error loading script: ${err.message}`));\n",
       "    } else {\n",
       "      maybeLoadScript(\"vega\", \"5\")\n",
       "        .then(() => maybeLoadScript(\"vega-lite\", \"4.17.0\"))\n",
       "        .then(() => maybeLoadScript(\"vega-embed\", \"6\"))\n",
       "        .catch(showError)\n",
       "        .then(() => displayChart(vegaEmbed));\n",
       "    }\n",
       "  })({\"config\": {\"view\": {\"continuousWidth\": 400, \"continuousHeight\": 300}}, \"layer\": [{\"mark\": \"rect\", \"encoding\": {\"color\": {\"field\": \"value\", \"scale\": {\"domain\": [0, 1], \"scheme\": \"blueorange\"}, \"sort\": \"ascending\", \"type\": \"quantitative\"}, \"x\": {\"field\": \"alpha\", \"type\": \"ordinal\"}, \"y\": {\"field\": \"gamma\", \"sort\": {\"field\": \"gamma\", \"order\": \"descending\"}, \"type\": \"ordinal\"}}, \"height\": 400, \"title\": \"alpha x AllD x IS Empirical\", \"width\": 400}, {\"mark\": \"text\", \"encoding\": {\"color\": {\"value\": \"black\"}, \"text\": {\"field\": \"value\", \"format\": \".2f\", \"type\": \"quantitative\"}, \"x\": {\"field\": \"alpha\", \"type\": \"ordinal\"}, \"y\": {\"field\": \"gamma\", \"sort\": {\"field\": \"gamma\", \"order\": \"descending\"}, \"type\": \"ordinal\"}}, \"height\": 400, \"title\": \"alpha x AllD x IS Empirical\", \"width\": 400}], \"data\": {\"name\": \"data-fcd2c6e5bf5c8339861b24ea3dee4130\"}, \"$schema\": \"https://vega.github.io/schema/vega-lite/v4.17.0.json\", \"datasets\": {\"data-fcd2c6e5bf5c8339861b24ea3dee4130\": [{\"gamma\": 0.9, \"alpha\": 2e-05, \"value\": 0.34290726817042605}, {\"gamma\": 0.9, \"alpha\": 0.0002, \"value\": 0.27630000000000005}, {\"gamma\": 0.9, \"alpha\": 0.002, \"value\": 0.17}, {\"gamma\": 0.9, \"alpha\": 0.02, \"value\": 0.16790000000000002}, {\"gamma\": 0.9, \"alpha\": 0.2, \"value\": 0.6877000000000001}, {\"gamma\": 0.91, \"alpha\": 2e-05, \"value\": 0.331}, {\"gamma\": 0.91, \"alpha\": 0.0002, \"value\": 0.2862}, {\"gamma\": 0.91, \"alpha\": 0.002, \"value\": 0.1498}, {\"gamma\": 0.91, \"alpha\": 0.02, \"value\": 0.13879999999999998}, {\"gamma\": 0.91, \"alpha\": 0.2, \"value\": 0.5882000000000001}, {\"gamma\": 0.92, \"alpha\": 2e-05, \"value\": 0.281}, {\"gamma\": 0.92, \"alpha\": 0.0002, \"value\": 0.237}, {\"gamma\": 0.92, \"alpha\": 0.002, \"value\": 0.18939999999999999}, {\"gamma\": 0.92, \"alpha\": 0.02, \"value\": 0.1092}, {\"gamma\": 0.92, \"alpha\": 0.2, \"value\": 0.6574}, {\"gamma\": 0.93, \"alpha\": 2e-05, \"value\": 0.28459999999999996}, {\"gamma\": 0.93, \"alpha\": 0.0002, \"value\": 0.2198}, {\"gamma\": 0.93, \"alpha\": 0.002, \"value\": 0.1314}, {\"gamma\": 0.93, \"alpha\": 0.02, \"value\": 0.1374}, {\"gamma\": 0.93, \"alpha\": 0.2, \"value\": 0.6738}, {\"gamma\": 0.94, \"alpha\": 2e-05, \"value\": 0.32080000000000003}, {\"gamma\": 0.94, \"alpha\": 0.0002, \"value\": 0.174}, {\"gamma\": 0.94, \"alpha\": 0.002, \"value\": 0.20840000000000003}, {\"gamma\": 0.94, \"alpha\": 0.02, \"value\": 0.1604}, {\"gamma\": 0.94, \"alpha\": 0.2, \"value\": 0.7527272727272727}, {\"gamma\": 0.95, \"alpha\": 2e-05, \"value\": 0.21393939393939393}, {\"gamma\": 0.95, \"alpha\": 0.0002, \"value\": 0.23160000000000003}, {\"gamma\": 0.95, \"alpha\": 0.002, \"value\": 0.2076}, {\"gamma\": 0.95, \"alpha\": 0.02, \"value\": 0.1788}, {\"gamma\": 0.95, \"alpha\": 0.2, \"value\": 0.7467999999999999}, {\"gamma\": 0.96, \"alpha\": 2e-05, \"value\": 0.2577777777777778}, {\"gamma\": 0.96, \"alpha\": 0.0002, \"value\": 0.2554}, {\"gamma\": 0.96, \"alpha\": 0.002, \"value\": 0.1416}, {\"gamma\": 0.96, \"alpha\": 0.02, \"value\": 0.18960000000000002}, {\"gamma\": 0.96, \"alpha\": 0.2, \"value\": 0.7426262626262624}, {\"gamma\": 0.97, \"alpha\": 2e-05, \"value\": 0.2526}, {\"gamma\": 0.97, \"alpha\": 0.0002, \"value\": 0.1622222222222222}, {\"gamma\": 0.97, \"alpha\": 0.002, \"value\": 0.11}, {\"gamma\": 0.97, \"alpha\": 0.02, \"value\": 0.2004}, {\"gamma\": 0.97, \"alpha\": 0.2, \"value\": 0.7323999999999997}, {\"gamma\": 0.98, \"alpha\": 2e-05, \"value\": 0.2864646464646465}, {\"gamma\": 0.98, \"alpha\": 0.0002, \"value\": 0.1906}, {\"gamma\": 0.98, \"alpha\": 0.002, \"value\": 0.0702}, {\"gamma\": 0.98, \"alpha\": 0.02, \"value\": 0.35019999999999996}, {\"gamma\": 0.98, \"alpha\": 0.2, \"value\": 0.6987755102040816}, {\"gamma\": 0.99, \"alpha\": 2e-05, \"value\": 0.36699999999999994}, {\"gamma\": 0.99, \"alpha\": 0.0002, \"value\": 0.22319999999999995}, {\"gamma\": 0.99, \"alpha\": 0.002, \"value\": 0.24619999999999997}, {\"gamma\": 0.99, \"alpha\": 0.02, \"value\": 0.43620000000000003}, {\"gamma\": 0.99, \"alpha\": 0.2, \"value\": 0.7824}, {\"gamma\": 1.0, \"alpha\": 2e-05, \"value\": 0.9622556390977443}, {\"gamma\": 1.0, \"alpha\": 0.0002, \"value\": 0.9493401015228422}, {\"gamma\": 1.0, \"alpha\": 0.002, \"value\": 0.9297}, {\"gamma\": 1.0, \"alpha\": 0.02, \"value\": 0.6059}, {\"gamma\": 1.0, \"alpha\": 0.2, \"value\": 0.7760000000000002}, {\"gamma\": 0.0, \"alpha\": 2e-05, \"value\": 0.6967999999999999}, {\"gamma\": 0.0, \"alpha\": 0.0002, \"value\": 0.7288}, {\"gamma\": 0.0, \"alpha\": 0.002, \"value\": 0.6957575757575759}, {\"gamma\": 0.0, \"alpha\": 0.02, \"value\": 0.8223999999999999}, {\"gamma\": 0.0, \"alpha\": 0.2, \"value\": 0.9634343434343435}, {\"gamma\": 0.1, \"alpha\": 2e-05, \"value\": 0.6748494983277591}, {\"gamma\": 0.1, \"alpha\": 0.0002, \"value\": 0.5928}, {\"gamma\": 0.1, \"alpha\": 0.002, \"value\": 0.6746000000000001}, {\"gamma\": 0.1, \"alpha\": 0.02, \"value\": 0.8201999999999999}, {\"gamma\": 0.1, \"alpha\": 0.2, \"value\": 0.9372000000000001}, {\"gamma\": 0.2, \"alpha\": 2e-05, \"value\": 0.5818666666666665}, {\"gamma\": 0.2, \"alpha\": 0.0002, \"value\": 0.6074747474747475}, {\"gamma\": 0.2, \"alpha\": 0.002, \"value\": 0.5781999999999999}, {\"gamma\": 0.2, \"alpha\": 0.02, \"value\": 0.8092}, {\"gamma\": 0.2, \"alpha\": 0.2, \"value\": 0.9502000000000002}, {\"gamma\": 0.3, \"alpha\": 2e-05, \"value\": 0.5949333333333333}, {\"gamma\": 0.3, \"alpha\": 0.0002, \"value\": 0.47777777777777775}, {\"gamma\": 0.3, \"alpha\": 0.002, \"value\": 0.6023999999999999}, {\"gamma\": 0.3, \"alpha\": 0.02, \"value\": 0.6555999999999998}, {\"gamma\": 0.3, \"alpha\": 0.2, \"value\": 0.9617999999999999}, {\"gamma\": 0.4, \"alpha\": 2e-05, \"value\": 0.5432107023411372}, {\"gamma\": 0.4, \"alpha\": 0.0002, \"value\": 0.5857142857142857}, {\"gamma\": 0.4, \"alpha\": 0.002, \"value\": 0.4904}, {\"gamma\": 0.4, \"alpha\": 0.02, \"value\": 0.4981999999999999}, {\"gamma\": 0.4, \"alpha\": 0.2, \"value\": 0.8783673469387756}, {\"gamma\": 0.5, \"alpha\": 2e-05, \"value\": 0.49565217391304334}, {\"gamma\": 0.5, \"alpha\": 0.0002, \"value\": 0.40828282828282825}, {\"gamma\": 0.5, \"alpha\": 0.002, \"value\": 0.5323999999999999}, {\"gamma\": 0.5, \"alpha\": 0.02, \"value\": 0.46159999999999995}, {\"gamma\": 0.5, \"alpha\": 0.2, \"value\": 0.8517999999999999}, {\"gamma\": 0.6, \"alpha\": 2e-05, \"value\": 0.4560000000000001}, {\"gamma\": 0.6, \"alpha\": 0.0002, \"value\": 0.511}, {\"gamma\": 0.6, \"alpha\": 0.002, \"value\": 0.3546}, {\"gamma\": 0.6, \"alpha\": 0.02, \"value\": 0.1996}, {\"gamma\": 0.6, \"alpha\": 0.2, \"value\": 0.8216161616161615}, {\"gamma\": 0.7, \"alpha\": 2e-05, \"value\": 0.4376000000000001}, {\"gamma\": 0.7, \"alpha\": 0.0002, \"value\": 0.4038383838383839}, {\"gamma\": 0.7, \"alpha\": 0.002, \"value\": 0.315}, {\"gamma\": 0.7, \"alpha\": 0.02, \"value\": 0.20020202020202016}, {\"gamma\": 0.7, \"alpha\": 0.2, \"value\": 0.7267999999999999}, {\"gamma\": 0.8, \"alpha\": 2e-05, \"value\": 0.43626666666666675}, {\"gamma\": 0.8, \"alpha\": 0.0002, \"value\": 0.3593939393939394}, {\"gamma\": 0.8, \"alpha\": 0.002, \"value\": 0.2546}, {\"gamma\": 0.8, \"alpha\": 0.02, \"value\": 0.1894}, {\"gamma\": 0.8, \"alpha\": 0.2, \"value\": 0.6236363636363635}]}}, {\"mode\": \"vega-lite\"});\n",
       "</script>"
      ],
      "text/plain": [
       "alt.LayerChart(...)"
      ]
     },
     "execution_count": 43,
     "metadata": {},
     "output_type": "execute_result"
    }
   ],
   "source": [
    "d, c = param_heatmap(\"alpha\", \"AllD\", \"IS Empirical\")\n",
    "c"
   ]
  },
  {
   "cell_type": "code",
   "execution_count": 28,
   "id": "b6abe6d4",
   "metadata": {
    "scrolled": true
   },
   "outputs": [
    {
     "data": {
      "text/html": [
       "\n",
       "<div id=\"altair-viz-c9af90571c5440e4949a03350c670529\"></div>\n",
       "<script type=\"text/javascript\">\n",
       "  var VEGA_DEBUG = (typeof VEGA_DEBUG == \"undefined\") ? {} : VEGA_DEBUG;\n",
       "  (function(spec, embedOpt){\n",
       "    let outputDiv = document.currentScript.previousElementSibling;\n",
       "    if (outputDiv.id !== \"altair-viz-c9af90571c5440e4949a03350c670529\") {\n",
       "      outputDiv = document.getElementById(\"altair-viz-c9af90571c5440e4949a03350c670529\");\n",
       "    }\n",
       "    const paths = {\n",
       "      \"vega\": \"https://cdn.jsdelivr.net/npm//vega@5?noext\",\n",
       "      \"vega-lib\": \"https://cdn.jsdelivr.net/npm//vega-lib?noext\",\n",
       "      \"vega-lite\": \"https://cdn.jsdelivr.net/npm//vega-lite@4.17.0?noext\",\n",
       "      \"vega-embed\": \"https://cdn.jsdelivr.net/npm//vega-embed@6?noext\",\n",
       "    };\n",
       "\n",
       "    function maybeLoadScript(lib, version) {\n",
       "      var key = `${lib.replace(\"-\", \"\")}_version`;\n",
       "      return (VEGA_DEBUG[key] == version) ?\n",
       "        Promise.resolve(paths[lib]) :\n",
       "        new Promise(function(resolve, reject) {\n",
       "          var s = document.createElement('script');\n",
       "          document.getElementsByTagName(\"head\")[0].appendChild(s);\n",
       "          s.async = true;\n",
       "          s.onload = () => {\n",
       "            VEGA_DEBUG[key] = version;\n",
       "            return resolve(paths[lib]);\n",
       "          };\n",
       "          s.onerror = () => reject(`Error loading script: ${paths[lib]}`);\n",
       "          s.src = paths[lib];\n",
       "        });\n",
       "    }\n",
       "\n",
       "    function showError(err) {\n",
       "      outputDiv.innerHTML = `<div class=\"error\" style=\"color:red;\">${err}</div>`;\n",
       "      throw err;\n",
       "    }\n",
       "\n",
       "    function displayChart(vegaEmbed) {\n",
       "      vegaEmbed(outputDiv, spec, embedOpt)\n",
       "        .catch(err => showError(`Javascript Error: ${err.message}<br>This usually means there's a typo in your chart specification. See the javascript console for the full traceback.`));\n",
       "    }\n",
       "\n",
       "    if(typeof define === \"function\" && define.amd) {\n",
       "      requirejs.config({paths});\n",
       "      require([\"vega-embed\"], displayChart, err => showError(`Error loading script: ${err.message}`));\n",
       "    } else {\n",
       "      maybeLoadScript(\"vega\", \"5\")\n",
       "        .then(() => maybeLoadScript(\"vega-lite\", \"4.17.0\"))\n",
       "        .then(() => maybeLoadScript(\"vega-embed\", \"6\"))\n",
       "        .catch(showError)\n",
       "        .then(() => displayChart(vegaEmbed));\n",
       "    }\n",
       "  })({\"config\": {\"view\": {\"continuousWidth\": 400, \"continuousHeight\": 300}}, \"layer\": [{\"data\": {\"name\": \"data-7fe4317fb60ee4ba97d5b40930f63cec\"}, \"mark\": {\"type\": \"line\", \"color\": \"green\"}, \"encoding\": {\"x\": {\"field\": \"gamma\", \"type\": \"quantitative\"}, \"y\": {\"field\": \"acr_diff\", \"type\": \"quantitative\"}}}, {\"data\": {\"name\": \"data-f067a62da491987d56d3b21136f365a8\"}, \"mark\": {\"type\": \"line\", \"color\": \"red\"}, \"encoding\": {\"x\": {\"field\": \"gamma\", \"type\": \"quantitative\"}, \"y\": {\"field\": \"acr_diff\", \"type\": \"quantitative\"}}}, {\"data\": {\"name\": \"data-6985a47112cff704f8c55e213e7210b4\"}, \"mark\": {\"type\": \"line\", \"color\": \"blue\"}, \"encoding\": {\"x\": {\"field\": \"gamma\", \"type\": \"quantitative\"}, \"y\": {\"field\": \"acr_diff\", \"type\": \"quantitative\"}}}], \"$schema\": \"https://vega.github.io/schema/vega-lite/v4.17.0.json\", \"datasets\": {\"data-7fe4317fb60ee4ba97d5b40930f63cec\": [{\"gamma\": 0.9, \"chi\": 0.0002, \"acr\": null, \"acr_diff\": null, \"samples\": 0.0, \"standard_deviation\": null}, {\"gamma\": 1.0, \"chi\": 0.0002, \"acr\": null, \"acr_diff\": null, \"samples\": 0.0, \"standard_deviation\": null}], \"data-f067a62da491987d56d3b21136f365a8\": [{\"gamma\": 0.9, \"alpha\": 0.0002, \"acr\": 66.72934210440485, \"acr_diff\": 47.42002116953448, \"samples\": 824.0, \"standard_deviation\": 27.65926592885937}, {\"gamma\": 1.0, \"alpha\": 0.0002, \"acr\": 3.1634802705642353, \"acr_diff\": -14.075104523661295, \"samples\": 881.0, \"standard_deviation\": 4.195068123016388}], \"data-6985a47112cff704f8c55e213e7210b4\": [{\"gamma\": 0.9, \"eps\": 0.0002, \"acr\": null, \"acr_diff\": null, \"samples\": 0.0, \"standard_deviation\": null}, {\"gamma\": 1.0, \"eps\": 0.0002, \"acr\": null, \"acr_diff\": null, \"samples\": 0.0, \"standard_deviation\": null}]}}, {\"mode\": \"vega-lite\"});\n",
       "</script>"
      ],
      "text/plain": [
       "alt.LayerChart(...)"
      ]
     },
     "execution_count": 28,
     "metadata": {},
     "output_type": "execute_result"
    }
   ],
   "source": [
    "chi_line_df = filter(chi_df[chi_df.gamma >= 0.9], \"chi\", 0.0002)\n",
    "alpha_line_df = filter(alpha_df[alpha_df.gamma >= 0.9], \"alpha\", 0.0002)\n",
    "eps_line_df = filter(eps_df[eps_df.gamma >= 0.9], \"eps\", 0.0002)\n",
    "\n",
    "\n",
    "chi_line = alt.Chart(chi_line_df).mark_line(color=\"green\").encode(\n",
    "    x=\"gamma\",\n",
    "    y=\"acr_diff\"\n",
    ")\n",
    "alpha_line = alt.Chart(alpha_line_df).mark_line(color=\"red\").encode(\n",
    "    x=\"gamma\",\n",
    "    y=\"acr_diff\"\n",
    ")\n",
    "eps_line = alt.Chart(eps_line_df).mark_line(color=\"blue\").encode(\n",
    "    x=\"gamma\",\n",
    "    y=\"acr_diff\"\n",
    ")\n",
    "chi_line + alpha_line + eps_line"
   ]
  },
  {
   "cell_type": "code",
   "execution_count": null,
   "id": "8f6d5166",
   "metadata": {},
   "outputs": [],
   "source": []
  },
  {
   "cell_type": "code",
   "execution_count": null,
   "id": "a4e88537",
   "metadata": {},
   "outputs": [],
   "source": []
  },
  {
   "cell_type": "code",
   "execution_count": null,
   "id": "4a34cbfd",
   "metadata": {},
   "outputs": [],
   "source": []
  }
 ],
 "metadata": {
  "kernelspec": {
   "display_name": "Python 3 (ipykernel)",
   "language": "python",
   "name": "python3"
  },
  "language_info": {
   "codemirror_mode": {
    "name": "ipython",
    "version": 3
   },
   "file_extension": ".py",
   "mimetype": "text/x-python",
   "name": "python",
   "nbconvert_exporter": "python",
   "pygments_lexer": "ipython3",
   "version": "3.9.13"
  }
 },
 "nbformat": 4,
 "nbformat_minor": 5
}
