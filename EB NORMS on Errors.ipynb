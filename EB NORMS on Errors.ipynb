{
 "cells": [
  {
   "cell_type": "code",
   "execution_count": 7,
   "id": "bb86c545",
   "metadata": {},
   "outputs": [],
   "source": [
    "#!pip install altair pandas numpy\n",
    "import altair as alt\n",
    "import pandas as pd\n",
    "import numpy as np\n",
    "# norms\n",
    "# mean sj: (1,1,0,0,0,0,1,1)\n",
    "# nice sj: (1,1,0,1,0,1,1,1)\n",
    "\n",
    "ebnorms_b = [\"(1,1,0,0,0,0,1,1)\", \"(1,1,0,1,0,1,1,1)\", \"(1,1,1,0,1,0,1,1)\", \"(0,0,0,0,1,1,1,1)\", \"(0,1,0,1,1,1,1,1)\", \"(0,1,1,1,0,1,1,1)\",\n",
    "          \"(1,1,0,0,1,1,1,1)\", \"(1,1,0,1,1,1,1,1)\", \"(0,0,0,0,0,0,1,1)\", \"(0,1,0,1,0,1,1,1)\", \"(0,0,0,1,0,1,1,1)\", \"(0,0,1,1,0,1,1,1)\"]\n",
    "\n",
    "ebnorms_n = [\"SJ normal\", \"SJ nice\", \"SJ Mean\", \"IS normal\", \"IS nice\", \"IS weird\",\n",
    "             \"SS normal\", \"SS nice\", \"SH normal\", \"SH normal\", \"Emotion-Strict IS\", \"Emotion-Lenient IS\"]\n",
    "\n",
    "norms_simple_b = [\"(1,0,0,1)\", \"(1,0,1,1)\", \"(0,0,0,1)\", \"(0,0,1,1)\"]\n",
    "\n",
    "norms_simple_n = [\"SJ\", \"SS\", \"SH\", \"IS\"]\n",
    "\n",
    "columns = [\"EBNorm\", \"Norm\", \"z\", \"g\", \"mu\", \"chi\", \"eps\", \"alpha\", \"gamma\", \"pdx\", \"acr\", \"B\", \"G\", \"AllD\", \"Disc\", \"pDisc\", \"AllC\", \"m\", \"n\"]\n",
    "\n",
    "def load_and_process() -> pd.DataFrame: \n",
    "    data: pd.DataFrame = pd.read_csv(\"outputs/results.txt\", sep=\"\\t\", header=None, names=columns, index_col=False)\n",
    "    data.eps = data.eps / data.z\n",
    "    data.chi = data.chi / data.z\n",
    "    data.alpha = data.alpha / data.z\n",
    "    data.dropna()\n",
    "    data.EBNorm = data.EBNorm.replace(ebnorms_b, ebnorms_n)\n",
    "    data.Norm = data.Norm.replace(norms_simple_b, norms_simple_n)\n",
    "    #data = data.tail(50000)\n",
    "    return data\n",
    "\n",
    "def filter(frame: pd.DataFrame, feature: str, condition) -> pd.DataFrame:\n",
    "    return frame[frame[feature]==condition]\n",
    "    \n",
    "data = load_and_process()\n"
   ]
  },
  {
   "cell_type": "code",
   "execution_count": 8,
   "id": "b8aabaca",
   "metadata": {},
   "outputs": [
    {
     "data": {
      "text/html": [
       "<div>\n",
       "<style scoped>\n",
       "    .dataframe tbody tr th:only-of-type {\n",
       "        vertical-align: middle;\n",
       "    }\n",
       "\n",
       "    .dataframe tbody tr th {\n",
       "        vertical-align: top;\n",
       "    }\n",
       "\n",
       "    .dataframe thead th {\n",
       "        text-align: right;\n",
       "    }\n",
       "</style>\n",
       "<table border=\"1\" class=\"dataframe\">\n",
       "  <thead>\n",
       "    <tr style=\"text-align: right;\">\n",
       "      <th></th>\n",
       "      <th>EBNorm</th>\n",
       "      <th>Norm</th>\n",
       "      <th>z</th>\n",
       "      <th>g</th>\n",
       "      <th>mu</th>\n",
       "      <th>chi</th>\n",
       "      <th>eps</th>\n",
       "      <th>alpha</th>\n",
       "      <th>gamma</th>\n",
       "      <th>pdx</th>\n",
       "      <th>acr</th>\n",
       "      <th>B</th>\n",
       "      <th>G</th>\n",
       "      <th>AllD</th>\n",
       "      <th>Disc</th>\n",
       "      <th>pDisc</th>\n",
       "      <th>AllC</th>\n",
       "      <th>m</th>\n",
       "      <th>n</th>\n",
       "    </tr>\n",
       "  </thead>\n",
       "  <tbody>\n",
       "    <tr>\n",
       "      <th>0</th>\n",
       "      <td>Emotion-Strict IS</td>\n",
       "      <td>IS</td>\n",
       "      <td>50.0</td>\n",
       "      <td>2500.0</td>\n",
       "      <td>0.1</td>\n",
       "      <td>0.00002</td>\n",
       "      <td>0.00002</td>\n",
       "      <td>0.02000</td>\n",
       "      <td>0.8</td>\n",
       "      <td>True</td>\n",
       "      <td>75.380910</td>\n",
       "      <td>0.00</td>\n",
       "      <td>1.00</td>\n",
       "      <td>0.00</td>\n",
       "      <td>1.0</td>\n",
       "      <td>0.0</td>\n",
       "      <td>0.00</td>\n",
       "      <td>0.00</td>\n",
       "      <td>1.00</td>\n",
       "    </tr>\n",
       "    <tr>\n",
       "      <th>1</th>\n",
       "      <td>Emotion-Strict IS</td>\n",
       "      <td>IS</td>\n",
       "      <td>50.0</td>\n",
       "      <td>2500.0</td>\n",
       "      <td>0.1</td>\n",
       "      <td>0.00002</td>\n",
       "      <td>0.00002</td>\n",
       "      <td>0.00002</td>\n",
       "      <td>0.0</td>\n",
       "      <td>True</td>\n",
       "      <td>3.574434</td>\n",
       "      <td>1.00</td>\n",
       "      <td>0.00</td>\n",
       "      <td>1.00</td>\n",
       "      <td>0.0</td>\n",
       "      <td>0.0</td>\n",
       "      <td>0.00</td>\n",
       "      <td>0.00</td>\n",
       "      <td>1.00</td>\n",
       "    </tr>\n",
       "    <tr>\n",
       "      <th>2</th>\n",
       "      <td>Emotion-Strict IS</td>\n",
       "      <td>IS</td>\n",
       "      <td>50.0</td>\n",
       "      <td>2500.0</td>\n",
       "      <td>0.1</td>\n",
       "      <td>0.00002</td>\n",
       "      <td>0.00002</td>\n",
       "      <td>0.00002</td>\n",
       "      <td>0.0</td>\n",
       "      <td>True</td>\n",
       "      <td>0.230539</td>\n",
       "      <td>1.00</td>\n",
       "      <td>0.00</td>\n",
       "      <td>1.00</td>\n",
       "      <td>0.0</td>\n",
       "      <td>0.0</td>\n",
       "      <td>0.00</td>\n",
       "      <td>0.00</td>\n",
       "      <td>1.00</td>\n",
       "    </tr>\n",
       "    <tr>\n",
       "      <th>3</th>\n",
       "      <td>Emotion-Strict IS</td>\n",
       "      <td>IS</td>\n",
       "      <td>50.0</td>\n",
       "      <td>2500.0</td>\n",
       "      <td>0.1</td>\n",
       "      <td>0.00002</td>\n",
       "      <td>0.00002</td>\n",
       "      <td>0.00002</td>\n",
       "      <td>0.1</td>\n",
       "      <td>True</td>\n",
       "      <td>38.567796</td>\n",
       "      <td>1.00</td>\n",
       "      <td>0.00</td>\n",
       "      <td>1.00</td>\n",
       "      <td>0.0</td>\n",
       "      <td>0.0</td>\n",
       "      <td>0.00</td>\n",
       "      <td>0.00</td>\n",
       "      <td>1.00</td>\n",
       "    </tr>\n",
       "    <tr>\n",
       "      <th>4</th>\n",
       "      <td>Emotion-Strict IS</td>\n",
       "      <td>IS</td>\n",
       "      <td>50.0</td>\n",
       "      <td>2500.0</td>\n",
       "      <td>0.1</td>\n",
       "      <td>0.00002</td>\n",
       "      <td>0.00002</td>\n",
       "      <td>0.00002</td>\n",
       "      <td>0.1</td>\n",
       "      <td>True</td>\n",
       "      <td>63.599000</td>\n",
       "      <td>0.02</td>\n",
       "      <td>0.98</td>\n",
       "      <td>0.00</td>\n",
       "      <td>1.0</td>\n",
       "      <td>0.0</td>\n",
       "      <td>0.00</td>\n",
       "      <td>0.00</td>\n",
       "      <td>1.00</td>\n",
       "    </tr>\n",
       "    <tr>\n",
       "      <th>...</th>\n",
       "      <td>...</td>\n",
       "      <td>...</td>\n",
       "      <td>...</td>\n",
       "      <td>...</td>\n",
       "      <td>...</td>\n",
       "      <td>...</td>\n",
       "      <td>...</td>\n",
       "      <td>...</td>\n",
       "      <td>...</td>\n",
       "      <td>...</td>\n",
       "      <td>...</td>\n",
       "      <td>...</td>\n",
       "      <td>...</td>\n",
       "      <td>...</td>\n",
       "      <td>...</td>\n",
       "      <td>...</td>\n",
       "      <td>...</td>\n",
       "      <td>...</td>\n",
       "      <td>...</td>\n",
       "    </tr>\n",
       "    <tr>\n",
       "      <th>238063</th>\n",
       "      <td>Emotion-Lenient IS</td>\n",
       "      <td>IS</td>\n",
       "      <td>50.0</td>\n",
       "      <td>2500.0</td>\n",
       "      <td>0.1</td>\n",
       "      <td>0.00002</td>\n",
       "      <td>0.00002</td>\n",
       "      <td>0.20000</td>\n",
       "      <td>0.9</td>\n",
       "      <td>True</td>\n",
       "      <td>0.301384</td>\n",
       "      <td>0.62</td>\n",
       "      <td>0.38</td>\n",
       "      <td>1.00</td>\n",
       "      <td>0.0</td>\n",
       "      <td>0.0</td>\n",
       "      <td>0.00</td>\n",
       "      <td>0.00</td>\n",
       "      <td>1.00</td>\n",
       "    </tr>\n",
       "    <tr>\n",
       "      <th>238064</th>\n",
       "      <td>Emotion-Lenient IS</td>\n",
       "      <td>IS</td>\n",
       "      <td>50.0</td>\n",
       "      <td>2500.0</td>\n",
       "      <td>0.1</td>\n",
       "      <td>0.00002</td>\n",
       "      <td>0.00002</td>\n",
       "      <td>0.20000</td>\n",
       "      <td>1.0</td>\n",
       "      <td>True</td>\n",
       "      <td>0.539220</td>\n",
       "      <td>0.52</td>\n",
       "      <td>0.48</td>\n",
       "      <td>1.00</td>\n",
       "      <td>0.0</td>\n",
       "      <td>0.0</td>\n",
       "      <td>0.00</td>\n",
       "      <td>0.82</td>\n",
       "      <td>0.18</td>\n",
       "    </tr>\n",
       "    <tr>\n",
       "      <th>238065</th>\n",
       "      <td>Emotion-Lenient IS</td>\n",
       "      <td>IS</td>\n",
       "      <td>50.0</td>\n",
       "      <td>2500.0</td>\n",
       "      <td>0.1</td>\n",
       "      <td>0.00002</td>\n",
       "      <td>0.00002</td>\n",
       "      <td>0.20000</td>\n",
       "      <td>1.0</td>\n",
       "      <td>True</td>\n",
       "      <td>0.282307</td>\n",
       "      <td>0.44</td>\n",
       "      <td>0.56</td>\n",
       "      <td>1.00</td>\n",
       "      <td>0.0</td>\n",
       "      <td>0.0</td>\n",
       "      <td>0.00</td>\n",
       "      <td>1.00</td>\n",
       "      <td>0.00</td>\n",
       "    </tr>\n",
       "    <tr>\n",
       "      <th>238066</th>\n",
       "      <td>Emotion-Lenient IS</td>\n",
       "      <td>IS</td>\n",
       "      <td>50.0</td>\n",
       "      <td>2500.0</td>\n",
       "      <td>0.1</td>\n",
       "      <td>0.00002</td>\n",
       "      <td>0.00002</td>\n",
       "      <td>0.20000</td>\n",
       "      <td>1.0</td>\n",
       "      <td>True</td>\n",
       "      <td>0.426726</td>\n",
       "      <td>0.64</td>\n",
       "      <td>0.36</td>\n",
       "      <td>1.00</td>\n",
       "      <td>0.0</td>\n",
       "      <td>0.0</td>\n",
       "      <td>0.00</td>\n",
       "      <td>1.00</td>\n",
       "      <td>0.00</td>\n",
       "    </tr>\n",
       "    <tr>\n",
       "      <th>238067</th>\n",
       "      <td>Emotion-Lenient IS</td>\n",
       "      <td>IS</td>\n",
       "      <td>50.0</td>\n",
       "      <td>2500.0</td>\n",
       "      <td>0.1</td>\n",
       "      <td>0.00002</td>\n",
       "      <td>0.00002</td>\n",
       "      <td>0.20000</td>\n",
       "      <td>1.0</td>\n",
       "      <td>True</td>\n",
       "      <td>0.406232</td>\n",
       "      <td>0.52</td>\n",
       "      <td>0.48</td>\n",
       "      <td>0.98</td>\n",
       "      <td>0.0</td>\n",
       "      <td>0.0</td>\n",
       "      <td>0.02</td>\n",
       "      <td>0.02</td>\n",
       "      <td>0.98</td>\n",
       "    </tr>\n",
       "  </tbody>\n",
       "</table>\n",
       "<p>238068 rows × 19 columns</p>\n",
       "</div>"
      ],
      "text/plain": [
       "                    EBNorm Norm     z       g   mu      chi      eps    alpha  \\\n",
       "0        Emotion-Strict IS   IS  50.0  2500.0  0.1  0.00002  0.00002  0.02000   \n",
       "1        Emotion-Strict IS   IS  50.0  2500.0  0.1  0.00002  0.00002  0.00002   \n",
       "2        Emotion-Strict IS   IS  50.0  2500.0  0.1  0.00002  0.00002  0.00002   \n",
       "3        Emotion-Strict IS   IS  50.0  2500.0  0.1  0.00002  0.00002  0.00002   \n",
       "4        Emotion-Strict IS   IS  50.0  2500.0  0.1  0.00002  0.00002  0.00002   \n",
       "...                    ...  ...   ...     ...  ...      ...      ...      ...   \n",
       "238063  Emotion-Lenient IS   IS  50.0  2500.0  0.1  0.00002  0.00002  0.20000   \n",
       "238064  Emotion-Lenient IS   IS  50.0  2500.0  0.1  0.00002  0.00002  0.20000   \n",
       "238065  Emotion-Lenient IS   IS  50.0  2500.0  0.1  0.00002  0.00002  0.20000   \n",
       "238066  Emotion-Lenient IS   IS  50.0  2500.0  0.1  0.00002  0.00002  0.20000   \n",
       "238067  Emotion-Lenient IS   IS  50.0  2500.0  0.1  0.00002  0.00002  0.20000   \n",
       "\n",
       "        gamma   pdx        acr     B     G  AllD  Disc  pDisc  AllC     m  \\\n",
       "0         0.8  True  75.380910  0.00  1.00  0.00   1.0    0.0  0.00  0.00   \n",
       "1         0.0  True   3.574434  1.00  0.00  1.00   0.0    0.0  0.00  0.00   \n",
       "2         0.0  True   0.230539  1.00  0.00  1.00   0.0    0.0  0.00  0.00   \n",
       "3         0.1  True  38.567796  1.00  0.00  1.00   0.0    0.0  0.00  0.00   \n",
       "4         0.1  True  63.599000  0.02  0.98  0.00   1.0    0.0  0.00  0.00   \n",
       "...       ...   ...        ...   ...   ...   ...   ...    ...   ...   ...   \n",
       "238063    0.9  True   0.301384  0.62  0.38  1.00   0.0    0.0  0.00  0.00   \n",
       "238064    1.0  True   0.539220  0.52  0.48  1.00   0.0    0.0  0.00  0.82   \n",
       "238065    1.0  True   0.282307  0.44  0.56  1.00   0.0    0.0  0.00  1.00   \n",
       "238066    1.0  True   0.426726  0.64  0.36  1.00   0.0    0.0  0.00  1.00   \n",
       "238067    1.0  True   0.406232  0.52  0.48  0.98   0.0    0.0  0.02  0.02   \n",
       "\n",
       "           n  \n",
       "0       1.00  \n",
       "1       1.00  \n",
       "2       1.00  \n",
       "3       1.00  \n",
       "4       1.00  \n",
       "...      ...  \n",
       "238063  1.00  \n",
       "238064  0.18  \n",
       "238065  0.00  \n",
       "238066  0.00  \n",
       "238067  0.98  \n",
       "\n",
       "[238068 rows x 19 columns]"
      ]
     },
     "execution_count": 8,
     "metadata": {},
     "output_type": "execute_result"
    }
   ],
   "source": [
    "data"
   ]
  },
  {
   "cell_type": "code",
   "execution_count": 4,
   "id": "2513bafa",
   "metadata": {},
   "outputs": [
    {
     "ename": "AttributeError",
     "evalue": "'DataFrame' object has no attribute 'nice'",
     "output_type": "error",
     "traceback": [
      "\u001b[1;31m---------------------------------------------------------------------------\u001b[0m",
      "\u001b[1;31mAttributeError\u001b[0m                            Traceback (most recent call last)",
      "\u001b[1;32m~\\AppData\\Local\\Temp\\ipykernel_17764\\4089296863.py\u001b[0m in \u001b[0;36m<module>\u001b[1;34m\u001b[0m\n\u001b[0;32m     27\u001b[0m         \u001b[0mmean_acr\u001b[0m\u001b[1;33m:\u001b[0m \u001b[0mfloat\u001b[0m \u001b[1;33m=\u001b[0m \u001b[0msuper_filtered\u001b[0m\u001b[1;33m.\u001b[0m\u001b[0macr\u001b[0m\u001b[1;33m.\u001b[0m\u001b[0mmean\u001b[0m\u001b[1;33m(\u001b[0m\u001b[1;33m)\u001b[0m\u001b[1;33m\u001b[0m\u001b[1;33m\u001b[0m\u001b[0m\n\u001b[0;32m     28\u001b[0m         \u001b[0mmean_greps\u001b[0m\u001b[1;33m:\u001b[0m \u001b[0mfloat\u001b[0m \u001b[1;33m=\u001b[0m \u001b[0msuper_filtered\u001b[0m\u001b[1;33m.\u001b[0m\u001b[0mG\u001b[0m\u001b[1;33m.\u001b[0m\u001b[0mmean\u001b[0m\u001b[1;33m(\u001b[0m\u001b[1;33m)\u001b[0m\u001b[1;33m\u001b[0m\u001b[1;33m\u001b[0m\u001b[0m\n\u001b[1;32m---> 29\u001b[1;33m         \u001b[0mmean_niceeps\u001b[0m\u001b[1;33m:\u001b[0m \u001b[0mfloat\u001b[0m \u001b[1;33m=\u001b[0m \u001b[0msuper_filtered\u001b[0m\u001b[1;33m.\u001b[0m\u001b[0mnice\u001b[0m\u001b[1;33m.\u001b[0m\u001b[0mmean\u001b[0m\u001b[1;33m(\u001b[0m\u001b[1;33m)\u001b[0m\u001b[1;33m\u001b[0m\u001b[1;33m\u001b[0m\u001b[0m\n\u001b[0m\u001b[0;32m     30\u001b[0m \u001b[1;33m\u001b[0m\u001b[0m\n\u001b[0;32m     31\u001b[0m         \u001b[0mmean_AllC\u001b[0m\u001b[1;33m:\u001b[0m \u001b[0mfloat\u001b[0m \u001b[1;33m=\u001b[0m \u001b[0msuper_filtered\u001b[0m\u001b[1;33m.\u001b[0m\u001b[0mAllC\u001b[0m\u001b[1;33m.\u001b[0m\u001b[0mmean\u001b[0m\u001b[1;33m(\u001b[0m\u001b[1;33m)\u001b[0m\u001b[1;33m\u001b[0m\u001b[1;33m\u001b[0m\u001b[0m\n",
      "\u001b[1;32m~\\anaconda3\\lib\\site-packages\\pandas\\core\\generic.py\u001b[0m in \u001b[0;36m__getattr__\u001b[1;34m(self, name)\u001b[0m\n\u001b[0;32m   5573\u001b[0m         ):\n\u001b[0;32m   5574\u001b[0m             \u001b[1;32mreturn\u001b[0m \u001b[0mself\u001b[0m\u001b[1;33m[\u001b[0m\u001b[0mname\u001b[0m\u001b[1;33m]\u001b[0m\u001b[1;33m\u001b[0m\u001b[1;33m\u001b[0m\u001b[0m\n\u001b[1;32m-> 5575\u001b[1;33m         \u001b[1;32mreturn\u001b[0m \u001b[0mobject\u001b[0m\u001b[1;33m.\u001b[0m\u001b[0m__getattribute__\u001b[0m\u001b[1;33m(\u001b[0m\u001b[0mself\u001b[0m\u001b[1;33m,\u001b[0m \u001b[0mname\u001b[0m\u001b[1;33m)\u001b[0m\u001b[1;33m\u001b[0m\u001b[1;33m\u001b[0m\u001b[0m\n\u001b[0m\u001b[0;32m   5576\u001b[0m \u001b[1;33m\u001b[0m\u001b[0m\n\u001b[0;32m   5577\u001b[0m     \u001b[1;32mdef\u001b[0m \u001b[0m__setattr__\u001b[0m\u001b[1;33m(\u001b[0m\u001b[0mself\u001b[0m\u001b[1;33m,\u001b[0m \u001b[0mname\u001b[0m\u001b[1;33m:\u001b[0m \u001b[0mstr\u001b[0m\u001b[1;33m,\u001b[0m \u001b[0mvalue\u001b[0m\u001b[1;33m)\u001b[0m \u001b[1;33m->\u001b[0m \u001b[1;32mNone\u001b[0m\u001b[1;33m:\u001b[0m\u001b[1;33m\u001b[0m\u001b[1;33m\u001b[0m\u001b[0m\n",
      "\u001b[1;31mAttributeError\u001b[0m: 'DataFrame' object has no attribute 'nice'"
     ]
    }
   ],
   "source": [
    "chosen_norm: str = \"IS Empirical\"\n",
    "filtered = data[data.EBNorm == chosen_norm]\n",
    "filtered = filtered[filtered.Norm == \"IS\"]\n",
    "filtered = filter(filtered, \"z\", 50)\n",
    "filtered = filter(filtered, \"eps\", 0.00002)\n",
    "filtered = filter(filtered, \"chi\", 0.00002)\n",
    "#filtered = filter(filtered, \"alpha\", 0.00002)\n",
    "\n",
    "#new_cols = [\"gamma\", \"eps\", \"acr\", \"g_reps\", \"nice_eps\", \"AllD\", \"pDisc\", \"Disc\", \"AllC\"]\n",
    "#new_cols = [\"gamma\", \"chi\", \"acr\", \"g_reps\", \"nice_eps\", \"AllD\", \"pDisc\", \"Disc\", \"AllC\"]\n",
    "new_cols = [\"gamma\", \"alpha\", \"acr\", \"g_reps\", \"nice_eps\", \"AllD\", \"pDisc\", \"Disc\", \"AllC\"]\n",
    "new_df = pd.DataFrame(columns=new_cols)\n",
    "\n",
    "gammas = [round(a, 2) for a in np.arange(0, 1.01, 0.1)]\n",
    "epsilons = [0.00002, 0.0002, 0.002, 0.02, 0.2]\n",
    "chis = [0.00002, 0.0002, 0.002, 0.02, 0.2]\n",
    "alphas = [0.00002, 0.0002, 0.002, 0.02, 0.2]\n",
    "\n",
    "for gamma in gammas:\n",
    "    #for epsilon in epsilons:\n",
    "    #for chi in chis:\n",
    "    for alpha in alphas:\n",
    "        #super_filtered = filtered[(filtered.gamma == gamma) & (filtered.eps == epsilon)]\n",
    "        #super_filtered = filtered[(filtered.gamma == gamma) & (filtered.chi == chi)]\n",
    "        super_filtered = filtered[(filtered.gamma == gamma) & (filtered.alpha == alpha)]\n",
    "        \n",
    "        mean_acr: float = super_filtered.acr.mean()\n",
    "        mean_greps: float = super_filtered.G.mean()\n",
    "        mean_niceeps: float = super_filtered.nice.mean()\n",
    "    \n",
    "        mean_AllC: float = super_filtered.AllC.mean()\n",
    "        mean_Disc: float = super_filtered.Disc.mean()\n",
    "        mean_AllD: float = super_filtered.AllD.mean()\n",
    "        mean_pDisc: float = super_filtered.pDisc.mean()\n",
    "        #new_df.loc[len(new_df)] = [gamma, epsilon, mean_acr, mean_greps, mean_niceeps, mean_AllD, mean_pDisc, mean_Disc, mean_AllC]\n",
    "        #new_df.loc[len(new_df)] = [gamma, chi, mean_acr, mean_greps, mean_niceeps, mean_AllD, mean_pDisc, mean_Disc, mean_AllC]\n",
    "        new_df.loc[len(new_df)] = [gamma, alpha, mean_acr, mean_greps, mean_niceeps, mean_AllD, mean_pDisc, mean_Disc, mean_AllC]\n",
    "\n",
    "feature: str = \"acr\" + \":Q\"\n",
    "            \n",
    "heatmap = alt.Chart(new_df).mark_rect().encode(\n",
    "    #x='chi:O',\n",
    "    #x='eps:O',\n",
    "    x='alpha:O',\n",
    "    y=alt.Y('gamma:O', sort=alt.EncodingSortField('gamma', order='descending')),\n",
    "    color=alt.Color(feature, scale=alt.Scale(domain=[0,90]))\n",
    ").properties(\n",
    "    height=400,\n",
    "    width=400,\n",
    "    title = chosen_norm\n",
    ")\n",
    "\n",
    "text = heatmap.mark_text().encode(\n",
    "    text=alt.Text(feature, format=\".2f\"),\n",
    "    color=alt.value('black')\n",
    ")\n",
    "\n",
    "#heatmap+text"
   ]
  },
  {
   "cell_type": "markdown",
   "id": "c35a1ccd",
   "metadata": {},
   "source": [
    "## DIFFERENCE\n",
    "### gamma in [0, 1] +0.1\n"
   ]
  },
  {
   "cell_type": "code",
   "execution_count": 3,
   "id": "79ab4b6f",
   "metadata": {},
   "outputs": [
    {
     "ename": "ValueError",
     "evalue": "cannot set a row with mismatched columns",
     "output_type": "error",
     "traceback": [
      "\u001b[1;31m---------------------------------------------------------------------------\u001b[0m",
      "\u001b[1;31mValueError\u001b[0m                                Traceback (most recent call last)",
      "\u001b[1;32m~\\AppData\\Local\\Temp\\ipykernel_17764\\2746580136.py\u001b[0m in \u001b[0;36m<module>\u001b[1;34m\u001b[0m\n\u001b[0;32m     25\u001b[0m         \u001b[0mmean_acr_normal\u001b[0m \u001b[1;33m=\u001b[0m \u001b[0msuper_filtered\u001b[0m\u001b[1;33m[\u001b[0m\u001b[0msuper_filtered\u001b[0m\u001b[1;33m.\u001b[0m\u001b[0mEBNorm\u001b[0m \u001b[1;33m==\u001b[0m \u001b[1;34m\"IS normal\"\u001b[0m\u001b[1;33m]\u001b[0m\u001b[1;33m.\u001b[0m\u001b[0macr\u001b[0m\u001b[1;33m.\u001b[0m\u001b[0mmean\u001b[0m\u001b[1;33m(\u001b[0m\u001b[1;33m)\u001b[0m\u001b[1;33m\u001b[0m\u001b[1;33m\u001b[0m\u001b[0m\n\u001b[0;32m     26\u001b[0m \u001b[1;33m\u001b[0m\u001b[0m\n\u001b[1;32m---> 27\u001b[1;33m         \u001b[0mnew_df\u001b[0m\u001b[1;33m.\u001b[0m\u001b[0mloc\u001b[0m\u001b[1;33m[\u001b[0m\u001b[0mlen\u001b[0m\u001b[1;33m(\u001b[0m\u001b[0mnew_df\u001b[0m\u001b[1;33m)\u001b[0m\u001b[1;33m]\u001b[0m \u001b[1;33m=\u001b[0m \u001b[1;33m[\u001b[0m\u001b[0mgamma\u001b[0m\u001b[1;33m,\u001b[0m \u001b[0mparameter_value\u001b[0m\u001b[1;33m,\u001b[0m \u001b[0mmean_acr_nice\u001b[0m \u001b[1;33m-\u001b[0m \u001b[0mmean_acr_normal\u001b[0m\u001b[1;33m,\u001b[0m \u001b[0msuper_filtered\u001b[0m\u001b[1;33m.\u001b[0m\u001b[0mshape\u001b[0m\u001b[1;33m[\u001b[0m\u001b[1;36m1\u001b[0m\u001b[1;33m]\u001b[0m\u001b[1;33m]\u001b[0m\u001b[1;33m\u001b[0m\u001b[1;33m\u001b[0m\u001b[0m\n\u001b[0m\u001b[0;32m     28\u001b[0m \u001b[1;33m\u001b[0m\u001b[0m\n\u001b[0;32m     29\u001b[0m \u001b[1;31m# Define feature for Altair chart\u001b[0m\u001b[1;33m\u001b[0m\u001b[1;33m\u001b[0m\u001b[0m\n",
      "\u001b[1;32m~\\anaconda3\\lib\\site-packages\\pandas\\core\\indexing.py\u001b[0m in \u001b[0;36m__setitem__\u001b[1;34m(self, key, value)\u001b[0m\n\u001b[0;32m    714\u001b[0m \u001b[1;33m\u001b[0m\u001b[0m\n\u001b[0;32m    715\u001b[0m         \u001b[0miloc\u001b[0m \u001b[1;33m=\u001b[0m \u001b[0mself\u001b[0m \u001b[1;32mif\u001b[0m \u001b[0mself\u001b[0m\u001b[1;33m.\u001b[0m\u001b[0mname\u001b[0m \u001b[1;33m==\u001b[0m \u001b[1;34m\"iloc\"\u001b[0m \u001b[1;32melse\u001b[0m \u001b[0mself\u001b[0m\u001b[1;33m.\u001b[0m\u001b[0mobj\u001b[0m\u001b[1;33m.\u001b[0m\u001b[0miloc\u001b[0m\u001b[1;33m\u001b[0m\u001b[1;33m\u001b[0m\u001b[0m\n\u001b[1;32m--> 716\u001b[1;33m         \u001b[0miloc\u001b[0m\u001b[1;33m.\u001b[0m\u001b[0m_setitem_with_indexer\u001b[0m\u001b[1;33m(\u001b[0m\u001b[0mindexer\u001b[0m\u001b[1;33m,\u001b[0m \u001b[0mvalue\u001b[0m\u001b[1;33m,\u001b[0m \u001b[0mself\u001b[0m\u001b[1;33m.\u001b[0m\u001b[0mname\u001b[0m\u001b[1;33m)\u001b[0m\u001b[1;33m\u001b[0m\u001b[1;33m\u001b[0m\u001b[0m\n\u001b[0m\u001b[0;32m    717\u001b[0m \u001b[1;33m\u001b[0m\u001b[0m\n\u001b[0;32m    718\u001b[0m     \u001b[1;32mdef\u001b[0m \u001b[0m_validate_key\u001b[0m\u001b[1;33m(\u001b[0m\u001b[0mself\u001b[0m\u001b[1;33m,\u001b[0m \u001b[0mkey\u001b[0m\u001b[1;33m,\u001b[0m \u001b[0maxis\u001b[0m\u001b[1;33m:\u001b[0m \u001b[0mint\u001b[0m\u001b[1;33m)\u001b[0m\u001b[1;33m:\u001b[0m\u001b[1;33m\u001b[0m\u001b[1;33m\u001b[0m\u001b[0m\n",
      "\u001b[1;32m~\\anaconda3\\lib\\site-packages\\pandas\\core\\indexing.py\u001b[0m in \u001b[0;36m_setitem_with_indexer\u001b[1;34m(self, indexer, value, name)\u001b[0m\n\u001b[0;32m   1683\u001b[0m \u001b[1;33m\u001b[0m\u001b[0m\n\u001b[0;32m   1684\u001b[0m             \u001b[1;32mif\u001b[0m \u001b[0mmissing\u001b[0m\u001b[1;33m:\u001b[0m\u001b[1;33m\u001b[0m\u001b[1;33m\u001b[0m\u001b[0m\n\u001b[1;32m-> 1685\u001b[1;33m                 \u001b[0mself\u001b[0m\u001b[1;33m.\u001b[0m\u001b[0m_setitem_with_indexer_missing\u001b[0m\u001b[1;33m(\u001b[0m\u001b[0mindexer\u001b[0m\u001b[1;33m,\u001b[0m \u001b[0mvalue\u001b[0m\u001b[1;33m)\u001b[0m\u001b[1;33m\u001b[0m\u001b[1;33m\u001b[0m\u001b[0m\n\u001b[0m\u001b[0;32m   1686\u001b[0m                 \u001b[1;32mreturn\u001b[0m\u001b[1;33m\u001b[0m\u001b[1;33m\u001b[0m\u001b[0m\n\u001b[0;32m   1687\u001b[0m \u001b[1;33m\u001b[0m\u001b[0m\n",
      "\u001b[1;32m~\\anaconda3\\lib\\site-packages\\pandas\\core\\indexing.py\u001b[0m in \u001b[0;36m_setitem_with_indexer_missing\u001b[1;34m(self, indexer, value)\u001b[0m\n\u001b[0;32m   2001\u001b[0m                     \u001b[1;31m# must have conforming columns\u001b[0m\u001b[1;33m\u001b[0m\u001b[1;33m\u001b[0m\u001b[0m\n\u001b[0;32m   2002\u001b[0m                     \u001b[1;32mif\u001b[0m \u001b[0mlen\u001b[0m\u001b[1;33m(\u001b[0m\u001b[0mvalue\u001b[0m\u001b[1;33m)\u001b[0m \u001b[1;33m!=\u001b[0m \u001b[0mlen\u001b[0m\u001b[1;33m(\u001b[0m\u001b[0mself\u001b[0m\u001b[1;33m.\u001b[0m\u001b[0mobj\u001b[0m\u001b[1;33m.\u001b[0m\u001b[0mcolumns\u001b[0m\u001b[1;33m)\u001b[0m\u001b[1;33m:\u001b[0m\u001b[1;33m\u001b[0m\u001b[1;33m\u001b[0m\u001b[0m\n\u001b[1;32m-> 2003\u001b[1;33m                         \u001b[1;32mraise\u001b[0m \u001b[0mValueError\u001b[0m\u001b[1;33m(\u001b[0m\u001b[1;34m\"cannot set a row with mismatched columns\"\u001b[0m\u001b[1;33m)\u001b[0m\u001b[1;33m\u001b[0m\u001b[1;33m\u001b[0m\u001b[0m\n\u001b[0m\u001b[0;32m   2004\u001b[0m \u001b[1;33m\u001b[0m\u001b[0m\n\u001b[0;32m   2005\u001b[0m                 \u001b[0mvalue\u001b[0m \u001b[1;33m=\u001b[0m \u001b[0mSeries\u001b[0m\u001b[1;33m(\u001b[0m\u001b[0mvalue\u001b[0m\u001b[1;33m,\u001b[0m \u001b[0mindex\u001b[0m\u001b[1;33m=\u001b[0m\u001b[0mself\u001b[0m\u001b[1;33m.\u001b[0m\u001b[0mobj\u001b[0m\u001b[1;33m.\u001b[0m\u001b[0mcolumns\u001b[0m\u001b[1;33m,\u001b[0m \u001b[0mname\u001b[0m\u001b[1;33m=\u001b[0m\u001b[0mindexer\u001b[0m\u001b[1;33m)\u001b[0m\u001b[1;33m\u001b[0m\u001b[1;33m\u001b[0m\u001b[0m\n",
      "\u001b[1;31mValueError\u001b[0m: cannot set a row with mismatched columns"
     ]
    }
   ],
   "source": [
    "data = load_and_process()\n",
    "\n",
    "chosen_parameter = \"eps\"\n",
    "\n",
    "# Initial filtering\n",
    "filtered = filter(data, \"z\", 50)\n",
    "filtered = filter(filtered, \"eps\", 0.00002) if chosen_parameter != \"eps\" else filtered\n",
    "filtered = filter(filtered, \"chi\", 0.00002) if chosen_parameter != \"chi\" else filtered\n",
    "filtered = filter(filtered, \"alpha\", 0.00002) if chosen_parameter != \"alpha\" else filtered\n",
    "\n",
    "# Define columns based on the chosen parameter\n",
    "new_cols = [\"gamma\", chosen_parameter, \"acr\"]\n",
    "new_df = pd.DataFrame(columns=new_cols)\n",
    "\n",
    "gammas = [round(a, 2) for a in np.arange(0, 1.01, 0.1)]\n",
    "\n",
    "# Define values based on the chosen parameter\n",
    "parameter_values = [0.00002, 0.0002, 0.002, 0.02, 0.2]\n",
    "\n",
    "for gamma in gammas:\n",
    "    for parameter_value in parameter_values:\n",
    "        super_filtered = filtered[(filtered.gamma == gamma) & (filtered[chosen_parameter] == parameter_value)]\n",
    "        \n",
    "        mean_acr_nice = super_filtered[super_filtered.EBNorm == \"Emotion-Lenient IS\"].acr.mean()\n",
    "        mean_acr_normal = super_filtered[super_filtered.EBNorm == \"IS normal\"].acr.mean()\n",
    "        \n",
    "        new_df.loc[len(new_df)] = [gamma, parameter_value, mean_acr_nice - mean_acr_normal, super_filtered.shape[1]]\n",
    "\n",
    "# Define feature for Altair chart\n",
    "feature = \"acr:Q\"\n",
    "\n",
    "# Create Altair chart\n",
    "heatmap = alt.Chart(new_df).mark_rect().encode(\n",
    "    x=f\"{chosen_parameter}:O\",\n",
    "    y=alt.Y('gamma:O', sort=alt.EncodingSortField('gamma', order='descending')),\n",
    "    color=alt.Color(feature, scale=alt.Scale(domain=[-63, 63], scheme='blueorange'), sort=\"descending\")\n",
    ").properties(\n",
    "    height=400,\n",
    "    width=400,\n",
    "    title=\"ACR Difference between EB-IS and IS\"\n",
    ")\n",
    "\n",
    "# Add text annotations to the chart\n",
    "text = heatmap.mark_text().encode(\n",
    "    text=alt.Text(feature, format=\".2f\"),\n",
    "    color=alt.value('black')\n",
    ")\n",
    "\n",
    "# Display the chart with text annotations\n",
    "heatmap + text"
   ]
  },
  {
   "cell_type": "markdown",
   "id": "e225c3a5",
   "metadata": {},
   "source": [
    "## Difference"
   ]
  },
  {
   "cell_type": "code",
   "execution_count": 10,
   "id": "a277c1f0",
   "metadata": {},
   "outputs": [],
   "source": [
    "def heatmap(chosen_parameter, absolute=False):\n",
    "    data = load_and_process()\n",
    "\n",
    "    # Initial filtering\n",
    "    filtered = filter(data, \"z\", 50)\n",
    "    filtered = filter(filtered, \"eps\", 0.00002) if chosen_parameter != \"eps\" else filtered\n",
    "    filtered = filter(filtered, \"chi\", 0.00002) if chosen_parameter != \"chi\" else filtered\n",
    "    filtered = filter(filtered, \"alpha\", 0.00002) if chosen_parameter != \"alpha\" else filtered\n",
    "    \n",
    "    print(\"filtered size = \", filtered.shape)\n",
    "\n",
    "    # Define columns based on the chosen parameter\n",
    "    new_cols = [\"gamma\", chosen_parameter, \"acr\", \"ACR Difference\", \"samples\", \"standard_deviation\"]\n",
    "    new_df = pd.DataFrame(columns=new_cols)\n",
    "\n",
    "    gammas = [round(a, 2) for a in np.arange(0, 1.01, 0.1)]\n",
    "    #gammas = filtered.gamma.unique()\n",
    "\n",
    "    # Define values based on the chosen parameter\n",
    "    parameter_values = [0.00002, 0.0002, 0.002, 0.02, 0.2]\n",
    "\n",
    "    for gamma in gammas:\n",
    "        for parameter_value in parameter_values:\n",
    "            super_filtered = filtered[(filtered.gamma == gamma) & (filtered[chosen_parameter] == parameter_value)]\n",
    "            mean_acr_nice = super_filtered[super_filtered.EBNorm == \"Emotion-Lenient IS\"].acr.mean()\n",
    "            mean_acr_normal = super_filtered[super_filtered.EBNorm == \"IS normal\"].acr.mean()\n",
    "            \n",
    "            std_acr_nice = super_filtered[super_filtered.EBNorm == \"Emotion-Lenient IS\"].acr.std()\n",
    "\n",
    "            new_df.loc[len(new_df)] = [gamma, parameter_value, mean_acr_nice, mean_acr_nice - mean_acr_normal, super_filtered.shape[0], std_acr_nice]\n",
    "\n",
    "    # Define feature for Altair chart\n",
    "    feature = \"acr:Q\" if absolute else \"acr_diff:Q\"\n",
    "    domain = [0, 100] if absolute else [-20, 80] \n",
    "\n",
    "    # Create Altair chart\n",
    "    heatmap = alt.Chart(new_df).mark_rect().encode(\n",
    "        x=f\"{chosen_parameter}:O\",\n",
    "        y=alt.Y('gamma:O', sort=alt.EncodingSortField('gamma', order='descending')),\n",
    "        color=alt.Color(feature, scale=alt.Scale(domain=domain, scheme='blueorange'), sort=\"descending\")\n",
    "    ).properties(\n",
    "        height=400,\n",
    "        width=400,\n",
    "        title=\"ACR Difference between ES-IS and IS\"\n",
    "    )\n",
    "\n",
    "    # Add text annotations to the chart\n",
    "    text = heatmap.mark_text().encode(\n",
    "        text=alt.Text(feature, format=\".2f\"),\n",
    "        color=alt.value('black')\n",
    "    )\n",
    "\n",
    "    # Display the chart with text annotations\n",
    "    #heatmap + text\n",
    "    return new_df, (heatmap + text)"
   ]
  },
  {
   "cell_type": "code",
   "execution_count": 11,
   "id": "025d7d0b",
   "metadata": {},
   "outputs": [
    {
     "name": "stdout",
     "output_type": "stream",
     "text": [
      "filtered size =  (76902, 19)\n",
      "filtered size =  (151330, 19)\n",
      "filtered size =  (74011, 19)\n"
     ]
    }
   ],
   "source": [
    "chi_df, c = heatmap(\"chi\")\n",
    "alpha_df, c = heatmap(\"alpha\")\n",
    "eps_df, c = heatmap(\"eps\")"
   ]
  },
  {
   "cell_type": "code",
   "execution_count": 14,
   "id": "379399b7",
   "metadata": {},
   "outputs": [
    {
     "data": {
      "application/vnd.plotly.v1+json": {
       "config": {
        "plotlyServerURL": "https://plot.ly"
       },
       "data": [
        {
         "colorscale": [
          [
           0,
           "rgb(103,0,31)"
          ],
          [
           0.1,
           "rgb(178,24,43)"
          ],
          [
           0.2,
           "rgb(214,96,77)"
          ],
          [
           0.3,
           "rgb(244,165,130)"
          ],
          [
           0.4,
           "rgb(253,219,199)"
          ],
          [
           0.5,
           "rgb(247,247,247)"
          ],
          [
           0.6,
           "rgb(209,229,240)"
          ],
          [
           0.7,
           "rgb(146,197,222)"
          ],
          [
           0.8,
           "rgb(67,147,195)"
          ],
          [
           0.9,
           "rgb(33,102,172)"
          ],
          [
           1,
           "rgb(5,48,97)"
          ]
         ],
         "contours": {
          "showlabels": true
         },
         "ncontours": 25,
         "type": "contour",
         "x": [
          2e-05,
          0.0002,
          0.002,
          0.02,
          0.2
         ],
         "y": [
          0,
          0.1,
          0.2,
          0.3,
          0.4,
          0.5,
          0.6,
          0.7,
          0.8,
          0.9,
          1
         ],
         "z": [
          [
           2.149551019570243,
           0.1591702007993696,
           0.22232966014986388,
           0.3738872774257658,
           0.9093687903389807
          ],
          [
           11.740337524369917,
           10.474901314634334,
           14.376800077926433,
           3.284897999922368,
           -0.41563343637133343
          ],
          [
           17.772742319645847,
           15.096548566187266,
           13.045345627127091,
           12.468217673707894,
           2.267195322383884
          ],
          [
           19.394746717240782,
           16.253789167793936,
           20.495365793787165,
           21.984212751596672,
           3.4826905332815556
          ],
          [
           19.933542278865005,
           21.746209277921817,
           22.698724491815216,
           31.28048939248812,
           6.687096200761783
          ],
          [
           23.403044273714976,
           22.991646252587085,
           28.336132348008462,
           40.470877273696466,
           10.202911626230808
          ],
          [
           26.15640071228576,
           29.15690697974426,
           31.828298959387237,
           47.22628642027071,
           12.84786394123666
          ],
          [
           24.973258269591273,
           27.838040124473498,
           36.00975956368835,
           44.863577973121274,
           13.37103637841511
          ],
          [
           29.352195328234924,
           30.872011413026154,
           41.13209814344043,
           49.790194937673334,
           13.6734831830946
          ],
          [
           37.18562163120336,
           36.97610529300535,
           47.45995497863716,
           52.18958417141641,
           8.312720015803567
          ],
          [
           -17.965993307615708,
           -18.815182019266416,
           -15.051003869978656,
           -8.925317872339964,
           -1.68383573699084
          ]
         ],
         "zmax": 65,
         "zmin": -65
        }
       ],
       "layout": {
        "font": {
         "size": 16
        },
        "height": 800,
        "template": {
         "data": {
          "bar": [
           {
            "error_x": {
             "color": "#2a3f5f"
            },
            "error_y": {
             "color": "#2a3f5f"
            },
            "marker": {
             "line": {
              "color": "#E5ECF6",
              "width": 0.5
             },
             "pattern": {
              "fillmode": "overlay",
              "size": 10,
              "solidity": 0.2
             }
            },
            "type": "bar"
           }
          ],
          "barpolar": [
           {
            "marker": {
             "line": {
              "color": "#E5ECF6",
              "width": 0.5
             },
             "pattern": {
              "fillmode": "overlay",
              "size": 10,
              "solidity": 0.2
             }
            },
            "type": "barpolar"
           }
          ],
          "carpet": [
           {
            "aaxis": {
             "endlinecolor": "#2a3f5f",
             "gridcolor": "white",
             "linecolor": "white",
             "minorgridcolor": "white",
             "startlinecolor": "#2a3f5f"
            },
            "baxis": {
             "endlinecolor": "#2a3f5f",
             "gridcolor": "white",
             "linecolor": "white",
             "minorgridcolor": "white",
             "startlinecolor": "#2a3f5f"
            },
            "type": "carpet"
           }
          ],
          "choropleth": [
           {
            "colorbar": {
             "outlinewidth": 0,
             "ticks": ""
            },
            "type": "choropleth"
           }
          ],
          "contour": [
           {
            "colorbar": {
             "outlinewidth": 0,
             "ticks": ""
            },
            "colorscale": [
             [
              0,
              "#0d0887"
             ],
             [
              0.1111111111111111,
              "#46039f"
             ],
             [
              0.2222222222222222,
              "#7201a8"
             ],
             [
              0.3333333333333333,
              "#9c179e"
             ],
             [
              0.4444444444444444,
              "#bd3786"
             ],
             [
              0.5555555555555556,
              "#d8576b"
             ],
             [
              0.6666666666666666,
              "#ed7953"
             ],
             [
              0.7777777777777778,
              "#fb9f3a"
             ],
             [
              0.8888888888888888,
              "#fdca26"
             ],
             [
              1,
              "#f0f921"
             ]
            ],
            "type": "contour"
           }
          ],
          "contourcarpet": [
           {
            "colorbar": {
             "outlinewidth": 0,
             "ticks": ""
            },
            "type": "contourcarpet"
           }
          ],
          "heatmap": [
           {
            "colorbar": {
             "outlinewidth": 0,
             "ticks": ""
            },
            "colorscale": [
             [
              0,
              "#0d0887"
             ],
             [
              0.1111111111111111,
              "#46039f"
             ],
             [
              0.2222222222222222,
              "#7201a8"
             ],
             [
              0.3333333333333333,
              "#9c179e"
             ],
             [
              0.4444444444444444,
              "#bd3786"
             ],
             [
              0.5555555555555556,
              "#d8576b"
             ],
             [
              0.6666666666666666,
              "#ed7953"
             ],
             [
              0.7777777777777778,
              "#fb9f3a"
             ],
             [
              0.8888888888888888,
              "#fdca26"
             ],
             [
              1,
              "#f0f921"
             ]
            ],
            "type": "heatmap"
           }
          ],
          "heatmapgl": [
           {
            "colorbar": {
             "outlinewidth": 0,
             "ticks": ""
            },
            "colorscale": [
             [
              0,
              "#0d0887"
             ],
             [
              0.1111111111111111,
              "#46039f"
             ],
             [
              0.2222222222222222,
              "#7201a8"
             ],
             [
              0.3333333333333333,
              "#9c179e"
             ],
             [
              0.4444444444444444,
              "#bd3786"
             ],
             [
              0.5555555555555556,
              "#d8576b"
             ],
             [
              0.6666666666666666,
              "#ed7953"
             ],
             [
              0.7777777777777778,
              "#fb9f3a"
             ],
             [
              0.8888888888888888,
              "#fdca26"
             ],
             [
              1,
              "#f0f921"
             ]
            ],
            "type": "heatmapgl"
           }
          ],
          "histogram": [
           {
            "marker": {
             "pattern": {
              "fillmode": "overlay",
              "size": 10,
              "solidity": 0.2
             }
            },
            "type": "histogram"
           }
          ],
          "histogram2d": [
           {
            "colorbar": {
             "outlinewidth": 0,
             "ticks": ""
            },
            "colorscale": [
             [
              0,
              "#0d0887"
             ],
             [
              0.1111111111111111,
              "#46039f"
             ],
             [
              0.2222222222222222,
              "#7201a8"
             ],
             [
              0.3333333333333333,
              "#9c179e"
             ],
             [
              0.4444444444444444,
              "#bd3786"
             ],
             [
              0.5555555555555556,
              "#d8576b"
             ],
             [
              0.6666666666666666,
              "#ed7953"
             ],
             [
              0.7777777777777778,
              "#fb9f3a"
             ],
             [
              0.8888888888888888,
              "#fdca26"
             ],
             [
              1,
              "#f0f921"
             ]
            ],
            "type": "histogram2d"
           }
          ],
          "histogram2dcontour": [
           {
            "colorbar": {
             "outlinewidth": 0,
             "ticks": ""
            },
            "colorscale": [
             [
              0,
              "#0d0887"
             ],
             [
              0.1111111111111111,
              "#46039f"
             ],
             [
              0.2222222222222222,
              "#7201a8"
             ],
             [
              0.3333333333333333,
              "#9c179e"
             ],
             [
              0.4444444444444444,
              "#bd3786"
             ],
             [
              0.5555555555555556,
              "#d8576b"
             ],
             [
              0.6666666666666666,
              "#ed7953"
             ],
             [
              0.7777777777777778,
              "#fb9f3a"
             ],
             [
              0.8888888888888888,
              "#fdca26"
             ],
             [
              1,
              "#f0f921"
             ]
            ],
            "type": "histogram2dcontour"
           }
          ],
          "mesh3d": [
           {
            "colorbar": {
             "outlinewidth": 0,
             "ticks": ""
            },
            "type": "mesh3d"
           }
          ],
          "parcoords": [
           {
            "line": {
             "colorbar": {
              "outlinewidth": 0,
              "ticks": ""
             }
            },
            "type": "parcoords"
           }
          ],
          "pie": [
           {
            "automargin": true,
            "type": "pie"
           }
          ],
          "scatter": [
           {
            "fillpattern": {
             "fillmode": "overlay",
             "size": 10,
             "solidity": 0.2
            },
            "type": "scatter"
           }
          ],
          "scatter3d": [
           {
            "line": {
             "colorbar": {
              "outlinewidth": 0,
              "ticks": ""
             }
            },
            "marker": {
             "colorbar": {
              "outlinewidth": 0,
              "ticks": ""
             }
            },
            "type": "scatter3d"
           }
          ],
          "scattercarpet": [
           {
            "marker": {
             "colorbar": {
              "outlinewidth": 0,
              "ticks": ""
             }
            },
            "type": "scattercarpet"
           }
          ],
          "scattergeo": [
           {
            "marker": {
             "colorbar": {
              "outlinewidth": 0,
              "ticks": ""
             }
            },
            "type": "scattergeo"
           }
          ],
          "scattergl": [
           {
            "marker": {
             "colorbar": {
              "outlinewidth": 0,
              "ticks": ""
             }
            },
            "type": "scattergl"
           }
          ],
          "scattermapbox": [
           {
            "marker": {
             "colorbar": {
              "outlinewidth": 0,
              "ticks": ""
             }
            },
            "type": "scattermapbox"
           }
          ],
          "scatterpolar": [
           {
            "marker": {
             "colorbar": {
              "outlinewidth": 0,
              "ticks": ""
             }
            },
            "type": "scatterpolar"
           }
          ],
          "scatterpolargl": [
           {
            "marker": {
             "colorbar": {
              "outlinewidth": 0,
              "ticks": ""
             }
            },
            "type": "scatterpolargl"
           }
          ],
          "scatterternary": [
           {
            "marker": {
             "colorbar": {
              "outlinewidth": 0,
              "ticks": ""
             }
            },
            "type": "scatterternary"
           }
          ],
          "surface": [
           {
            "colorbar": {
             "outlinewidth": 0,
             "ticks": ""
            },
            "colorscale": [
             [
              0,
              "#0d0887"
             ],
             [
              0.1111111111111111,
              "#46039f"
             ],
             [
              0.2222222222222222,
              "#7201a8"
             ],
             [
              0.3333333333333333,
              "#9c179e"
             ],
             [
              0.4444444444444444,
              "#bd3786"
             ],
             [
              0.5555555555555556,
              "#d8576b"
             ],
             [
              0.6666666666666666,
              "#ed7953"
             ],
             [
              0.7777777777777778,
              "#fb9f3a"
             ],
             [
              0.8888888888888888,
              "#fdca26"
             ],
             [
              1,
              "#f0f921"
             ]
            ],
            "type": "surface"
           }
          ],
          "table": [
           {
            "cells": {
             "fill": {
              "color": "#EBF0F8"
             },
             "line": {
              "color": "white"
             }
            },
            "header": {
             "fill": {
              "color": "#C8D4E3"
             },
             "line": {
              "color": "white"
             }
            },
            "type": "table"
           }
          ]
         },
         "layout": {
          "annotationdefaults": {
           "arrowcolor": "#2a3f5f",
           "arrowhead": 0,
           "arrowwidth": 1
          },
          "autotypenumbers": "strict",
          "coloraxis": {
           "colorbar": {
            "outlinewidth": 0,
            "ticks": ""
           }
          },
          "colorscale": {
           "diverging": [
            [
             0,
             "#8e0152"
            ],
            [
             0.1,
             "#c51b7d"
            ],
            [
             0.2,
             "#de77ae"
            ],
            [
             0.3,
             "#f1b6da"
            ],
            [
             0.4,
             "#fde0ef"
            ],
            [
             0.5,
             "#f7f7f7"
            ],
            [
             0.6,
             "#e6f5d0"
            ],
            [
             0.7,
             "#b8e186"
            ],
            [
             0.8,
             "#7fbc41"
            ],
            [
             0.9,
             "#4d9221"
            ],
            [
             1,
             "#276419"
            ]
           ],
           "sequential": [
            [
             0,
             "#0d0887"
            ],
            [
             0.1111111111111111,
             "#46039f"
            ],
            [
             0.2222222222222222,
             "#7201a8"
            ],
            [
             0.3333333333333333,
             "#9c179e"
            ],
            [
             0.4444444444444444,
             "#bd3786"
            ],
            [
             0.5555555555555556,
             "#d8576b"
            ],
            [
             0.6666666666666666,
             "#ed7953"
            ],
            [
             0.7777777777777778,
             "#fb9f3a"
            ],
            [
             0.8888888888888888,
             "#fdca26"
            ],
            [
             1,
             "#f0f921"
            ]
           ],
           "sequentialminus": [
            [
             0,
             "#0d0887"
            ],
            [
             0.1111111111111111,
             "#46039f"
            ],
            [
             0.2222222222222222,
             "#7201a8"
            ],
            [
             0.3333333333333333,
             "#9c179e"
            ],
            [
             0.4444444444444444,
             "#bd3786"
            ],
            [
             0.5555555555555556,
             "#d8576b"
            ],
            [
             0.6666666666666666,
             "#ed7953"
            ],
            [
             0.7777777777777778,
             "#fb9f3a"
            ],
            [
             0.8888888888888888,
             "#fdca26"
            ],
            [
             1,
             "#f0f921"
            ]
           ]
          },
          "colorway": [
           "#636efa",
           "#EF553B",
           "#00cc96",
           "#ab63fa",
           "#FFA15A",
           "#19d3f3",
           "#FF6692",
           "#B6E880",
           "#FF97FF",
           "#FECB52"
          ],
          "font": {
           "color": "#2a3f5f"
          },
          "geo": {
           "bgcolor": "white",
           "lakecolor": "white",
           "landcolor": "#E5ECF6",
           "showlakes": true,
           "showland": true,
           "subunitcolor": "white"
          },
          "hoverlabel": {
           "align": "left"
          },
          "hovermode": "closest",
          "mapbox": {
           "style": "light"
          },
          "paper_bgcolor": "white",
          "plot_bgcolor": "#E5ECF6",
          "polar": {
           "angularaxis": {
            "gridcolor": "white",
            "linecolor": "white",
            "ticks": ""
           },
           "bgcolor": "#E5ECF6",
           "radialaxis": {
            "gridcolor": "white",
            "linecolor": "white",
            "ticks": ""
           }
          },
          "scene": {
           "xaxis": {
            "backgroundcolor": "#E5ECF6",
            "gridcolor": "white",
            "gridwidth": 2,
            "linecolor": "white",
            "showbackground": true,
            "ticks": "",
            "zerolinecolor": "white"
           },
           "yaxis": {
            "backgroundcolor": "#E5ECF6",
            "gridcolor": "white",
            "gridwidth": 2,
            "linecolor": "white",
            "showbackground": true,
            "ticks": "",
            "zerolinecolor": "white"
           },
           "zaxis": {
            "backgroundcolor": "#E5ECF6",
            "gridcolor": "white",
            "gridwidth": 2,
            "linecolor": "white",
            "showbackground": true,
            "ticks": "",
            "zerolinecolor": "white"
           }
          },
          "shapedefaults": {
           "line": {
            "color": "#2a3f5f"
           }
          },
          "ternary": {
           "aaxis": {
            "gridcolor": "white",
            "linecolor": "white",
            "ticks": ""
           },
           "baxis": {
            "gridcolor": "white",
            "linecolor": "white",
            "ticks": ""
           },
           "bgcolor": "#E5ECF6",
           "caxis": {
            "gridcolor": "white",
            "linecolor": "white",
            "ticks": ""
           }
          },
          "title": {
           "x": 0.05
          },
          "xaxis": {
           "automargin": true,
           "gridcolor": "white",
           "linecolor": "white",
           "ticks": "",
           "title": {
            "standoff": 15
           },
           "zerolinecolor": "white",
           "zerolinewidth": 2
          },
          "yaxis": {
           "automargin": true,
           "gridcolor": "white",
           "linecolor": "white",
           "ticks": "",
           "title": {
            "standoff": 15
           },
           "zerolinecolor": "white",
           "zerolinewidth": 2
          }
         }
        },
        "title": {
         "text": "ACR Difference, Gamma x Action Execution Error"
        },
        "width": 800,
        "xaxis": {
         "title": {
          "text": "Action Execution Error"
         },
         "type": "log"
        },
        "yaxis": {
         "title": {
          "text": "Gamma"
         }
        }
       }
      },
      "text/html": [
       "<div>                            <div id=\"00f28d9d-aab4-415f-adfb-1c45dbc487f6\" class=\"plotly-graph-div\" style=\"height:800px; width:800px;\"></div>            <script type=\"text/javascript\">                require([\"plotly\"], function(Plotly) {                    window.PLOTLYENV=window.PLOTLYENV || {};                                    if (document.getElementById(\"00f28d9d-aab4-415f-adfb-1c45dbc487f6\")) {                    Plotly.newPlot(                        \"00f28d9d-aab4-415f-adfb-1c45dbc487f6\",                        [{\"colorscale\":[[0.0,\"rgb(103,0,31)\"],[0.1,\"rgb(178,24,43)\"],[0.2,\"rgb(214,96,77)\"],[0.3,\"rgb(244,165,130)\"],[0.4,\"rgb(253,219,199)\"],[0.5,\"rgb(247,247,247)\"],[0.6,\"rgb(209,229,240)\"],[0.7,\"rgb(146,197,222)\"],[0.8,\"rgb(67,147,195)\"],[0.9,\"rgb(33,102,172)\"],[1.0,\"rgb(5,48,97)\"]],\"contours\":{\"showlabels\":true},\"x\":[2e-05,0.0002,0.002,0.02,0.2],\"y\":[0.0,0.1,0.2,0.3,0.4,0.5,0.6,0.7,0.8,0.9,1.0],\"z\":[[2.149551019570243,0.1591702007993696,0.22232966014986388,0.3738872774257658,0.9093687903389807],[11.740337524369917,10.474901314634334,14.376800077926433,3.284897999922368,-0.41563343637133343],[17.772742319645847,15.096548566187266,13.045345627127091,12.468217673707894,2.267195322383884],[19.394746717240782,16.253789167793936,20.495365793787165,21.984212751596672,3.4826905332815556],[19.933542278865005,21.746209277921817,22.698724491815216,31.28048939248812,6.687096200761783],[23.403044273714976,22.991646252587085,28.336132348008462,40.470877273696466,10.202911626230808],[26.15640071228576,29.15690697974426,31.828298959387237,47.22628642027071,12.84786394123666],[24.973258269591273,27.838040124473498,36.00975956368835,44.863577973121274,13.37103637841511],[29.352195328234924,30.872011413026154,41.13209814344043,49.790194937673334,13.6734831830946],[37.18562163120336,36.97610529300535,47.45995497863716,52.18958417141641,8.312720015803567],[-17.965993307615708,-18.815182019266416,-15.051003869978656,-8.925317872339964,-1.68383573699084]],\"zmax\":65,\"zmin\":-65,\"type\":\"contour\",\"ncontours\":25}],                        {\"template\":{\"data\":{\"histogram2dcontour\":[{\"type\":\"histogram2dcontour\",\"colorbar\":{\"outlinewidth\":0,\"ticks\":\"\"},\"colorscale\":[[0.0,\"#0d0887\"],[0.1111111111111111,\"#46039f\"],[0.2222222222222222,\"#7201a8\"],[0.3333333333333333,\"#9c179e\"],[0.4444444444444444,\"#bd3786\"],[0.5555555555555556,\"#d8576b\"],[0.6666666666666666,\"#ed7953\"],[0.7777777777777778,\"#fb9f3a\"],[0.8888888888888888,\"#fdca26\"],[1.0,\"#f0f921\"]]}],\"choropleth\":[{\"type\":\"choropleth\",\"colorbar\":{\"outlinewidth\":0,\"ticks\":\"\"}}],\"histogram2d\":[{\"type\":\"histogram2d\",\"colorbar\":{\"outlinewidth\":0,\"ticks\":\"\"},\"colorscale\":[[0.0,\"#0d0887\"],[0.1111111111111111,\"#46039f\"],[0.2222222222222222,\"#7201a8\"],[0.3333333333333333,\"#9c179e\"],[0.4444444444444444,\"#bd3786\"],[0.5555555555555556,\"#d8576b\"],[0.6666666666666666,\"#ed7953\"],[0.7777777777777778,\"#fb9f3a\"],[0.8888888888888888,\"#fdca26\"],[1.0,\"#f0f921\"]]}],\"heatmap\":[{\"type\":\"heatmap\",\"colorbar\":{\"outlinewidth\":0,\"ticks\":\"\"},\"colorscale\":[[0.0,\"#0d0887\"],[0.1111111111111111,\"#46039f\"],[0.2222222222222222,\"#7201a8\"],[0.3333333333333333,\"#9c179e\"],[0.4444444444444444,\"#bd3786\"],[0.5555555555555556,\"#d8576b\"],[0.6666666666666666,\"#ed7953\"],[0.7777777777777778,\"#fb9f3a\"],[0.8888888888888888,\"#fdca26\"],[1.0,\"#f0f921\"]]}],\"heatmapgl\":[{\"type\":\"heatmapgl\",\"colorbar\":{\"outlinewidth\":0,\"ticks\":\"\"},\"colorscale\":[[0.0,\"#0d0887\"],[0.1111111111111111,\"#46039f\"],[0.2222222222222222,\"#7201a8\"],[0.3333333333333333,\"#9c179e\"],[0.4444444444444444,\"#bd3786\"],[0.5555555555555556,\"#d8576b\"],[0.6666666666666666,\"#ed7953\"],[0.7777777777777778,\"#fb9f3a\"],[0.8888888888888888,\"#fdca26\"],[1.0,\"#f0f921\"]]}],\"contourcarpet\":[{\"type\":\"contourcarpet\",\"colorbar\":{\"outlinewidth\":0,\"ticks\":\"\"}}],\"contour\":[{\"type\":\"contour\",\"colorbar\":{\"outlinewidth\":0,\"ticks\":\"\"},\"colorscale\":[[0.0,\"#0d0887\"],[0.1111111111111111,\"#46039f\"],[0.2222222222222222,\"#7201a8\"],[0.3333333333333333,\"#9c179e\"],[0.4444444444444444,\"#bd3786\"],[0.5555555555555556,\"#d8576b\"],[0.6666666666666666,\"#ed7953\"],[0.7777777777777778,\"#fb9f3a\"],[0.8888888888888888,\"#fdca26\"],[1.0,\"#f0f921\"]]}],\"surface\":[{\"type\":\"surface\",\"colorbar\":{\"outlinewidth\":0,\"ticks\":\"\"},\"colorscale\":[[0.0,\"#0d0887\"],[0.1111111111111111,\"#46039f\"],[0.2222222222222222,\"#7201a8\"],[0.3333333333333333,\"#9c179e\"],[0.4444444444444444,\"#bd3786\"],[0.5555555555555556,\"#d8576b\"],[0.6666666666666666,\"#ed7953\"],[0.7777777777777778,\"#fb9f3a\"],[0.8888888888888888,\"#fdca26\"],[1.0,\"#f0f921\"]]}],\"mesh3d\":[{\"type\":\"mesh3d\",\"colorbar\":{\"outlinewidth\":0,\"ticks\":\"\"}}],\"scatter\":[{\"fillpattern\":{\"fillmode\":\"overlay\",\"size\":10,\"solidity\":0.2},\"type\":\"scatter\"}],\"parcoords\":[{\"type\":\"parcoords\",\"line\":{\"colorbar\":{\"outlinewidth\":0,\"ticks\":\"\"}}}],\"scatterpolargl\":[{\"type\":\"scatterpolargl\",\"marker\":{\"colorbar\":{\"outlinewidth\":0,\"ticks\":\"\"}}}],\"bar\":[{\"error_x\":{\"color\":\"#2a3f5f\"},\"error_y\":{\"color\":\"#2a3f5f\"},\"marker\":{\"line\":{\"color\":\"#E5ECF6\",\"width\":0.5},\"pattern\":{\"fillmode\":\"overlay\",\"size\":10,\"solidity\":0.2}},\"type\":\"bar\"}],\"scattergeo\":[{\"type\":\"scattergeo\",\"marker\":{\"colorbar\":{\"outlinewidth\":0,\"ticks\":\"\"}}}],\"scatterpolar\":[{\"type\":\"scatterpolar\",\"marker\":{\"colorbar\":{\"outlinewidth\":0,\"ticks\":\"\"}}}],\"histogram\":[{\"marker\":{\"pattern\":{\"fillmode\":\"overlay\",\"size\":10,\"solidity\":0.2}},\"type\":\"histogram\"}],\"scattergl\":[{\"type\":\"scattergl\",\"marker\":{\"colorbar\":{\"outlinewidth\":0,\"ticks\":\"\"}}}],\"scatter3d\":[{\"type\":\"scatter3d\",\"line\":{\"colorbar\":{\"outlinewidth\":0,\"ticks\":\"\"}},\"marker\":{\"colorbar\":{\"outlinewidth\":0,\"ticks\":\"\"}}}],\"scattermapbox\":[{\"type\":\"scattermapbox\",\"marker\":{\"colorbar\":{\"outlinewidth\":0,\"ticks\":\"\"}}}],\"scatterternary\":[{\"type\":\"scatterternary\",\"marker\":{\"colorbar\":{\"outlinewidth\":0,\"ticks\":\"\"}}}],\"scattercarpet\":[{\"type\":\"scattercarpet\",\"marker\":{\"colorbar\":{\"outlinewidth\":0,\"ticks\":\"\"}}}],\"carpet\":[{\"aaxis\":{\"endlinecolor\":\"#2a3f5f\",\"gridcolor\":\"white\",\"linecolor\":\"white\",\"minorgridcolor\":\"white\",\"startlinecolor\":\"#2a3f5f\"},\"baxis\":{\"endlinecolor\":\"#2a3f5f\",\"gridcolor\":\"white\",\"linecolor\":\"white\",\"minorgridcolor\":\"white\",\"startlinecolor\":\"#2a3f5f\"},\"type\":\"carpet\"}],\"table\":[{\"cells\":{\"fill\":{\"color\":\"#EBF0F8\"},\"line\":{\"color\":\"white\"}},\"header\":{\"fill\":{\"color\":\"#C8D4E3\"},\"line\":{\"color\":\"white\"}},\"type\":\"table\"}],\"barpolar\":[{\"marker\":{\"line\":{\"color\":\"#E5ECF6\",\"width\":0.5},\"pattern\":{\"fillmode\":\"overlay\",\"size\":10,\"solidity\":0.2}},\"type\":\"barpolar\"}],\"pie\":[{\"automargin\":true,\"type\":\"pie\"}]},\"layout\":{\"autotypenumbers\":\"strict\",\"colorway\":[\"#636efa\",\"#EF553B\",\"#00cc96\",\"#ab63fa\",\"#FFA15A\",\"#19d3f3\",\"#FF6692\",\"#B6E880\",\"#FF97FF\",\"#FECB52\"],\"font\":{\"color\":\"#2a3f5f\"},\"hovermode\":\"closest\",\"hoverlabel\":{\"align\":\"left\"},\"paper_bgcolor\":\"white\",\"plot_bgcolor\":\"#E5ECF6\",\"polar\":{\"bgcolor\":\"#E5ECF6\",\"angularaxis\":{\"gridcolor\":\"white\",\"linecolor\":\"white\",\"ticks\":\"\"},\"radialaxis\":{\"gridcolor\":\"white\",\"linecolor\":\"white\",\"ticks\":\"\"}},\"ternary\":{\"bgcolor\":\"#E5ECF6\",\"aaxis\":{\"gridcolor\":\"white\",\"linecolor\":\"white\",\"ticks\":\"\"},\"baxis\":{\"gridcolor\":\"white\",\"linecolor\":\"white\",\"ticks\":\"\"},\"caxis\":{\"gridcolor\":\"white\",\"linecolor\":\"white\",\"ticks\":\"\"}},\"coloraxis\":{\"colorbar\":{\"outlinewidth\":0,\"ticks\":\"\"}},\"colorscale\":{\"sequential\":[[0.0,\"#0d0887\"],[0.1111111111111111,\"#46039f\"],[0.2222222222222222,\"#7201a8\"],[0.3333333333333333,\"#9c179e\"],[0.4444444444444444,\"#bd3786\"],[0.5555555555555556,\"#d8576b\"],[0.6666666666666666,\"#ed7953\"],[0.7777777777777778,\"#fb9f3a\"],[0.8888888888888888,\"#fdca26\"],[1.0,\"#f0f921\"]],\"sequentialminus\":[[0.0,\"#0d0887\"],[0.1111111111111111,\"#46039f\"],[0.2222222222222222,\"#7201a8\"],[0.3333333333333333,\"#9c179e\"],[0.4444444444444444,\"#bd3786\"],[0.5555555555555556,\"#d8576b\"],[0.6666666666666666,\"#ed7953\"],[0.7777777777777778,\"#fb9f3a\"],[0.8888888888888888,\"#fdca26\"],[1.0,\"#f0f921\"]],\"diverging\":[[0,\"#8e0152\"],[0.1,\"#c51b7d\"],[0.2,\"#de77ae\"],[0.3,\"#f1b6da\"],[0.4,\"#fde0ef\"],[0.5,\"#f7f7f7\"],[0.6,\"#e6f5d0\"],[0.7,\"#b8e186\"],[0.8,\"#7fbc41\"],[0.9,\"#4d9221\"],[1,\"#276419\"]]},\"xaxis\":{\"gridcolor\":\"white\",\"linecolor\":\"white\",\"ticks\":\"\",\"title\":{\"standoff\":15},\"zerolinecolor\":\"white\",\"automargin\":true,\"zerolinewidth\":2},\"yaxis\":{\"gridcolor\":\"white\",\"linecolor\":\"white\",\"ticks\":\"\",\"title\":{\"standoff\":15},\"zerolinecolor\":\"white\",\"automargin\":true,\"zerolinewidth\":2},\"scene\":{\"xaxis\":{\"backgroundcolor\":\"#E5ECF6\",\"gridcolor\":\"white\",\"linecolor\":\"white\",\"showbackground\":true,\"ticks\":\"\",\"zerolinecolor\":\"white\",\"gridwidth\":2},\"yaxis\":{\"backgroundcolor\":\"#E5ECF6\",\"gridcolor\":\"white\",\"linecolor\":\"white\",\"showbackground\":true,\"ticks\":\"\",\"zerolinecolor\":\"white\",\"gridwidth\":2},\"zaxis\":{\"backgroundcolor\":\"#E5ECF6\",\"gridcolor\":\"white\",\"linecolor\":\"white\",\"showbackground\":true,\"ticks\":\"\",\"zerolinecolor\":\"white\",\"gridwidth\":2}},\"shapedefaults\":{\"line\":{\"color\":\"#2a3f5f\"}},\"annotationdefaults\":{\"arrowcolor\":\"#2a3f5f\",\"arrowhead\":0,\"arrowwidth\":1},\"geo\":{\"bgcolor\":\"white\",\"landcolor\":\"#E5ECF6\",\"subunitcolor\":\"white\",\"showland\":true,\"showlakes\":true,\"lakecolor\":\"white\"},\"title\":{\"x\":0.05},\"mapbox\":{\"style\":\"light\"}}},\"xaxis\":{\"type\":\"log\",\"title\":{\"text\":\"Action Execution Error\"}},\"title\":{\"text\":\"ACR Difference, Gamma x Action Execution Error\"},\"font\":{\"size\":16},\"width\":800,\"height\":800,\"yaxis\":{\"title\":{\"text\":\"Gamma\"}}},                        {\"responsive\": true}                    ).then(function(){\n",
       "                            \n",
       "var gd = document.getElementById('00f28d9d-aab4-415f-adfb-1c45dbc487f6');\n",
       "var x = new MutationObserver(function (mutations, observer) {{\n",
       "        var display = window.getComputedStyle(gd).display;\n",
       "        if (!display || display === 'none') {{\n",
       "            console.log([gd, 'removed!']);\n",
       "            Plotly.purge(gd);\n",
       "            observer.disconnect();\n",
       "        }}\n",
       "}});\n",
       "\n",
       "// Listen for the removal of the full notebook cells\n",
       "var notebookContainer = gd.closest('#notebook-container');\n",
       "if (notebookContainer) {{\n",
       "    x.observe(notebookContainer, {childList: true});\n",
       "}}\n",
       "\n",
       "// Listen for the clearing of the current output cell\n",
       "var outputEl = gd.closest('.output');\n",
       "if (outputEl) {{\n",
       "    x.observe(outputEl, {childList: true});\n",
       "}}\n",
       "\n",
       "                        })                };                });            </script>        </div>"
      ]
     },
     "metadata": {},
     "output_type": "display_data"
    }
   ],
   "source": [
    "import plotly.graph_objects as go\n",
    "import pandas as pd\n",
    "\n",
    "# Your dataset\n",
    "df = pd.DataFrame(eps_df)\n",
    "\n",
    "if df.columns[1] == \"eps\":\n",
    "    error = \"Action Execution Error\" \n",
    "elif df.columns[1] == \"alpha\":\n",
    "    error = \"Reputation Assignment Error\"\n",
    "elif df.columns[1] == \"chi\":\n",
    "    error = \"Reputation Assessment Error\"\n",
    "else:\n",
    "    error = \"\"\n",
    "\n",
    "z_feature = 'ACR Difference'\n",
    "\n",
    "# Reshape data for contour plot\n",
    "z_values = df.pivot_table(index='gamma', columns=df.columns[1], values=z_feature).values\n",
    "x_values = sorted(df[df.columns[1]].unique())\n",
    "y_values = sorted(df['gamma'].unique())\n",
    "\n",
    "# Create contour plot\n",
    "fig = go.Figure(\n",
    "    data=go.Contour(\n",
    "        z=z_values,\n",
    "        x=x_values,\n",
    "        y=y_values,\n",
    "        zmin=-65,\n",
    "        zmax=65,\n",
    "        colorscale='RdBu',\n",
    "        #contours_coloring='lines',\n",
    "        contours={\n",
    "            \"showlabels\":True\n",
    "        }\n",
    "    )\n",
    ")\n",
    "fig.update_xaxes(type='log')\n",
    "fig.update_traces(ncontours=25, selector=dict(type='contour'))\n",
    "title = z_feature + \", Gamma x \" + error\n",
    "fig.update_layout(title=title)\n",
    "fig.update_layout(\n",
    "    title=title,\n",
    "    width=800,  # Set the width of the plot\n",
    "    height=800,  # Set the height of the plot\n",
    "    xaxis_title=error,  # Add x-axis label\n",
    "    yaxis_title='Gamma',  # Add y-axis label\n",
    "    font=dict(size=16)\n",
    ")\n",
    "\n",
    "\n",
    "# Show the plot\n",
    "fig.show()"
   ]
  },
  {
   "cell_type": "code",
   "execution_count": 64,
   "id": "37ee7aea",
   "metadata": {},
   "outputs": [
    {
     "data": {
      "text/html": [
       "<div>\n",
       "<style scoped>\n",
       "    .dataframe tbody tr th:only-of-type {\n",
       "        vertical-align: middle;\n",
       "    }\n",
       "\n",
       "    .dataframe tbody tr th {\n",
       "        vertical-align: top;\n",
       "    }\n",
       "\n",
       "    .dataframe thead th {\n",
       "        text-align: right;\n",
       "    }\n",
       "</style>\n",
       "<table border=\"1\" class=\"dataframe\">\n",
       "  <thead>\n",
       "    <tr style=\"text-align: right;\">\n",
       "      <th></th>\n",
       "      <th>gamma</th>\n",
       "      <th>Emotion-Based Image Scoring</th>\n",
       "      <th>Image Scoring</th>\n",
       "      <th>Samples</th>\n",
       "    </tr>\n",
       "  </thead>\n",
       "  <tbody>\n",
       "    <tr>\n",
       "      <th>0</th>\n",
       "      <td>0.00</td>\n",
       "      <td>14.081807</td>\n",
       "      <td>16.600501</td>\n",
       "      <td>300.0</td>\n",
       "    </tr>\n",
       "    <tr>\n",
       "      <th>1</th>\n",
       "      <td>0.05</td>\n",
       "      <td>21.348322</td>\n",
       "      <td>14.625768</td>\n",
       "      <td>300.0</td>\n",
       "    </tr>\n",
       "    <tr>\n",
       "      <th>2</th>\n",
       "      <td>0.10</td>\n",
       "      <td>24.244356</td>\n",
       "      <td>15.280495</td>\n",
       "      <td>300.0</td>\n",
       "    </tr>\n",
       "    <tr>\n",
       "      <th>3</th>\n",
       "      <td>0.15</td>\n",
       "      <td>24.257341</td>\n",
       "      <td>15.746112</td>\n",
       "      <td>300.0</td>\n",
       "    </tr>\n",
       "    <tr>\n",
       "      <th>4</th>\n",
       "      <td>0.20</td>\n",
       "      <td>32.963420</td>\n",
       "      <td>13.388435</td>\n",
       "      <td>300.0</td>\n",
       "    </tr>\n",
       "    <tr>\n",
       "      <th>5</th>\n",
       "      <td>0.25</td>\n",
       "      <td>36.965993</td>\n",
       "      <td>14.817457</td>\n",
       "      <td>300.0</td>\n",
       "    </tr>\n",
       "    <tr>\n",
       "      <th>6</th>\n",
       "      <td>0.30</td>\n",
       "      <td>36.860658</td>\n",
       "      <td>15.207992</td>\n",
       "      <td>300.0</td>\n",
       "    </tr>\n",
       "    <tr>\n",
       "      <th>7</th>\n",
       "      <td>0.35</td>\n",
       "      <td>40.907017</td>\n",
       "      <td>13.595427</td>\n",
       "      <td>300.0</td>\n",
       "    </tr>\n",
       "    <tr>\n",
       "      <th>8</th>\n",
       "      <td>0.40</td>\n",
       "      <td>43.536340</td>\n",
       "      <td>14.403314</td>\n",
       "      <td>300.0</td>\n",
       "    </tr>\n",
       "    <tr>\n",
       "      <th>9</th>\n",
       "      <td>0.45</td>\n",
       "      <td>44.831028</td>\n",
       "      <td>16.120162</td>\n",
       "      <td>300.0</td>\n",
       "    </tr>\n",
       "    <tr>\n",
       "      <th>10</th>\n",
       "      <td>0.50</td>\n",
       "      <td>47.749788</td>\n",
       "      <td>15.224515</td>\n",
       "      <td>300.0</td>\n",
       "    </tr>\n",
       "    <tr>\n",
       "      <th>11</th>\n",
       "      <td>0.55</td>\n",
       "      <td>52.065753</td>\n",
       "      <td>14.782906</td>\n",
       "      <td>300.0</td>\n",
       "    </tr>\n",
       "    <tr>\n",
       "      <th>12</th>\n",
       "      <td>0.60</td>\n",
       "      <td>50.836843</td>\n",
       "      <td>15.760190</td>\n",
       "      <td>300.0</td>\n",
       "    </tr>\n",
       "    <tr>\n",
       "      <th>13</th>\n",
       "      <td>0.65</td>\n",
       "      <td>56.144492</td>\n",
       "      <td>15.167610</td>\n",
       "      <td>300.0</td>\n",
       "    </tr>\n",
       "    <tr>\n",
       "      <th>14</th>\n",
       "      <td>0.70</td>\n",
       "      <td>59.676731</td>\n",
       "      <td>14.607260</td>\n",
       "      <td>300.0</td>\n",
       "    </tr>\n",
       "    <tr>\n",
       "      <th>15</th>\n",
       "      <td>0.75</td>\n",
       "      <td>64.181147</td>\n",
       "      <td>15.301170</td>\n",
       "      <td>300.0</td>\n",
       "    </tr>\n",
       "    <tr>\n",
       "      <th>16</th>\n",
       "      <td>0.80</td>\n",
       "      <td>65.620184</td>\n",
       "      <td>14.553730</td>\n",
       "      <td>300.0</td>\n",
       "    </tr>\n",
       "    <tr>\n",
       "      <th>17</th>\n",
       "      <td>0.85</td>\n",
       "      <td>68.181632</td>\n",
       "      <td>17.313443</td>\n",
       "      <td>300.0</td>\n",
       "    </tr>\n",
       "    <tr>\n",
       "      <th>18</th>\n",
       "      <td>0.90</td>\n",
       "      <td>75.090814</td>\n",
       "      <td>15.510896</td>\n",
       "      <td>300.0</td>\n",
       "    </tr>\n",
       "    <tr>\n",
       "      <th>19</th>\n",
       "      <td>0.95</td>\n",
       "      <td>71.132925</td>\n",
       "      <td>14.570672</td>\n",
       "      <td>300.0</td>\n",
       "    </tr>\n",
       "    <tr>\n",
       "      <th>20</th>\n",
       "      <td>1.00</td>\n",
       "      <td>0.553836</td>\n",
       "      <td>15.263935</td>\n",
       "      <td>300.0</td>\n",
       "    </tr>\n",
       "  </tbody>\n",
       "</table>\n",
       "</div>"
      ],
      "text/plain": [
       "    gamma  Emotion-Based Image Scoring  Image Scoring  Samples\n",
       "0    0.00                    14.081807      16.600501    300.0\n",
       "1    0.05                    21.348322      14.625768    300.0\n",
       "2    0.10                    24.244356      15.280495    300.0\n",
       "3    0.15                    24.257341      15.746112    300.0\n",
       "4    0.20                    32.963420      13.388435    300.0\n",
       "5    0.25                    36.965993      14.817457    300.0\n",
       "6    0.30                    36.860658      15.207992    300.0\n",
       "7    0.35                    40.907017      13.595427    300.0\n",
       "8    0.40                    43.536340      14.403314    300.0\n",
       "9    0.45                    44.831028      16.120162    300.0\n",
       "10   0.50                    47.749788      15.224515    300.0\n",
       "11   0.55                    52.065753      14.782906    300.0\n",
       "12   0.60                    50.836843      15.760190    300.0\n",
       "13   0.65                    56.144492      15.167610    300.0\n",
       "14   0.70                    59.676731      14.607260    300.0\n",
       "15   0.75                    64.181147      15.301170    300.0\n",
       "16   0.80                    65.620184      14.553730    300.0\n",
       "17   0.85                    68.181632      17.313443    300.0\n",
       "18   0.90                    75.090814      15.510896    300.0\n",
       "19   0.95                    71.132925      14.570672    300.0\n",
       "20   1.00                     0.553836      15.263935    300.0"
      ]
     },
     "execution_count": 64,
     "metadata": {},
     "output_type": "execute_result"
    }
   ],
   "source": [
    "data = load_and_process()\n",
    "\n",
    "value = 0.002\n",
    "filtered = filter(data, \"chi\", value)\n",
    "filtered = filter(filtered, \"alpha\", value)\n",
    "filtered = filter(filtered, \"eps\", value)\n",
    "\n",
    "new_cols = [\"gamma\", \"Emotion-Based Image Scoring\", \"Image Scoring\", \"Samples\"]\n",
    "#new_cols = [\"gamma\", \"Emotion-Based Image Scoring\", \"std\", \"Image Scoring\"]\n",
    "#new_cols = [\"gamma\", \"Emotion-Strict Image Scoring\", \"Emotion-Lenient Image Scoring\", \"Image Scoring\"]\n",
    "new_df = pd.DataFrame(columns=new_cols)\n",
    "for gamma in filtered.gamma.unique():\n",
    "    subset = filtered[filtered.gamma==gamma]\n",
    "    #print(subset)\n",
    "    #diff = subset[subset.EBNorm==\"IS Empirical\"].acr.mean() - subset[subset.EBNorm==\"IS normal\"].acr.mean()\n",
    "    entry = [gamma, \n",
    "             #subset[subset.EBNorm==\"Emotion-Strict IS\"].acr.mean(), \n",
    "             subset[subset.EBNorm==\"Emotion-Lenient IS\"].acr.mean(), \n",
    "             #subset[subset.EBNorm==\"Emotion-Lenient IS\"].acr.std(), \n",
    "             subset[subset.EBNorm==\"IS normal\"].acr.mean(),\n",
    "            subset.shape[0]]\n",
    "    new_df.loc[len(new_df)] = entry\n",
    "    \n",
    "new_df"
   ]
  },
  {
   "cell_type": "code",
   "execution_count": 61,
   "id": "a32fe3d5",
   "metadata": {},
   "outputs": [],
   "source": [
    "melted = new_df.melt('gamma', var_name='Social Norm', value_name='Average Cooperation Ratio')\n",
    "\n",
    "#for ix, row in melted:\n",
    "#    melted.loc[] = new_df.loc[row[\"gamma\"], row[\"Social Norm\"]]\n",
    "    \n"
   ]
  },
  {
   "cell_type": "code",
   "execution_count": 62,
   "id": "99832db4",
   "metadata": {},
   "outputs": [
    {
     "data": {
      "text/html": [
       "\n",
       "<div id=\"altair-viz-1eb3f3110f62416aac51aed40c08278b\"></div>\n",
       "<script type=\"text/javascript\">\n",
       "  var VEGA_DEBUG = (typeof VEGA_DEBUG == \"undefined\") ? {} : VEGA_DEBUG;\n",
       "  (function(spec, embedOpt){\n",
       "    let outputDiv = document.currentScript.previousElementSibling;\n",
       "    if (outputDiv.id !== \"altair-viz-1eb3f3110f62416aac51aed40c08278b\") {\n",
       "      outputDiv = document.getElementById(\"altair-viz-1eb3f3110f62416aac51aed40c08278b\");\n",
       "    }\n",
       "    const paths = {\n",
       "      \"vega\": \"https://cdn.jsdelivr.net/npm//vega@5?noext\",\n",
       "      \"vega-lib\": \"https://cdn.jsdelivr.net/npm//vega-lib?noext\",\n",
       "      \"vega-lite\": \"https://cdn.jsdelivr.net/npm//vega-lite@4.17.0?noext\",\n",
       "      \"vega-embed\": \"https://cdn.jsdelivr.net/npm//vega-embed@6?noext\",\n",
       "    };\n",
       "\n",
       "    function maybeLoadScript(lib, version) {\n",
       "      var key = `${lib.replace(\"-\", \"\")}_version`;\n",
       "      return (VEGA_DEBUG[key] == version) ?\n",
       "        Promise.resolve(paths[lib]) :\n",
       "        new Promise(function(resolve, reject) {\n",
       "          var s = document.createElement('script');\n",
       "          document.getElementsByTagName(\"head\")[0].appendChild(s);\n",
       "          s.async = true;\n",
       "          s.onload = () => {\n",
       "            VEGA_DEBUG[key] = version;\n",
       "            return resolve(paths[lib]);\n",
       "          };\n",
       "          s.onerror = () => reject(`Error loading script: ${paths[lib]}`);\n",
       "          s.src = paths[lib];\n",
       "        });\n",
       "    }\n",
       "\n",
       "    function showError(err) {\n",
       "      outputDiv.innerHTML = `<div class=\"error\" style=\"color:red;\">${err}</div>`;\n",
       "      throw err;\n",
       "    }\n",
       "\n",
       "    function displayChart(vegaEmbed) {\n",
       "      vegaEmbed(outputDiv, spec, embedOpt)\n",
       "        .catch(err => showError(`Javascript Error: ${err.message}<br>This usually means there's a typo in your chart specification. See the javascript console for the full traceback.`));\n",
       "    }\n",
       "\n",
       "    if(typeof define === \"function\" && define.amd) {\n",
       "      requirejs.config({paths});\n",
       "      require([\"vega-embed\"], displayChart, err => showError(`Error loading script: ${err.message}`));\n",
       "    } else {\n",
       "      maybeLoadScript(\"vega\", \"5\")\n",
       "        .then(() => maybeLoadScript(\"vega-lite\", \"4.17.0\"))\n",
       "        .then(() => maybeLoadScript(\"vega-embed\", \"6\"))\n",
       "        .catch(showError)\n",
       "        .then(() => displayChart(vegaEmbed));\n",
       "    }\n",
       "  })({\"config\": {\"view\": {\"continuousWidth\": 400, \"continuousHeight\": 300}}, \"data\": {\"name\": \"data-7c5678d179857b91862e8d59138da388\"}, \"mark\": {\"type\": \"point\", \"filled\": true, \"size\": 70}, \"encoding\": {\"color\": {\"field\": \"Social Norm\", \"type\": \"nominal\"}, \"shape\": {\"field\": \"Social Norm\", \"type\": \"nominal\"}, \"x\": {\"field\": \"gamma\", \"type\": \"quantitative\"}, \"y\": {\"field\": \"Average Cooperation Ratio\", \"type\": \"quantitative\"}}, \"$schema\": \"https://vega.github.io/schema/vega-lite/v4.17.0.json\", \"datasets\": {\"data-7c5678d179857b91862e8d59138da388\": [{\"gamma\": 0.0, \"Social Norm\": \"Emotion-Based Image Scoring\", \"Average Cooperation Ratio\": 14.081806964367845}, {\"gamma\": 0.05, \"Social Norm\": \"Emotion-Based Image Scoring\", \"Average Cooperation Ratio\": 21.348322226943946}, {\"gamma\": 0.1, \"Social Norm\": \"Emotion-Based Image Scoring\", \"Average Cooperation Ratio\": 24.244356425273747}, {\"gamma\": 0.15, \"Social Norm\": \"Emotion-Based Image Scoring\", \"Average Cooperation Ratio\": 24.257340874470227}, {\"gamma\": 0.2, \"Social Norm\": \"Emotion-Based Image Scoring\", \"Average Cooperation Ratio\": 32.96342002471709}, {\"gamma\": 0.25, \"Social Norm\": \"Emotion-Based Image Scoring\", \"Average Cooperation Ratio\": 36.96599304666207}, {\"gamma\": 0.3, \"Social Norm\": \"Emotion-Based Image Scoring\", \"Average Cooperation Ratio\": 36.86065779629807}, {\"gamma\": 0.35, \"Social Norm\": \"Emotion-Based Image Scoring\", \"Average Cooperation Ratio\": 40.907016577293085}, {\"gamma\": 0.4, \"Social Norm\": \"Emotion-Based Image Scoring\", \"Average Cooperation Ratio\": 43.53634038587259}, {\"gamma\": 0.45, \"Social Norm\": \"Emotion-Based Image Scoring\", \"Average Cooperation Ratio\": 44.83102849087747}, {\"gamma\": 0.5, \"Social Norm\": \"Emotion-Based Image Scoring\", \"Average Cooperation Ratio\": 47.749787809180916}, {\"gamma\": 0.55, \"Social Norm\": \"Emotion-Based Image Scoring\", \"Average Cooperation Ratio\": 52.06575344371235}, {\"gamma\": 0.6, \"Social Norm\": \"Emotion-Based Image Scoring\", \"Average Cooperation Ratio\": 50.83684277143692}, {\"gamma\": 0.65, \"Social Norm\": \"Emotion-Based Image Scoring\", \"Average Cooperation Ratio\": 56.144491768005956}, {\"gamma\": 0.7, \"Social Norm\": \"Emotion-Based Image Scoring\", \"Average Cooperation Ratio\": 59.67673063800268}, {\"gamma\": 0.75, \"Social Norm\": \"Emotion-Based Image Scoring\", \"Average Cooperation Ratio\": 64.1811470447237}, {\"gamma\": 0.8, \"Social Norm\": \"Emotion-Based Image Scoring\", \"Average Cooperation Ratio\": 65.62018399006101}, {\"gamma\": 0.85, \"Social Norm\": \"Emotion-Based Image Scoring\", \"Average Cooperation Ratio\": 68.18163155034667}, {\"gamma\": 0.9, \"Social Norm\": \"Emotion-Based Image Scoring\", \"Average Cooperation Ratio\": 75.09081359457211}, {\"gamma\": 0.95, \"Social Norm\": \"Emotion-Based Image Scoring\", \"Average Cooperation Ratio\": 71.1329251031015}, {\"gamma\": 1.0, \"Social Norm\": \"Emotion-Based Image Scoring\", \"Average Cooperation Ratio\": 0.5538355432588543}, {\"gamma\": 0.0, \"Social Norm\": \"Image Scoring\", \"Average Cooperation Ratio\": 16.600500849728085}, {\"gamma\": 0.05, \"Social Norm\": \"Image Scoring\", \"Average Cooperation Ratio\": 14.6257682516188}, {\"gamma\": 0.1, \"Social Norm\": \"Image Scoring\", \"Average Cooperation Ratio\": 15.280494734788782}, {\"gamma\": 0.15, \"Social Norm\": \"Image Scoring\", \"Average Cooperation Ratio\": 15.746112297535431}, {\"gamma\": 0.2, \"Social Norm\": \"Image Scoring\", \"Average Cooperation Ratio\": 13.388435338816516}, {\"gamma\": 0.25, \"Social Norm\": \"Image Scoring\", \"Average Cooperation Ratio\": 14.817456670227735}, {\"gamma\": 0.3, \"Social Norm\": \"Image Scoring\", \"Average Cooperation Ratio\": 15.207992141131156}, {\"gamma\": 0.35, \"Social Norm\": \"Image Scoring\", \"Average Cooperation Ratio\": 13.595426931225434}, {\"gamma\": 0.4, \"Social Norm\": \"Image Scoring\", \"Average Cooperation Ratio\": 14.403314444649496}, {\"gamma\": 0.45, \"Social Norm\": \"Image Scoring\", \"Average Cooperation Ratio\": 16.12016167678642}, {\"gamma\": 0.5, \"Social Norm\": \"Image Scoring\", \"Average Cooperation Ratio\": 15.224515225459145}, {\"gamma\": 0.55, \"Social Norm\": \"Image Scoring\", \"Average Cooperation Ratio\": 14.782906263311629}, {\"gamma\": 0.6, \"Social Norm\": \"Image Scoring\", \"Average Cooperation Ratio\": 15.760189735279377}, {\"gamma\": 0.65, \"Social Norm\": \"Image Scoring\", \"Average Cooperation Ratio\": 15.167609630451816}, {\"gamma\": 0.7, \"Social Norm\": \"Image Scoring\", \"Average Cooperation Ratio\": 14.60726027124585}, {\"gamma\": 0.75, \"Social Norm\": \"Image Scoring\", \"Average Cooperation Ratio\": 15.301169603552571}, {\"gamma\": 0.8, \"Social Norm\": \"Image Scoring\", \"Average Cooperation Ratio\": 14.553729526751386}, {\"gamma\": 0.85, \"Social Norm\": \"Image Scoring\", \"Average Cooperation Ratio\": 17.31344336522132}, {\"gamma\": 0.9, \"Social Norm\": \"Image Scoring\", \"Average Cooperation Ratio\": 15.510896203745117}, {\"gamma\": 0.95, \"Social Norm\": \"Image Scoring\", \"Average Cooperation Ratio\": 14.570671670386965}, {\"gamma\": 1.0, \"Social Norm\": \"Image Scoring\", \"Average Cooperation Ratio\": 15.263934879230995}]}}, {\"mode\": \"vega-lite\"});\n",
       "</script>"
      ],
      "text/plain": [
       "alt.Chart(...)"
      ]
     },
     "execution_count": 62,
     "metadata": {},
     "output_type": "execute_result"
    }
   ],
   "source": [
    "alt.Chart(melted).mark_point(filled=True, size=70).encode(\n",
    "    x='gamma',\n",
    "    y='Average Cooperation Ratio',\n",
    "    color='Social Norm:N',\n",
    "    shape='Social Norm:N'\n",
    ")"
   ]
  },
  {
   "cell_type": "code",
   "execution_count": 15,
   "id": "f0ffb925",
   "metadata": {},
   "outputs": [],
   "source": [
    "data = load_and_process()\n",
    "\n",
    "ebnorm = \"Emotion-Lenient IS\"\n",
    "\n",
    "value = 0.002\n",
    "filtered = filter(data, \"chi\", value)\n",
    "filtered = filter(filtered, \"alpha\", value)\n",
    "filtered = filter(filtered, \"eps\", value)\n",
    "filtered = filter(filtered, \"EBNorm\", ebnorm)\n",
    "\n",
    "eps_df = pd.DataFrame(columns=[\"gamma\", \"Cooperative EP\", \"Competitive EP\"])\n",
    "strats_df = pd.DataFrame(columns=[\"gamma\", \"AllD\", \"pDisc\", \"Disc\", \"AllC\"])\n",
    "reps_df = pd.DataFrame(columns=[\"gamma\", \"good\", \"bad\"])\n",
    "\n",
    "for gamma in filtered.gamma.unique():\n",
    "    subset = filtered[filtered.gamma==gamma]\n",
    "    # CHANGE \"MEAN\" TO SOMETHING ELSE IN THE DATASET\n",
    "    \n",
    "    entry_eps = [gamma, subset.n.mean(), subset.m.mean()]\n",
    "    entry_strats = [gamma, subset.AllD.mean(), subset.pDisc.mean(), subset.Disc.mean(), subset.AllC.mean()]\n",
    "    entry_reps = [gamma, subset.G.mean(), subset.B.mean()]\n",
    "    \n",
    "    eps_df.loc[len(eps_df)] = entry_eps\n",
    "    strats_df.loc[len(strats_df)] = entry_strats\n",
    "    reps_df.loc[len(reps_df)] = entry_reps\n",
    "    \n",
    "melted_eps = eps_df.melt('gamma', var_name='emotional profile', value_name='frequency')\n",
    "melted_strats = strats_df.melt('gamma', var_name='strat', value_name='frequency')\n",
    "melted_reps = reps_df.melt('gamma', var_name='reputation', value_name='frequency')"
   ]
  },
  {
   "cell_type": "code",
   "execution_count": 16,
   "id": "7a9619c7",
   "metadata": {},
   "outputs": [
    {
     "data": {
      "text/html": [
       "<div>\n",
       "<style scoped>\n",
       "    .dataframe tbody tr th:only-of-type {\n",
       "        vertical-align: middle;\n",
       "    }\n",
       "\n",
       "    .dataframe tbody tr th {\n",
       "        vertical-align: top;\n",
       "    }\n",
       "\n",
       "    .dataframe thead th {\n",
       "        text-align: right;\n",
       "    }\n",
       "</style>\n",
       "<table border=\"1\" class=\"dataframe\">\n",
       "  <thead>\n",
       "    <tr style=\"text-align: right;\">\n",
       "      <th></th>\n",
       "      <th>gamma</th>\n",
       "      <th>strat</th>\n",
       "      <th>frequency</th>\n",
       "    </tr>\n",
       "  </thead>\n",
       "  <tbody>\n",
       "    <tr>\n",
       "      <th>0</th>\n",
       "      <td>0.00</td>\n",
       "      <td>AllD</td>\n",
       "      <td>0.8668</td>\n",
       "    </tr>\n",
       "    <tr>\n",
       "      <th>1</th>\n",
       "      <td>0.05</td>\n",
       "      <td>AllD</td>\n",
       "      <td>0.7732</td>\n",
       "    </tr>\n",
       "    <tr>\n",
       "      <th>2</th>\n",
       "      <td>0.10</td>\n",
       "      <td>AllD</td>\n",
       "      <td>0.6910</td>\n",
       "    </tr>\n",
       "    <tr>\n",
       "      <th>3</th>\n",
       "      <td>0.15</td>\n",
       "      <td>AllD</td>\n",
       "      <td>0.6814</td>\n",
       "    </tr>\n",
       "    <tr>\n",
       "      <th>4</th>\n",
       "      <td>0.20</td>\n",
       "      <td>AllD</td>\n",
       "      <td>0.6220</td>\n",
       "    </tr>\n",
       "    <tr>\n",
       "      <th>5</th>\n",
       "      <td>0.25</td>\n",
       "      <td>AllD</td>\n",
       "      <td>0.5372</td>\n",
       "    </tr>\n",
       "    <tr>\n",
       "      <th>6</th>\n",
       "      <td>0.30</td>\n",
       "      <td>AllD</td>\n",
       "      <td>0.5200</td>\n",
       "    </tr>\n",
       "    <tr>\n",
       "      <th>7</th>\n",
       "      <td>0.35</td>\n",
       "      <td>AllD</td>\n",
       "      <td>0.5006</td>\n",
       "    </tr>\n",
       "    <tr>\n",
       "      <th>8</th>\n",
       "      <td>0.40</td>\n",
       "      <td>AllD</td>\n",
       "      <td>0.5142</td>\n",
       "    </tr>\n",
       "    <tr>\n",
       "      <th>9</th>\n",
       "      <td>0.45</td>\n",
       "      <td>AllD</td>\n",
       "      <td>0.5208</td>\n",
       "    </tr>\n",
       "    <tr>\n",
       "      <th>10</th>\n",
       "      <td>0.50</td>\n",
       "      <td>AllD</td>\n",
       "      <td>0.4418</td>\n",
       "    </tr>\n",
       "    <tr>\n",
       "      <th>11</th>\n",
       "      <td>0.55</td>\n",
       "      <td>AllD</td>\n",
       "      <td>0.4980</td>\n",
       "    </tr>\n",
       "    <tr>\n",
       "      <th>12</th>\n",
       "      <td>0.60</td>\n",
       "      <td>AllD</td>\n",
       "      <td>0.3912</td>\n",
       "    </tr>\n",
       "    <tr>\n",
       "      <th>13</th>\n",
       "      <td>0.65</td>\n",
       "      <td>AllD</td>\n",
       "      <td>0.3922</td>\n",
       "    </tr>\n",
       "    <tr>\n",
       "      <th>14</th>\n",
       "      <td>0.70</td>\n",
       "      <td>AllD</td>\n",
       "      <td>0.3064</td>\n",
       "    </tr>\n",
       "    <tr>\n",
       "      <th>15</th>\n",
       "      <td>0.75</td>\n",
       "      <td>AllD</td>\n",
       "      <td>0.2378</td>\n",
       "    </tr>\n",
       "    <tr>\n",
       "      <th>16</th>\n",
       "      <td>0.80</td>\n",
       "      <td>AllD</td>\n",
       "      <td>0.1846</td>\n",
       "    </tr>\n",
       "    <tr>\n",
       "      <th>17</th>\n",
       "      <td>0.85</td>\n",
       "      <td>AllD</td>\n",
       "      <td>0.1602</td>\n",
       "    </tr>\n",
       "    <tr>\n",
       "      <th>18</th>\n",
       "      <td>0.90</td>\n",
       "      <td>AllD</td>\n",
       "      <td>0.1888</td>\n",
       "    </tr>\n",
       "    <tr>\n",
       "      <th>19</th>\n",
       "      <td>0.95</td>\n",
       "      <td>AllD</td>\n",
       "      <td>0.1492</td>\n",
       "    </tr>\n",
       "    <tr>\n",
       "      <th>20</th>\n",
       "      <td>1.00</td>\n",
       "      <td>AllD</td>\n",
       "      <td>0.9958</td>\n",
       "    </tr>\n",
       "    <tr>\n",
       "      <th>42</th>\n",
       "      <td>0.00</td>\n",
       "      <td>Disc</td>\n",
       "      <td>0.0768</td>\n",
       "    </tr>\n",
       "    <tr>\n",
       "      <th>43</th>\n",
       "      <td>0.05</td>\n",
       "      <td>Disc</td>\n",
       "      <td>0.1588</td>\n",
       "    </tr>\n",
       "    <tr>\n",
       "      <th>44</th>\n",
       "      <td>0.10</td>\n",
       "      <td>Disc</td>\n",
       "      <td>0.2386</td>\n",
       "    </tr>\n",
       "    <tr>\n",
       "      <th>45</th>\n",
       "      <td>0.15</td>\n",
       "      <td>Disc</td>\n",
       "      <td>0.2574</td>\n",
       "    </tr>\n",
       "    <tr>\n",
       "      <th>46</th>\n",
       "      <td>0.20</td>\n",
       "      <td>Disc</td>\n",
       "      <td>0.3174</td>\n",
       "    </tr>\n",
       "    <tr>\n",
       "      <th>47</th>\n",
       "      <td>0.25</td>\n",
       "      <td>Disc</td>\n",
       "      <td>0.4338</td>\n",
       "    </tr>\n",
       "    <tr>\n",
       "      <th>48</th>\n",
       "      <td>0.30</td>\n",
       "      <td>Disc</td>\n",
       "      <td>0.4206</td>\n",
       "    </tr>\n",
       "    <tr>\n",
       "      <th>49</th>\n",
       "      <td>0.35</td>\n",
       "      <td>Disc</td>\n",
       "      <td>0.4116</td>\n",
       "    </tr>\n",
       "    <tr>\n",
       "      <th>50</th>\n",
       "      <td>0.40</td>\n",
       "      <td>Disc</td>\n",
       "      <td>0.4476</td>\n",
       "    </tr>\n",
       "    <tr>\n",
       "      <th>51</th>\n",
       "      <td>0.45</td>\n",
       "      <td>Disc</td>\n",
       "      <td>0.4340</td>\n",
       "    </tr>\n",
       "    <tr>\n",
       "      <th>52</th>\n",
       "      <td>0.50</td>\n",
       "      <td>Disc</td>\n",
       "      <td>0.5370</td>\n",
       "    </tr>\n",
       "    <tr>\n",
       "      <th>53</th>\n",
       "      <td>0.55</td>\n",
       "      <td>Disc</td>\n",
       "      <td>0.4508</td>\n",
       "    </tr>\n",
       "    <tr>\n",
       "      <th>54</th>\n",
       "      <td>0.60</td>\n",
       "      <td>Disc</td>\n",
       "      <td>0.5318</td>\n",
       "    </tr>\n",
       "    <tr>\n",
       "      <th>55</th>\n",
       "      <td>0.65</td>\n",
       "      <td>Disc</td>\n",
       "      <td>0.5748</td>\n",
       "    </tr>\n",
       "    <tr>\n",
       "      <th>56</th>\n",
       "      <td>0.70</td>\n",
       "      <td>Disc</td>\n",
       "      <td>0.6578</td>\n",
       "    </tr>\n",
       "    <tr>\n",
       "      <th>57</th>\n",
       "      <td>0.75</td>\n",
       "      <td>Disc</td>\n",
       "      <td>0.7308</td>\n",
       "    </tr>\n",
       "    <tr>\n",
       "      <th>58</th>\n",
       "      <td>0.80</td>\n",
       "      <td>Disc</td>\n",
       "      <td>0.7334</td>\n",
       "    </tr>\n",
       "    <tr>\n",
       "      <th>59</th>\n",
       "      <td>0.85</td>\n",
       "      <td>Disc</td>\n",
       "      <td>0.7984</td>\n",
       "    </tr>\n",
       "    <tr>\n",
       "      <th>60</th>\n",
       "      <td>0.90</td>\n",
       "      <td>Disc</td>\n",
       "      <td>0.7532</td>\n",
       "    </tr>\n",
       "    <tr>\n",
       "      <th>61</th>\n",
       "      <td>0.95</td>\n",
       "      <td>Disc</td>\n",
       "      <td>0.8166</td>\n",
       "    </tr>\n",
       "    <tr>\n",
       "      <th>62</th>\n",
       "      <td>1.00</td>\n",
       "      <td>Disc</td>\n",
       "      <td>0.0014</td>\n",
       "    </tr>\n",
       "  </tbody>\n",
       "</table>\n",
       "</div>"
      ],
      "text/plain": [
       "    gamma strat  frequency\n",
       "0    0.00  AllD     0.8668\n",
       "1    0.05  AllD     0.7732\n",
       "2    0.10  AllD     0.6910\n",
       "3    0.15  AllD     0.6814\n",
       "4    0.20  AllD     0.6220\n",
       "5    0.25  AllD     0.5372\n",
       "6    0.30  AllD     0.5200\n",
       "7    0.35  AllD     0.5006\n",
       "8    0.40  AllD     0.5142\n",
       "9    0.45  AllD     0.5208\n",
       "10   0.50  AllD     0.4418\n",
       "11   0.55  AllD     0.4980\n",
       "12   0.60  AllD     0.3912\n",
       "13   0.65  AllD     0.3922\n",
       "14   0.70  AllD     0.3064\n",
       "15   0.75  AllD     0.2378\n",
       "16   0.80  AllD     0.1846\n",
       "17   0.85  AllD     0.1602\n",
       "18   0.90  AllD     0.1888\n",
       "19   0.95  AllD     0.1492\n",
       "20   1.00  AllD     0.9958\n",
       "42   0.00  Disc     0.0768\n",
       "43   0.05  Disc     0.1588\n",
       "44   0.10  Disc     0.2386\n",
       "45   0.15  Disc     0.2574\n",
       "46   0.20  Disc     0.3174\n",
       "47   0.25  Disc     0.4338\n",
       "48   0.30  Disc     0.4206\n",
       "49   0.35  Disc     0.4116\n",
       "50   0.40  Disc     0.4476\n",
       "51   0.45  Disc     0.4340\n",
       "52   0.50  Disc     0.5370\n",
       "53   0.55  Disc     0.4508\n",
       "54   0.60  Disc     0.5318\n",
       "55   0.65  Disc     0.5748\n",
       "56   0.70  Disc     0.6578\n",
       "57   0.75  Disc     0.7308\n",
       "58   0.80  Disc     0.7334\n",
       "59   0.85  Disc     0.7984\n",
       "60   0.90  Disc     0.7532\n",
       "61   0.95  Disc     0.8166\n",
       "62   1.00  Disc     0.0014"
      ]
     },
     "execution_count": 16,
     "metadata": {},
     "output_type": "execute_result"
    }
   ],
   "source": [
    "melted_strats = melted_strats.drop(melted_strats[melted_strats.strat==\"AllC\"].index)\n",
    "melted_strats = melted_strats.drop(melted_strats[melted_strats.strat==\"pDisc\"].index)\n",
    "melted_strats"
   ]
  },
  {
   "cell_type": "code",
   "execution_count": 41,
   "id": "9d42f8cf",
   "metadata": {},
   "outputs": [],
   "source": [
    "strat_chart = alt.Chart(melted_strats).mark_line(\n",
    "    interpolate=\"monotone\"\n",
    "    ).encode(\n",
    "        x='gamma',\n",
    "        y='frequency',\n",
    "        color=alt.Color('strat:N', scale=alt.Scale(scheme=\"dark2\"), sort='descending')\n",
    ")\n",
    "\n",
    "\n",
    "reps_chart = alt.Chart(melted_reps).mark_line(\n",
    "    #size=50,\n",
    "    #interpolate=\"monotone\",\n",
    "    strokeDash=[2,2]\n",
    ").encode(\n",
    "    x='gamma',\n",
    "    y='frequency',\n",
    "    color=alt.Color('reputation', sort='descending')\n",
    ")\n",
    "\n",
    "eps_chart = alt.Chart(melted_eps).mark_point(\n",
    "    size=50,\n",
    "    filled=True\n",
    ").encode(\n",
    "    x='gamma',\n",
    "    y='frequency',\n",
    "    shape='emotional profile:N',\n",
    "    color=alt.Color('emotional profile:N', scale=alt.Scale(scheme=\"set2\"), sort='descending')\n",
    ")"
   ]
  },
  {
   "cell_type": "code",
   "execution_count": 42,
   "id": "969fa6ca",
   "metadata": {},
   "outputs": [
    {
     "data": {
      "text/html": [
       "\n",
       "<div id=\"altair-viz-c9d6b73e15ba478e97154d36066c0150\"></div>\n",
       "<script type=\"text/javascript\">\n",
       "  var VEGA_DEBUG = (typeof VEGA_DEBUG == \"undefined\") ? {} : VEGA_DEBUG;\n",
       "  (function(spec, embedOpt){\n",
       "    let outputDiv = document.currentScript.previousElementSibling;\n",
       "    if (outputDiv.id !== \"altair-viz-c9d6b73e15ba478e97154d36066c0150\") {\n",
       "      outputDiv = document.getElementById(\"altair-viz-c9d6b73e15ba478e97154d36066c0150\");\n",
       "    }\n",
       "    const paths = {\n",
       "      \"vega\": \"https://cdn.jsdelivr.net/npm//vega@5?noext\",\n",
       "      \"vega-lib\": \"https://cdn.jsdelivr.net/npm//vega-lib?noext\",\n",
       "      \"vega-lite\": \"https://cdn.jsdelivr.net/npm//vega-lite@4.17.0?noext\",\n",
       "      \"vega-embed\": \"https://cdn.jsdelivr.net/npm//vega-embed@6?noext\",\n",
       "    };\n",
       "\n",
       "    function maybeLoadScript(lib, version) {\n",
       "      var key = `${lib.replace(\"-\", \"\")}_version`;\n",
       "      return (VEGA_DEBUG[key] == version) ?\n",
       "        Promise.resolve(paths[lib]) :\n",
       "        new Promise(function(resolve, reject) {\n",
       "          var s = document.createElement('script');\n",
       "          document.getElementsByTagName(\"head\")[0].appendChild(s);\n",
       "          s.async = true;\n",
       "          s.onload = () => {\n",
       "            VEGA_DEBUG[key] = version;\n",
       "            return resolve(paths[lib]);\n",
       "          };\n",
       "          s.onerror = () => reject(`Error loading script: ${paths[lib]}`);\n",
       "          s.src = paths[lib];\n",
       "        });\n",
       "    }\n",
       "\n",
       "    function showError(err) {\n",
       "      outputDiv.innerHTML = `<div class=\"error\" style=\"color:red;\">${err}</div>`;\n",
       "      throw err;\n",
       "    }\n",
       "\n",
       "    function displayChart(vegaEmbed) {\n",
       "      vegaEmbed(outputDiv, spec, embedOpt)\n",
       "        .catch(err => showError(`Javascript Error: ${err.message}<br>This usually means there's a typo in your chart specification. See the javascript console for the full traceback.`));\n",
       "    }\n",
       "\n",
       "    if(typeof define === \"function\" && define.amd) {\n",
       "      requirejs.config({paths});\n",
       "      require([\"vega-embed\"], displayChart, err => showError(`Error loading script: ${err.message}`));\n",
       "    } else {\n",
       "      maybeLoadScript(\"vega\", \"5\")\n",
       "        .then(() => maybeLoadScript(\"vega-lite\", \"4.17.0\"))\n",
       "        .then(() => maybeLoadScript(\"vega-embed\", \"6\"))\n",
       "        .catch(showError)\n",
       "        .then(() => displayChart(vegaEmbed));\n",
       "    }\n",
       "  })({\"config\": {\"view\": {\"continuousWidth\": 400, \"continuousHeight\": 300}}, \"layer\": [{\"data\": {\"name\": \"data-4442160ba141e9fbeaecd7beabc49964\"}, \"mark\": {\"type\": \"line\", \"interpolate\": \"monotone\"}, \"encoding\": {\"color\": {\"field\": \"strat\", \"scale\": {\"scheme\": \"dark2\"}, \"sort\": \"descending\", \"type\": \"nominal\"}, \"x\": {\"field\": \"gamma\", \"type\": \"quantitative\"}, \"y\": {\"field\": \"frequency\", \"type\": \"quantitative\"}}}, {\"data\": {\"name\": \"data-d4c8c5ae92eaac3ba71203ace8d48f26\"}, \"mark\": {\"type\": \"point\", \"filled\": true, \"size\": 50}, \"encoding\": {\"color\": {\"field\": \"emotional profile\", \"scale\": {\"scheme\": \"set2\"}, \"sort\": \"descending\", \"type\": \"nominal\"}, \"shape\": {\"field\": \"emotional profile\", \"type\": \"nominal\"}, \"x\": {\"field\": \"gamma\", \"type\": \"quantitative\"}, \"y\": {\"field\": \"frequency\", \"type\": \"quantitative\"}}}, {\"data\": {\"name\": \"data-df10d9b62634ec98cd6557e85c0103ad\"}, \"mark\": {\"type\": \"line\", \"strokeDash\": [2, 2]}, \"encoding\": {\"color\": {\"field\": \"reputation\", \"sort\": \"descending\", \"type\": \"nominal\"}, \"x\": {\"field\": \"gamma\", \"type\": \"quantitative\"}, \"y\": {\"field\": \"frequency\", \"type\": \"quantitative\"}}}], \"resolve\": {\"scale\": {\"color\": \"independent\", \"shape\": \"independent\"}}, \"$schema\": \"https://vega.github.io/schema/vega-lite/v4.17.0.json\", \"datasets\": {\"data-4442160ba141e9fbeaecd7beabc49964\": [{\"gamma\": 0.0, \"strat\": \"AllD\", \"frequency\": 0.8668000000000002}, {\"gamma\": 0.05, \"strat\": \"AllD\", \"frequency\": 0.7731999999999999}, {\"gamma\": 0.1, \"strat\": \"AllD\", \"frequency\": 0.691}, {\"gamma\": 0.15, \"strat\": \"AllD\", \"frequency\": 0.6814}, {\"gamma\": 0.2, \"strat\": \"AllD\", \"frequency\": 0.6219999999999998}, {\"gamma\": 0.25, \"strat\": \"AllD\", \"frequency\": 0.5371999999999999}, {\"gamma\": 0.3, \"strat\": \"AllD\", \"frequency\": 0.5199999999999999}, {\"gamma\": 0.35, \"strat\": \"AllD\", \"frequency\": 0.5005999999999999}, {\"gamma\": 0.4, \"strat\": \"AllD\", \"frequency\": 0.5142}, {\"gamma\": 0.45, \"strat\": \"AllD\", \"frequency\": 0.5207999999999999}, {\"gamma\": 0.5, \"strat\": \"AllD\", \"frequency\": 0.4417999999999999}, {\"gamma\": 0.55, \"strat\": \"AllD\", \"frequency\": 0.498}, {\"gamma\": 0.6, \"strat\": \"AllD\", \"frequency\": 0.3911999999999999}, {\"gamma\": 0.65, \"strat\": \"AllD\", \"frequency\": 0.39220000000000005}, {\"gamma\": 0.7, \"strat\": \"AllD\", \"frequency\": 0.30640000000000006}, {\"gamma\": 0.75, \"strat\": \"AllD\", \"frequency\": 0.2378}, {\"gamma\": 0.8, \"strat\": \"AllD\", \"frequency\": 0.18460000000000001}, {\"gamma\": 0.85, \"strat\": \"AllD\", \"frequency\": 0.1602}, {\"gamma\": 0.9, \"strat\": \"AllD\", \"frequency\": 0.18880000000000002}, {\"gamma\": 0.95, \"strat\": \"AllD\", \"frequency\": 0.1492}, {\"gamma\": 1.0, \"strat\": \"AllD\", \"frequency\": 0.9958000000000001}, {\"gamma\": 0.0, \"strat\": \"Disc\", \"frequency\": 0.0768}, {\"gamma\": 0.05, \"strat\": \"Disc\", \"frequency\": 0.15879999999999997}, {\"gamma\": 0.1, \"strat\": \"Disc\", \"frequency\": 0.23860000000000003}, {\"gamma\": 0.15, \"strat\": \"Disc\", \"frequency\": 0.25739999999999996}, {\"gamma\": 0.2, \"strat\": \"Disc\", \"frequency\": 0.31739999999999996}, {\"gamma\": 0.25, \"strat\": \"Disc\", \"frequency\": 0.4338}, {\"gamma\": 0.3, \"strat\": \"Disc\", \"frequency\": 0.42060000000000003}, {\"gamma\": 0.35, \"strat\": \"Disc\", \"frequency\": 0.4116}, {\"gamma\": 0.4, \"strat\": \"Disc\", \"frequency\": 0.4476}, {\"gamma\": 0.45, \"strat\": \"Disc\", \"frequency\": 0.434}, {\"gamma\": 0.5, \"strat\": \"Disc\", \"frequency\": 0.537}, {\"gamma\": 0.55, \"strat\": \"Disc\", \"frequency\": 0.4508}, {\"gamma\": 0.6, \"strat\": \"Disc\", \"frequency\": 0.5318}, {\"gamma\": 0.65, \"strat\": \"Disc\", \"frequency\": 0.5747999999999999}, {\"gamma\": 0.7, \"strat\": \"Disc\", \"frequency\": 0.6577999999999998}, {\"gamma\": 0.75, \"strat\": \"Disc\", \"frequency\": 0.7308}, {\"gamma\": 0.8, \"strat\": \"Disc\", \"frequency\": 0.7333999999999999}, {\"gamma\": 0.85, \"strat\": \"Disc\", \"frequency\": 0.7983999999999999}, {\"gamma\": 0.9, \"strat\": \"Disc\", \"frequency\": 0.7532000000000001}, {\"gamma\": 0.95, \"strat\": \"Disc\", \"frequency\": 0.8165999999999998}, {\"gamma\": 1.0, \"strat\": \"Disc\", \"frequency\": 0.0014000000000000002}], \"data-d4c8c5ae92eaac3ba71203ace8d48f26\": [{\"gamma\": 0.0, \"emotional profile\": \"Cooperative EP\", \"frequency\": 0.5589999999999999}, {\"gamma\": 0.05, \"emotional profile\": \"Cooperative EP\", \"frequency\": 0.4864}, {\"gamma\": 0.1, \"emotional profile\": \"Cooperative EP\", \"frequency\": 0.55}, {\"gamma\": 0.15, \"emotional profile\": \"Cooperative EP\", \"frequency\": 0.5317999999999999}, {\"gamma\": 0.2, \"emotional profile\": \"Cooperative EP\", \"frequency\": 0.579}, {\"gamma\": 0.25, \"emotional profile\": \"Cooperative EP\", \"frequency\": 0.6648000000000001}, {\"gamma\": 0.3, \"emotional profile\": \"Cooperative EP\", \"frequency\": 0.691}, {\"gamma\": 0.35, \"emotional profile\": \"Cooperative EP\", \"frequency\": 0.6255999999999999}, {\"gamma\": 0.4, \"emotional profile\": \"Cooperative EP\", \"frequency\": 0.708}, {\"gamma\": 0.45, \"emotional profile\": \"Cooperative EP\", \"frequency\": 0.7128}, {\"gamma\": 0.5, \"emotional profile\": \"Cooperative EP\", \"frequency\": 0.7658000000000001}, {\"gamma\": 0.55, \"emotional profile\": \"Cooperative EP\", \"frequency\": 0.6925999999999999}, {\"gamma\": 0.6, \"emotional profile\": \"Cooperative EP\", \"frequency\": 0.7541999999999999}, {\"gamma\": 0.65, \"emotional profile\": \"Cooperative EP\", \"frequency\": 0.8052000000000001}, {\"gamma\": 0.7, \"emotional profile\": \"Cooperative EP\", \"frequency\": 0.8166}, {\"gamma\": 0.75, \"emotional profile\": \"Cooperative EP\", \"frequency\": 0.8126000000000001}, {\"gamma\": 0.8, \"emotional profile\": \"Cooperative EP\", \"frequency\": 0.8738000000000001}, {\"gamma\": 0.85, \"emotional profile\": \"Cooperative EP\", \"frequency\": 0.9119999999999999}, {\"gamma\": 0.9, \"emotional profile\": \"Cooperative EP\", \"frequency\": 0.9233999999999999}, {\"gamma\": 0.95, \"emotional profile\": \"Cooperative EP\", \"frequency\": 0.9431999999999999}, {\"gamma\": 1.0, \"emotional profile\": \"Cooperative EP\", \"frequency\": 0.489}, {\"gamma\": 0.0, \"emotional profile\": \"Competitive EP\", \"frequency\": 0.441}, {\"gamma\": 0.05, \"emotional profile\": \"Competitive EP\", \"frequency\": 0.5136}, {\"gamma\": 0.1, \"emotional profile\": \"Competitive EP\", \"frequency\": 0.44999999999999984}, {\"gamma\": 0.15, \"emotional profile\": \"Competitive EP\", \"frequency\": 0.46820000000000006}, {\"gamma\": 0.2, \"emotional profile\": \"Competitive EP\", \"frequency\": 0.4210000000000001}, {\"gamma\": 0.25, \"emotional profile\": \"Competitive EP\", \"frequency\": 0.33519999999999994}, {\"gamma\": 0.3, \"emotional profile\": \"Competitive EP\", \"frequency\": 0.309}, {\"gamma\": 0.35, \"emotional profile\": \"Competitive EP\", \"frequency\": 0.3743999999999999}, {\"gamma\": 0.4, \"emotional profile\": \"Competitive EP\", \"frequency\": 0.2919999999999999}, {\"gamma\": 0.45, \"emotional profile\": \"Competitive EP\", \"frequency\": 0.28719999999999996}, {\"gamma\": 0.5, \"emotional profile\": \"Competitive EP\", \"frequency\": 0.2342}, {\"gamma\": 0.55, \"emotional profile\": \"Competitive EP\", \"frequency\": 0.3074}, {\"gamma\": 0.6, \"emotional profile\": \"Competitive EP\", \"frequency\": 0.2458}, {\"gamma\": 0.65, \"emotional profile\": \"Competitive EP\", \"frequency\": 0.1948}, {\"gamma\": 0.7, \"emotional profile\": \"Competitive EP\", \"frequency\": 0.1834}, {\"gamma\": 0.75, \"emotional profile\": \"Competitive EP\", \"frequency\": 0.18739999999999996}, {\"gamma\": 0.8, \"emotional profile\": \"Competitive EP\", \"frequency\": 0.12619999999999998}, {\"gamma\": 0.85, \"emotional profile\": \"Competitive EP\", \"frequency\": 0.08799999999999995}, {\"gamma\": 0.9, \"emotional profile\": \"Competitive EP\", \"frequency\": 0.07659999999999999}, {\"gamma\": 0.95, \"emotional profile\": \"Competitive EP\", \"frequency\": 0.0568}, {\"gamma\": 1.0, \"emotional profile\": \"Competitive EP\", \"frequency\": 0.5110000000000001}], \"data-df10d9b62634ec98cd6557e85c0103ad\": [{\"gamma\": 0.0, \"reputation\": \"good\", \"frequency\": 0.10179999999999995}, {\"gamma\": 0.05, \"reputation\": \"good\", \"frequency\": 0.19599999999999987}, {\"gamma\": 0.1, \"reputation\": \"good\", \"frequency\": 0.2715999999999999}, {\"gamma\": 0.15, \"reputation\": \"good\", \"frequency\": 0.2722}, {\"gamma\": 0.2, \"reputation\": \"good\", \"frequency\": 0.3608}, {\"gamma\": 0.25, \"reputation\": \"good\", \"frequency\": 0.4378}, {\"gamma\": 0.3, \"reputation\": \"good\", \"frequency\": 0.4642000000000001}, {\"gamma\": 0.35, \"reputation\": \"good\", \"frequency\": 0.42560000000000003}, {\"gamma\": 0.4, \"reputation\": \"good\", \"frequency\": 0.4619999999999999}, {\"gamma\": 0.45, \"reputation\": \"good\", \"frequency\": 0.4576000000000001}, {\"gamma\": 0.5, \"reputation\": \"good\", \"frequency\": 0.5504000000000001}, {\"gamma\": 0.55, \"reputation\": \"good\", \"frequency\": 0.49660000000000004}, {\"gamma\": 0.6, \"reputation\": \"good\", \"frequency\": 0.5952000000000001}, {\"gamma\": 0.65, \"reputation\": \"good\", \"frequency\": 0.5876}, {\"gamma\": 0.7, \"reputation\": \"good\", \"frequency\": 0.6839999999999996}, {\"gamma\": 0.75, \"reputation\": \"good\", \"frequency\": 0.7574}, {\"gamma\": 0.8, \"reputation\": \"good\", \"frequency\": 0.8002000000000001}, {\"gamma\": 0.85, \"reputation\": \"good\", \"frequency\": 0.8343999999999998}, {\"gamma\": 0.9, \"reputation\": \"good\", \"frequency\": 0.8070000000000002}, {\"gamma\": 0.95, \"reputation\": \"good\", \"frequency\": 0.8562000000000001}, {\"gamma\": 1.0, \"reputation\": \"good\", \"frequency\": 0.5775999999999999}, {\"gamma\": 0.0, \"reputation\": \"bad\", \"frequency\": 0.8982000000000002}, {\"gamma\": 0.05, \"reputation\": \"bad\", \"frequency\": 0.8039999999999999}, {\"gamma\": 0.1, \"reputation\": \"bad\", \"frequency\": 0.7283999999999999}, {\"gamma\": 0.15, \"reputation\": \"bad\", \"frequency\": 0.7278}, {\"gamma\": 0.2, \"reputation\": \"bad\", \"frequency\": 0.6391999999999999}, {\"gamma\": 0.25, \"reputation\": \"bad\", \"frequency\": 0.5621999999999999}, {\"gamma\": 0.3, \"reputation\": \"bad\", \"frequency\": 0.5357999999999998}, {\"gamma\": 0.35, \"reputation\": \"bad\", \"frequency\": 0.5744}, {\"gamma\": 0.4, \"reputation\": \"bad\", \"frequency\": 0.5379999999999999}, {\"gamma\": 0.45, \"reputation\": \"bad\", \"frequency\": 0.5423999999999998}, {\"gamma\": 0.5, \"reputation\": \"bad\", \"frequency\": 0.4495999999999999}, {\"gamma\": 0.55, \"reputation\": \"bad\", \"frequency\": 0.5034}, {\"gamma\": 0.6, \"reputation\": \"bad\", \"frequency\": 0.4048}, {\"gamma\": 0.65, \"reputation\": \"bad\", \"frequency\": 0.4123999999999999}, {\"gamma\": 0.7, \"reputation\": \"bad\", \"frequency\": 0.31599999999999995}, {\"gamma\": 0.75, \"reputation\": \"bad\", \"frequency\": 0.24259999999999995}, {\"gamma\": 0.8, \"reputation\": \"bad\", \"frequency\": 0.19979999999999998}, {\"gamma\": 0.85, \"reputation\": \"bad\", \"frequency\": 0.1656}, {\"gamma\": 0.9, \"reputation\": \"bad\", \"frequency\": 0.193}, {\"gamma\": 0.95, \"reputation\": \"bad\", \"frequency\": 0.14379999999999993}, {\"gamma\": 1.0, \"reputation\": \"bad\", \"frequency\": 0.4224000000000002}]}}, {\"mode\": \"vega-lite\"});\n",
       "</script>"
      ],
      "text/plain": [
       "alt.LayerChart(...)"
      ]
     },
     "execution_count": 42,
     "metadata": {},
     "output_type": "execute_result"
    }
   ],
   "source": [
    "(strat_chart + eps_chart + reps_chart).resolve_scale(color='independent', shape='independent')"
   ]
  },
  {
   "cell_type": "code",
   "execution_count": 28,
   "id": "7718e643",
   "metadata": {},
   "outputs": [
    {
     "data": {
      "text/html": [
       "\n",
       "<div id=\"altair-viz-eb2a20a3139249938a1f0272fa1154ca\"></div>\n",
       "<script type=\"text/javascript\">\n",
       "  var VEGA_DEBUG = (typeof VEGA_DEBUG == \"undefined\") ? {} : VEGA_DEBUG;\n",
       "  (function(spec, embedOpt){\n",
       "    let outputDiv = document.currentScript.previousElementSibling;\n",
       "    if (outputDiv.id !== \"altair-viz-eb2a20a3139249938a1f0272fa1154ca\") {\n",
       "      outputDiv = document.getElementById(\"altair-viz-eb2a20a3139249938a1f0272fa1154ca\");\n",
       "    }\n",
       "    const paths = {\n",
       "      \"vega\": \"https://cdn.jsdelivr.net/npm//vega@5?noext\",\n",
       "      \"vega-lib\": \"https://cdn.jsdelivr.net/npm//vega-lib?noext\",\n",
       "      \"vega-lite\": \"https://cdn.jsdelivr.net/npm//vega-lite@4.17.0?noext\",\n",
       "      \"vega-embed\": \"https://cdn.jsdelivr.net/npm//vega-embed@6?noext\",\n",
       "    };\n",
       "\n",
       "    function maybeLoadScript(lib, version) {\n",
       "      var key = `${lib.replace(\"-\", \"\")}_version`;\n",
       "      return (VEGA_DEBUG[key] == version) ?\n",
       "        Promise.resolve(paths[lib]) :\n",
       "        new Promise(function(resolve, reject) {\n",
       "          var s = document.createElement('script');\n",
       "          document.getElementsByTagName(\"head\")[0].appendChild(s);\n",
       "          s.async = true;\n",
       "          s.onload = () => {\n",
       "            VEGA_DEBUG[key] = version;\n",
       "            return resolve(paths[lib]);\n",
       "          };\n",
       "          s.onerror = () => reject(`Error loading script: ${paths[lib]}`);\n",
       "          s.src = paths[lib];\n",
       "        });\n",
       "    }\n",
       "\n",
       "    function showError(err) {\n",
       "      outputDiv.innerHTML = `<div class=\"error\" style=\"color:red;\">${err}</div>`;\n",
       "      throw err;\n",
       "    }\n",
       "\n",
       "    function displayChart(vegaEmbed) {\n",
       "      vegaEmbed(outputDiv, spec, embedOpt)\n",
       "        .catch(err => showError(`Javascript Error: ${err.message}<br>This usually means there's a typo in your chart specification. See the javascript console for the full traceback.`));\n",
       "    }\n",
       "\n",
       "    if(typeof define === \"function\" && define.amd) {\n",
       "      requirejs.config({paths});\n",
       "      require([\"vega-embed\"], displayChart, err => showError(`Error loading script: ${err.message}`));\n",
       "    } else {\n",
       "      maybeLoadScript(\"vega\", \"5\")\n",
       "        .then(() => maybeLoadScript(\"vega-lite\", \"4.17.0\"))\n",
       "        .then(() => maybeLoadScript(\"vega-embed\", \"6\"))\n",
       "        .catch(showError)\n",
       "        .then(() => displayChart(vegaEmbed));\n",
       "    }\n",
       "  })({\"config\": {\"view\": {\"continuousWidth\": 400, \"continuousHeight\": 300}}, \"layer\": [{\"data\": {\"name\": \"data-4442160ba141e9fbeaecd7beabc49964\"}, \"mark\": {\"type\": \"line\", \"interpolate\": \"monotone\"}, \"encoding\": {\"color\": {\"field\": \"strat\", \"scale\": {\"scheme\": \"dark2\"}, \"sort\": \"descending\", \"type\": \"nominal\"}, \"x\": {\"field\": \"gamma\", \"type\": \"quantitative\"}, \"y\": {\"field\": \"frequency\", \"type\": \"quantitative\"}}}, {\"data\": {\"name\": \"data-df10d9b62634ec98cd6557e85c0103ad\"}, \"mark\": {\"type\": \"point\", \"size\": 50}, \"encoding\": {\"color\": {\"field\": \"reputation\", \"type\": \"nominal\"}, \"shape\": {\"field\": \"reputation\", \"type\": \"nominal\"}, \"x\": {\"field\": \"gamma\", \"type\": \"quantitative\"}, \"y\": {\"field\": \"frequency\", \"type\": \"quantitative\"}}}], \"$schema\": \"https://vega.github.io/schema/vega-lite/v4.17.0.json\", \"datasets\": {\"data-4442160ba141e9fbeaecd7beabc49964\": [{\"gamma\": 0.0, \"strat\": \"AllD\", \"frequency\": 0.8668000000000002}, {\"gamma\": 0.05, \"strat\": \"AllD\", \"frequency\": 0.7731999999999999}, {\"gamma\": 0.1, \"strat\": \"AllD\", \"frequency\": 0.691}, {\"gamma\": 0.15, \"strat\": \"AllD\", \"frequency\": 0.6814}, {\"gamma\": 0.2, \"strat\": \"AllD\", \"frequency\": 0.6219999999999998}, {\"gamma\": 0.25, \"strat\": \"AllD\", \"frequency\": 0.5371999999999999}, {\"gamma\": 0.3, \"strat\": \"AllD\", \"frequency\": 0.5199999999999999}, {\"gamma\": 0.35, \"strat\": \"AllD\", \"frequency\": 0.5005999999999999}, {\"gamma\": 0.4, \"strat\": \"AllD\", \"frequency\": 0.5142}, {\"gamma\": 0.45, \"strat\": \"AllD\", \"frequency\": 0.5207999999999999}, {\"gamma\": 0.5, \"strat\": \"AllD\", \"frequency\": 0.4417999999999999}, {\"gamma\": 0.55, \"strat\": \"AllD\", \"frequency\": 0.498}, {\"gamma\": 0.6, \"strat\": \"AllD\", \"frequency\": 0.3911999999999999}, {\"gamma\": 0.65, \"strat\": \"AllD\", \"frequency\": 0.39220000000000005}, {\"gamma\": 0.7, \"strat\": \"AllD\", \"frequency\": 0.30640000000000006}, {\"gamma\": 0.75, \"strat\": \"AllD\", \"frequency\": 0.2378}, {\"gamma\": 0.8, \"strat\": \"AllD\", \"frequency\": 0.18460000000000001}, {\"gamma\": 0.85, \"strat\": \"AllD\", \"frequency\": 0.1602}, {\"gamma\": 0.9, \"strat\": \"AllD\", \"frequency\": 0.18880000000000002}, {\"gamma\": 0.95, \"strat\": \"AllD\", \"frequency\": 0.1492}, {\"gamma\": 1.0, \"strat\": \"AllD\", \"frequency\": 0.9958000000000001}, {\"gamma\": 0.0, \"strat\": \"Disc\", \"frequency\": 0.0768}, {\"gamma\": 0.05, \"strat\": \"Disc\", \"frequency\": 0.15879999999999997}, {\"gamma\": 0.1, \"strat\": \"Disc\", \"frequency\": 0.23860000000000003}, {\"gamma\": 0.15, \"strat\": \"Disc\", \"frequency\": 0.25739999999999996}, {\"gamma\": 0.2, \"strat\": \"Disc\", \"frequency\": 0.31739999999999996}, {\"gamma\": 0.25, \"strat\": \"Disc\", \"frequency\": 0.4338}, {\"gamma\": 0.3, \"strat\": \"Disc\", \"frequency\": 0.42060000000000003}, {\"gamma\": 0.35, \"strat\": \"Disc\", \"frequency\": 0.4116}, {\"gamma\": 0.4, \"strat\": \"Disc\", \"frequency\": 0.4476}, {\"gamma\": 0.45, \"strat\": \"Disc\", \"frequency\": 0.434}, {\"gamma\": 0.5, \"strat\": \"Disc\", \"frequency\": 0.537}, {\"gamma\": 0.55, \"strat\": \"Disc\", \"frequency\": 0.4508}, {\"gamma\": 0.6, \"strat\": \"Disc\", \"frequency\": 0.5318}, {\"gamma\": 0.65, \"strat\": \"Disc\", \"frequency\": 0.5747999999999999}, {\"gamma\": 0.7, \"strat\": \"Disc\", \"frequency\": 0.6577999999999998}, {\"gamma\": 0.75, \"strat\": \"Disc\", \"frequency\": 0.7308}, {\"gamma\": 0.8, \"strat\": \"Disc\", \"frequency\": 0.7333999999999999}, {\"gamma\": 0.85, \"strat\": \"Disc\", \"frequency\": 0.7983999999999999}, {\"gamma\": 0.9, \"strat\": \"Disc\", \"frequency\": 0.7532000000000001}, {\"gamma\": 0.95, \"strat\": \"Disc\", \"frequency\": 0.8165999999999998}, {\"gamma\": 1.0, \"strat\": \"Disc\", \"frequency\": 0.0014000000000000002}], \"data-df10d9b62634ec98cd6557e85c0103ad\": [{\"gamma\": 0.0, \"reputation\": \"good\", \"frequency\": 0.10179999999999995}, {\"gamma\": 0.05, \"reputation\": \"good\", \"frequency\": 0.19599999999999987}, {\"gamma\": 0.1, \"reputation\": \"good\", \"frequency\": 0.2715999999999999}, {\"gamma\": 0.15, \"reputation\": \"good\", \"frequency\": 0.2722}, {\"gamma\": 0.2, \"reputation\": \"good\", \"frequency\": 0.3608}, {\"gamma\": 0.25, \"reputation\": \"good\", \"frequency\": 0.4378}, {\"gamma\": 0.3, \"reputation\": \"good\", \"frequency\": 0.4642000000000001}, {\"gamma\": 0.35, \"reputation\": \"good\", \"frequency\": 0.42560000000000003}, {\"gamma\": 0.4, \"reputation\": \"good\", \"frequency\": 0.4619999999999999}, {\"gamma\": 0.45, \"reputation\": \"good\", \"frequency\": 0.4576000000000001}, {\"gamma\": 0.5, \"reputation\": \"good\", \"frequency\": 0.5504000000000001}, {\"gamma\": 0.55, \"reputation\": \"good\", \"frequency\": 0.49660000000000004}, {\"gamma\": 0.6, \"reputation\": \"good\", \"frequency\": 0.5952000000000001}, {\"gamma\": 0.65, \"reputation\": \"good\", \"frequency\": 0.5876}, {\"gamma\": 0.7, \"reputation\": \"good\", \"frequency\": 0.6839999999999996}, {\"gamma\": 0.75, \"reputation\": \"good\", \"frequency\": 0.7574}, {\"gamma\": 0.8, \"reputation\": \"good\", \"frequency\": 0.8002000000000001}, {\"gamma\": 0.85, \"reputation\": \"good\", \"frequency\": 0.8343999999999998}, {\"gamma\": 0.9, \"reputation\": \"good\", \"frequency\": 0.8070000000000002}, {\"gamma\": 0.95, \"reputation\": \"good\", \"frequency\": 0.8562000000000001}, {\"gamma\": 1.0, \"reputation\": \"good\", \"frequency\": 0.5775999999999999}, {\"gamma\": 0.0, \"reputation\": \"bad\", \"frequency\": 0.8982000000000002}, {\"gamma\": 0.05, \"reputation\": \"bad\", \"frequency\": 0.8039999999999999}, {\"gamma\": 0.1, \"reputation\": \"bad\", \"frequency\": 0.7283999999999999}, {\"gamma\": 0.15, \"reputation\": \"bad\", \"frequency\": 0.7278}, {\"gamma\": 0.2, \"reputation\": \"bad\", \"frequency\": 0.6391999999999999}, {\"gamma\": 0.25, \"reputation\": \"bad\", \"frequency\": 0.5621999999999999}, {\"gamma\": 0.3, \"reputation\": \"bad\", \"frequency\": 0.5357999999999998}, {\"gamma\": 0.35, \"reputation\": \"bad\", \"frequency\": 0.5744}, {\"gamma\": 0.4, \"reputation\": \"bad\", \"frequency\": 0.5379999999999999}, {\"gamma\": 0.45, \"reputation\": \"bad\", \"frequency\": 0.5423999999999998}, {\"gamma\": 0.5, \"reputation\": \"bad\", \"frequency\": 0.4495999999999999}, {\"gamma\": 0.55, \"reputation\": \"bad\", \"frequency\": 0.5034}, {\"gamma\": 0.6, \"reputation\": \"bad\", \"frequency\": 0.4048}, {\"gamma\": 0.65, \"reputation\": \"bad\", \"frequency\": 0.4123999999999999}, {\"gamma\": 0.7, \"reputation\": \"bad\", \"frequency\": 0.31599999999999995}, {\"gamma\": 0.75, \"reputation\": \"bad\", \"frequency\": 0.24259999999999995}, {\"gamma\": 0.8, \"reputation\": \"bad\", \"frequency\": 0.19979999999999998}, {\"gamma\": 0.85, \"reputation\": \"bad\", \"frequency\": 0.1656}, {\"gamma\": 0.9, \"reputation\": \"bad\", \"frequency\": 0.193}, {\"gamma\": 0.95, \"reputation\": \"bad\", \"frequency\": 0.14379999999999993}, {\"gamma\": 1.0, \"reputation\": \"bad\", \"frequency\": 0.4224000000000002}]}}, {\"mode\": \"vega-lite\"});\n",
       "</script>"
      ],
      "text/plain": [
       "alt.LayerChart(...)"
      ]
     },
     "execution_count": 28,
     "metadata": {},
     "output_type": "execute_result"
    }
   ],
   "source": [
    "strat_chart + reps_chart"
   ]
  },
  {
   "cell_type": "code",
   "execution_count": 20,
   "id": "50e4e124",
   "metadata": {},
   "outputs": [],
   "source": [
    "def param_heatmap(chosen_parameter: str, feature: str, norm: str):\n",
    "    data = load_and_process()\n",
    "\n",
    "    # Initial filtering\n",
    "    filtered = filter(data, \"z\", 50)\n",
    "    filtered = filter(filtered, \"eps\", 0.00002) if chosen_parameter != \"eps\" else filtered\n",
    "    filtered = filter(filtered, \"chi\", 0.00002) if chosen_parameter != \"chi\" else filtered\n",
    "    filtered = filter(filtered, \"alpha\", 0.00002) if chosen_parameter != \"alpha\" else filtered\n",
    "    \n",
    "    filtered = filter(filtered, \"EBNorm\", norm)\n",
    "\n",
    "    # Define columns based on the chosen parameter\n",
    "    new_cols = [\"gamma\", chosen_parameter, \"value\"]\n",
    "    new_df = pd.DataFrame(columns=new_cols)\n",
    "\n",
    "    #gammas = [round(a, 2) for a in np.arange(0.9, 1.01, 0.01)]\n",
    "    gammas = filtered.gamma.unique()\n",
    "\n",
    "    # Define values based on the chosen parameter\n",
    "    parameter_values = [0.00002, 0.0002, 0.002, 0.02, 0.2]\n",
    "\n",
    "    for gamma in gammas:\n",
    "        for parameter_value in parameter_values:\n",
    "            super_filtered = filtered[(filtered.gamma == gamma) & (filtered[chosen_parameter] == parameter_value)]\n",
    "\n",
    "            feature_mean: float = super_filtered[feature].mean()\n",
    "\n",
    "            new_df.loc[len(new_df)] = [gamma, parameter_value, feature_mean]\n",
    "\n",
    "    # Define feature for Altair chart\n",
    "    view_feature = \"value:Q\"\n",
    "\n",
    "    # Create Altair chart\n",
    "    heatmap = alt.Chart(new_df).mark_rect().encode(\n",
    "        x=f\"{chosen_parameter}:O\",\n",
    "        y=alt.Y('gamma:O', sort=alt.EncodingSortField('gamma', order='descending')),\n",
    "        color=alt.Color(view_feature, scale=alt.Scale(domain=[0, 1], scheme='blueorange'), sort=\"ascending\")\n",
    "    ).properties(\n",
    "        height=400,\n",
    "        width=400,\n",
    "        title=chosen_parameter + \" x \" + feature + \" x \" + norm\n",
    "    )\n",
    "\n",
    "    # Add text annotations to the chart\n",
    "    text = heatmap.mark_text().encode(\n",
    "        text=alt.Text(view_feature, format=\".2f\"),\n",
    "        color=alt.value('black')\n",
    "    )\n",
    "\n",
    "    # Display the chart with text annotations\n",
    "    #heatmap + text\n",
    "    return new_df, (heatmap + text)"
   ]
  },
  {
   "cell_type": "code",
   "execution_count": 21,
   "id": "09d4764c",
   "metadata": {
    "scrolled": true
   },
   "outputs": [
    {
     "data": {
      "text/html": [
       "\n",
       "<div id=\"altair-viz-fe52ac3c09754f988321084e296da80a\"></div>\n",
       "<script type=\"text/javascript\">\n",
       "  var VEGA_DEBUG = (typeof VEGA_DEBUG == \"undefined\") ? {} : VEGA_DEBUG;\n",
       "  (function(spec, embedOpt){\n",
       "    let outputDiv = document.currentScript.previousElementSibling;\n",
       "    if (outputDiv.id !== \"altair-viz-fe52ac3c09754f988321084e296da80a\") {\n",
       "      outputDiv = document.getElementById(\"altair-viz-fe52ac3c09754f988321084e296da80a\");\n",
       "    }\n",
       "    const paths = {\n",
       "      \"vega\": \"https://cdn.jsdelivr.net/npm//vega@5?noext\",\n",
       "      \"vega-lib\": \"https://cdn.jsdelivr.net/npm//vega-lib?noext\",\n",
       "      \"vega-lite\": \"https://cdn.jsdelivr.net/npm//vega-lite@4.17.0?noext\",\n",
       "      \"vega-embed\": \"https://cdn.jsdelivr.net/npm//vega-embed@6?noext\",\n",
       "    };\n",
       "\n",
       "    function maybeLoadScript(lib, version) {\n",
       "      var key = `${lib.replace(\"-\", \"\")}_version`;\n",
       "      return (VEGA_DEBUG[key] == version) ?\n",
       "        Promise.resolve(paths[lib]) :\n",
       "        new Promise(function(resolve, reject) {\n",
       "          var s = document.createElement('script');\n",
       "          document.getElementsByTagName(\"head\")[0].appendChild(s);\n",
       "          s.async = true;\n",
       "          s.onload = () => {\n",
       "            VEGA_DEBUG[key] = version;\n",
       "            return resolve(paths[lib]);\n",
       "          };\n",
       "          s.onerror = () => reject(`Error loading script: ${paths[lib]}`);\n",
       "          s.src = paths[lib];\n",
       "        });\n",
       "    }\n",
       "\n",
       "    function showError(err) {\n",
       "      outputDiv.innerHTML = `<div class=\"error\" style=\"color:red;\">${err}</div>`;\n",
       "      throw err;\n",
       "    }\n",
       "\n",
       "    function displayChart(vegaEmbed) {\n",
       "      vegaEmbed(outputDiv, spec, embedOpt)\n",
       "        .catch(err => showError(`Javascript Error: ${err.message}<br>This usually means there's a typo in your chart specification. See the javascript console for the full traceback.`));\n",
       "    }\n",
       "\n",
       "    if(typeof define === \"function\" && define.amd) {\n",
       "      requirejs.config({paths});\n",
       "      require([\"vega-embed\"], displayChart, err => showError(`Error loading script: ${err.message}`));\n",
       "    } else {\n",
       "      maybeLoadScript(\"vega\", \"5\")\n",
       "        .then(() => maybeLoadScript(\"vega-lite\", \"4.17.0\"))\n",
       "        .then(() => maybeLoadScript(\"vega-embed\", \"6\"))\n",
       "        .catch(showError)\n",
       "        .then(() => displayChart(vegaEmbed));\n",
       "    }\n",
       "  })({\"config\": {\"view\": {\"continuousWidth\": 400, \"continuousHeight\": 300}}, \"layer\": [{\"mark\": \"rect\", \"encoding\": {\"color\": {\"field\": \"value\", \"scale\": {\"domain\": [0, 1], \"scheme\": \"blueorange\"}, \"sort\": \"ascending\", \"type\": \"quantitative\"}, \"x\": {\"field\": \"alpha\", \"type\": \"ordinal\"}, \"y\": {\"field\": \"gamma\", \"sort\": {\"field\": \"gamma\", \"order\": \"descending\"}, \"type\": \"ordinal\"}}, \"height\": 400, \"title\": \"alpha x AllD x IS Empirical\", \"width\": 400}, {\"mark\": \"text\", \"encoding\": {\"color\": {\"value\": \"black\"}, \"text\": {\"field\": \"value\", \"format\": \".2f\", \"type\": \"quantitative\"}, \"x\": {\"field\": \"alpha\", \"type\": \"ordinal\"}, \"y\": {\"field\": \"gamma\", \"sort\": {\"field\": \"gamma\", \"order\": \"descending\"}, \"type\": \"ordinal\"}}, \"height\": 400, \"title\": \"alpha x AllD x IS Empirical\", \"width\": 400}], \"data\": {\"name\": \"data-d751713988987e9331980363e24189ce\"}, \"$schema\": \"https://vega.github.io/schema/vega-lite/v4.17.0.json\", \"datasets\": {\"data-d751713988987e9331980363e24189ce\": []}}, {\"mode\": \"vega-lite\"});\n",
       "</script>"
      ],
      "text/plain": [
       "alt.LayerChart(...)"
      ]
     },
     "execution_count": 21,
     "metadata": {},
     "output_type": "execute_result"
    }
   ],
   "source": [
    "d, c = param_heatmap(\"alpha\", \"AllD\", \"IS Empirical\")\n",
    "c"
   ]
  },
  {
   "cell_type": "code",
   "execution_count": null,
   "id": "8f6d5166",
   "metadata": {},
   "outputs": [],
   "source": []
  },
  {
   "cell_type": "code",
   "execution_count": null,
   "id": "a4e88537",
   "metadata": {},
   "outputs": [],
   "source": []
  },
  {
   "cell_type": "code",
   "execution_count": null,
   "id": "4a34cbfd",
   "metadata": {},
   "outputs": [],
   "source": []
  }
 ],
 "metadata": {
  "kernelspec": {
   "display_name": "Python 3 (ipykernel)",
   "language": "python",
   "name": "python3"
  },
  "language_info": {
   "codemirror_mode": {
    "name": "ipython",
    "version": 3
   },
   "file_extension": ".py",
   "mimetype": "text/x-python",
   "name": "python",
   "nbconvert_exporter": "python",
   "pygments_lexer": "ipython3",
   "version": "3.9.13"
  }
 },
 "nbformat": 4,
 "nbformat_minor": 5
}
